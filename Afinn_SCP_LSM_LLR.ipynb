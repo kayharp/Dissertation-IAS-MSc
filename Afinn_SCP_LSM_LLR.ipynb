{
 "cells": [
  {
   "cell_type": "markdown",
   "metadata": {},
   "source": [
    "# Afinn Sentiment Calculations\n",
    "\n",
    "This notebook was used to generate sentiment tags for tweet messages and apply the alignment measures to Afinn tags. "
   ]
  },
  {
   "cell_type": "code",
   "execution_count": 1,
   "metadata": {},
   "outputs": [],
   "source": [
    "import pandas as pd\n",
    "import sys\n",
    "import csv\n",
    "import numpy as np\n",
    "import matplotlib.pyplot as plt\n",
    "%matplotlib inline\n",
    "import random\n",
    "import re\n",
    "import seaborn as sns \n",
    "from collections import Counter\n",
    "\n",
    "from afinn import Afinn\n",
    "\n",
    "# Import the SCP and LLR code\n",
    "import SCP_Code as scp\n",
    "import FunctionsForLLR as llr"
   ]
  },
  {
   "cell_type": "code",
   "execution_count": 3,
   "metadata": {},
   "outputs": [],
   "source": [
    "# Import tag data\n",
    "\n",
    "tagdataA = pd.read_csv('A_Tweets_Tagged.txt', sep='\\t', header=None)\n",
    "tagdataA.columns = ['Tokens', 'Tags', 'Conf','Raw Tweet']\n",
    "tagdataB = pd.read_csv('B_Tweets_Tagged.txt', sep='\\t', header=None)\n",
    "tagdataB.columns = ['Tokens', 'Tags', 'Conf','Raw Tweet']"
   ]
  },
  {
   "cell_type": "code",
   "execution_count": 8,
   "metadata": {},
   "outputs": [],
   "source": [
    "# Function to generate Afinn sentiment tags for each tweet set\n",
    "\n",
    "def getAfinnSentiment(tweetset):\n",
    "    afinn = Afinn(emoticons=True) # Set emoticons to true because Twitter domain\n",
    "    templist = [] # create empty list with which to append sentiment score of sentence/tweet\n",
    "    for tweet in tweetset: # tweetset will be dataframe['Tokens']\n",
    "        templist.append(afinn.score(tweet))\n",
    "    return templist"
   ]
  },
  {
   "cell_type": "code",
   "execution_count": 7,
   "metadata": {},
   "outputs": [],
   "source": [
    "# Fill empty tokens with word with a neutral sentiment value\n",
    "tagdataA.fillna({'Tokens':'null'}, inplace=True)\n",
    "tagdataB.fillna({'Tokens':'null'}, inplace=True)"
   ]
  },
  {
   "cell_type": "code",
   "execution_count": 9,
   "metadata": {},
   "outputs": [],
   "source": [
    "aAfinnSent = getAfinnSentiment(tagdataA.Tokens)\n",
    "bAfinnSent = getAfinnSentiment(tagdataB.Tokens)"
   ]
  },
  {
   "cell_type": "code",
   "execution_count": 10,
   "metadata": {},
   "outputs": [
    {
     "name": "stdout",
     "output_type": "stream",
     "text": [
      "326168 326167\n"
     ]
    }
   ],
   "source": [
    "print(len(aAfinnSent),len(bAfinnSent))"
   ]
  },
  {
   "cell_type": "code",
   "execution_count": 11,
   "metadata": {
    "scrolled": true
   },
   "outputs": [],
   "source": [
    "AfinnDF = pd.DataFrame(aAfinnSent)#, columns = 'A Afinn')\n",
    "AfinnDF.columns = ['ASentimentValue']"
   ]
  },
  {
   "cell_type": "code",
   "execution_count": 12,
   "metadata": {},
   "outputs": [
    {
     "data": {
      "text/html": [
       "<div>\n",
       "<style scoped>\n",
       "    .dataframe tbody tr th:only-of-type {\n",
       "        vertical-align: middle;\n",
       "    }\n",
       "\n",
       "    .dataframe tbody tr th {\n",
       "        vertical-align: top;\n",
       "    }\n",
       "\n",
       "    .dataframe thead th {\n",
       "        text-align: right;\n",
       "    }\n",
       "</style>\n",
       "<table border=\"1\" class=\"dataframe\">\n",
       "  <thead>\n",
       "    <tr style=\"text-align: right;\">\n",
       "      <th></th>\n",
       "      <th>ASentimentValue</th>\n",
       "      <th>BSentimentValue</th>\n",
       "    </tr>\n",
       "  </thead>\n",
       "  <tbody>\n",
       "    <tr>\n",
       "      <th>0</th>\n",
       "      <td>0.0</td>\n",
       "      <td>3.0</td>\n",
       "    </tr>\n",
       "    <tr>\n",
       "      <th>1</th>\n",
       "      <td>0.0</td>\n",
       "      <td>2.0</td>\n",
       "    </tr>\n",
       "    <tr>\n",
       "      <th>2</th>\n",
       "      <td>2.0</td>\n",
       "      <td>0.0</td>\n",
       "    </tr>\n",
       "    <tr>\n",
       "      <th>3</th>\n",
       "      <td>0.0</td>\n",
       "      <td>-1.0</td>\n",
       "    </tr>\n",
       "    <tr>\n",
       "      <th>4</th>\n",
       "      <td>-3.0</td>\n",
       "      <td>0.0</td>\n",
       "    </tr>\n",
       "  </tbody>\n",
       "</table>\n",
       "</div>"
      ],
      "text/plain": [
       "   ASentimentValue  BSentimentValue\n",
       "0              0.0              3.0\n",
       "1              0.0              2.0\n",
       "2              2.0              0.0\n",
       "3              0.0             -1.0\n",
       "4             -3.0              0.0"
      ]
     },
     "execution_count": 12,
     "metadata": {},
     "output_type": "execute_result"
    }
   ],
   "source": [
    "AfinnDF_b = pd.DataFrame(bAfinnSent)#, columns = 'A Afinn')\n",
    "AfinnDF_b.columns = ['BSentimentValue']\n",
    "AfinnDF['BSentimentValue'] = AfinnDF_b['BSentimentValue']\n",
    "AfinnDF.head()"
   ]
  },
  {
   "cell_type": "code",
   "execution_count": 13,
   "metadata": {},
   "outputs": [
    {
     "data": {
      "text/plain": [
       "326167"
      ]
     },
     "execution_count": 13,
     "metadata": {},
     "output_type": "execute_result"
    }
   ],
   "source": [
    "# Drop last item in dataframe because it only has a-value\n",
    "AfinnDF.drop(326167,inplace=True)\n",
    "len(AfinnDF)"
   ]
  },
  {
   "cell_type": "code",
   "execution_count": 20,
   "metadata": {},
   "outputs": [
    {
     "name": "stdout",
     "output_type": "stream",
     "text": [
      "170322\n"
     ]
    },
    {
     "data": {
      "text/html": [
       "<div>\n",
       "<style scoped>\n",
       "    .dataframe tbody tr th:only-of-type {\n",
       "        vertical-align: middle;\n",
       "    }\n",
       "\n",
       "    .dataframe tbody tr th {\n",
       "        vertical-align: top;\n",
       "    }\n",
       "\n",
       "    .dataframe thead th {\n",
       "        text-align: right;\n",
       "    }\n",
       "</style>\n",
       "<table border=\"1\" class=\"dataframe\">\n",
       "  <thead>\n",
       "    <tr style=\"text-align: right;\">\n",
       "      <th></th>\n",
       "      <th>ASentimentValue</th>\n",
       "      <th>BSentimentValue</th>\n",
       "    </tr>\n",
       "  </thead>\n",
       "  <tbody>\n",
       "    <tr>\n",
       "      <th>2</th>\n",
       "      <td>2.0</td>\n",
       "      <td>0.0</td>\n",
       "    </tr>\n",
       "    <tr>\n",
       "      <th>4</th>\n",
       "      <td>-3.0</td>\n",
       "      <td>0.0</td>\n",
       "    </tr>\n",
       "    <tr>\n",
       "      <th>7</th>\n",
       "      <td>-3.0</td>\n",
       "      <td>0.0</td>\n",
       "    </tr>\n",
       "    <tr>\n",
       "      <th>11</th>\n",
       "      <td>2.0</td>\n",
       "      <td>3.0</td>\n",
       "    </tr>\n",
       "    <tr>\n",
       "      <th>13</th>\n",
       "      <td>-7.0</td>\n",
       "      <td>0.0</td>\n",
       "    </tr>\n",
       "  </tbody>\n",
       "</table>\n",
       "</div>"
      ],
      "text/plain": [
       "    ASentimentValue  BSentimentValue\n",
       "2               2.0              0.0\n",
       "4              -3.0              0.0\n",
       "7              -3.0              0.0\n",
       "11              2.0              3.0\n",
       "13             -7.0              0.0"
      ]
     },
     "execution_count": 20,
     "metadata": {},
     "output_type": "execute_result"
    }
   ],
   "source": [
    "# Drop middle values with -1,0,1 to filter out noise and create a dataset that only contains values outside of the \n",
    "# range (-1,1)\n",
    "AfinnDF_Signif = AfinnDF.copy()\n",
    "AfinnDF_Signif = AfinnDF_Signif[AfinnDF_Signif.ASentimentValue != 0]\n",
    "AfinnDF_Signif = AfinnDF_Signif[AfinnDF_Signif.ASentimentValue != 1]\n",
    "AfinnDF_Signif = AfinnDF_Signif[AfinnDF_Signif.ASentimentValue != -1]\n",
    "print(len(AfinnDF_Signif))\n",
    "AfinnDF_Signif.head()"
   ]
  },
  {
   "cell_type": "code",
   "execution_count": 124,
   "metadata": {
    "scrolled": true
   },
   "outputs": [
    {
     "name": "stdout",
     "output_type": "stream",
     "text": [
      "Max:  SentimentValue     30.0\n",
      "BSentimentValue    22.0\n",
      "dtype: float64\n",
      "Min:  SentimentValue    -37.0\n",
      "BSentimentValue   -21.0\n",
      "dtype: float64\n"
     ]
    }
   ],
   "source": [
    "print('Max: ', AfinnDF_Signif.max())\n",
    "print('Min: ', AfinnDF_Signif.min())"
   ]
  },
  {
   "cell_type": "code",
   "execution_count": 24,
   "metadata": {},
   "outputs": [
    {
     "data": {
      "image/png": "[encoded data removed]",
      "text/plain": [
       "<Figure size 432x288 with 1 Axes>"
      ]
     },
     "metadata": {},
     "output_type": "display_data"
    }
   ],
   "source": [
    "plot = AfinnDF['ASentimentValue'].plot(kind = 'hist', bins=50)\n",
    "plt.savefig('Afinn_SentDistrib.png')"
   ]
  },
  {
   "cell_type": "markdown",
   "metadata": {},
   "source": [
    "### Run below box to generate a set of positive and negative replacement values\n",
    "This creates a binary system in which sentiments are matching or not matching in each set with tags P-Positive, N-Negative, and null for noise. "
   ]
  },
  {
   "cell_type": "code",
   "execution_count": 25,
   "metadata": {},
   "outputs": [
    {
     "name": "stdout",
     "output_type": "stream",
     "text": [
      "[2, 3, 4, 5, 6, 7, 8, 9, 10, 11, 12, 13, 14, 15, 16, 17, 18, 19, 20, 21, 22, 23, 24, 25, 26, 27, 28, 29, 30]\n",
      "[-37, -36, -35, -34, -33, -32, -31, -30, -29, -28, -27, -26, -25, -24, -23, -22, -21, -20, -19, -18, -17, -16, -15, -14, -13, -12, -11, -10, -9, -8, -7, -6, -5, -4, -3, -2]\n"
     ]
    }
   ],
   "source": [
    "replacesetPos = list(range(2,31))\n",
    "print(replacesetPos)\n",
    "replacesetNeg = list(range(-37,-1))\n",
    "print(replacesetNeg)"
   ]
  },
  {
   "cell_type": "code",
   "execution_count": null,
   "metadata": {
    "scrolled": true
   },
   "outputs": [],
   "source": [
    "AfinnSubsDF = AfinnDF_Signif.replace(replacesetPos,'P')\n",
    "AfinnSubsDF.head()"
   ]
  },
  {
   "cell_type": "code",
   "execution_count": null,
   "metadata": {},
   "outputs": [],
   "source": [
    "AfinnSubsDF = AfinnSubsDF.replace(replacesetNeg,'N')\n",
    "AfinnSubsDF.head()"
   ]
  },
  {
   "cell_type": "code",
   "execution_count": null,
   "metadata": {},
   "outputs": [],
   "source": [
    "# Replace -1,0,1\n",
    "AfinnSubsDF = AfinnSubsDF.replace(-1,'null')\n",
    "AfinnSubsDF.head()"
   ]
  },
  {
   "cell_type": "code",
   "execution_count": 31,
   "metadata": {},
   "outputs": [
    {
     "data": {
      "text/html": [
       "<div>\n",
       "<style scoped>\n",
       "    .dataframe tbody tr th:only-of-type {\n",
       "        vertical-align: middle;\n",
       "    }\n",
       "\n",
       "    .dataframe tbody tr th {\n",
       "        vertical-align: top;\n",
       "    }\n",
       "\n",
       "    .dataframe thead th {\n",
       "        text-align: right;\n",
       "    }\n",
       "</style>\n",
       "<table border=\"1\" class=\"dataframe\">\n",
       "  <thead>\n",
       "    <tr style=\"text-align: right;\">\n",
       "      <th></th>\n",
       "      <th>BSentimentValue</th>\n",
       "    </tr>\n",
       "  </thead>\n",
       "  <tbody>\n",
       "    <tr>\n",
       "      <th>2</th>\n",
       "      <td>null</td>\n",
       "    </tr>\n",
       "    <tr>\n",
       "      <th>4</th>\n",
       "      <td>null</td>\n",
       "    </tr>\n",
       "    <tr>\n",
       "      <th>7</th>\n",
       "      <td>null</td>\n",
       "    </tr>\n",
       "    <tr>\n",
       "      <th>11</th>\n",
       "      <td>P</td>\n",
       "    </tr>\n",
       "    <tr>\n",
       "      <th>13</th>\n",
       "      <td>null</td>\n",
       "    </tr>\n",
       "  </tbody>\n",
       "</table>\n",
       "</div>"
      ],
      "text/plain": [
       "   BSentimentValue\n",
       "2             null\n",
       "4             null\n",
       "7             null\n",
       "11               P\n",
       "13            null"
      ]
     },
     "execution_count": 31,
     "metadata": {},
     "output_type": "execute_result"
    }
   ],
   "source": [
    "#AfinnBOnly = pd.DataFrame()\n",
    "AfinnBOnly = AfinnSubsDF.copy()\n",
    "AfinnBOnly.drop(['ASentimentValue'],axis = 1, inplace = True)\n",
    "AfinnBOnly.head()"
   ]
  },
  {
   "cell_type": "code",
   "execution_count": 32,
   "metadata": {},
   "outputs": [
    {
     "data": {
      "text/html": [
       "<div>\n",
       "<style scoped>\n",
       "    .dataframe tbody tr th:only-of-type {\n",
       "        vertical-align: middle;\n",
       "    }\n",
       "\n",
       "    .dataframe tbody tr th {\n",
       "        vertical-align: top;\n",
       "    }\n",
       "\n",
       "    .dataframe thead th {\n",
       "        text-align: right;\n",
       "    }\n",
       "</style>\n",
       "<table border=\"1\" class=\"dataframe\">\n",
       "  <thead>\n",
       "    <tr style=\"text-align: right;\">\n",
       "      <th></th>\n",
       "      <th>ASentimentValue</th>\n",
       "    </tr>\n",
       "  </thead>\n",
       "  <tbody>\n",
       "    <tr>\n",
       "      <th>2</th>\n",
       "      <td>P</td>\n",
       "    </tr>\n",
       "    <tr>\n",
       "      <th>4</th>\n",
       "      <td>N</td>\n",
       "    </tr>\n",
       "    <tr>\n",
       "      <th>7</th>\n",
       "      <td>N</td>\n",
       "    </tr>\n",
       "    <tr>\n",
       "      <th>11</th>\n",
       "      <td>P</td>\n",
       "    </tr>\n",
       "    <tr>\n",
       "      <th>13</th>\n",
       "      <td>N</td>\n",
       "    </tr>\n",
       "  </tbody>\n",
       "</table>\n",
       "</div>"
      ],
      "text/plain": [
       "   ASentimentValue\n",
       "2                P\n",
       "4                N\n",
       "7                N\n",
       "11               P\n",
       "13               N"
      ]
     },
     "execution_count": 32,
     "metadata": {},
     "output_type": "execute_result"
    }
   ],
   "source": [
    "AfinnAOnly = AfinnSubsDF.copy()\n",
    "AfinnAOnly.drop(['BSentimentValue'],axis = 1, inplace = True)\n",
    "AfinnAOnly.head()"
   ]
  },
  {
   "cell_type": "code",
   "execution_count": 34,
   "metadata": {},
   "outputs": [],
   "source": [
    "sentimentSet = ['P','N']"
   ]
  },
  {
   "cell_type": "code",
   "execution_count": 35,
   "metadata": {},
   "outputs": [],
   "source": [
    "# Function below is specifically for Afinn and finding matching sentiment values. \n",
    "def getSharedMark(tweetset):\n",
    "    sharedMarkers = []\n",
    "    row_iterator = tweetset.iterrows()\n",
    "    for row in row_iterator:\n",
    "        if row[1][0] == row[1][1]:\n",
    "            sharedMarkers.append(row[1][0])\n",
    "        else:\n",
    "            sharedMarkers.append('-')\n",
    "    return sharedMarkers\n"
   ]
  },
  {
   "cell_type": "code",
   "execution_count": 36,
   "metadata": {},
   "outputs": [
    {
     "name": "stdout",
     "output_type": "stream",
     "text": [
      "170322 170322\n"
     ]
    }
   ],
   "source": [
    "# Get shared and shuffled shared sentiment markers\n",
    "\n",
    "sharedSentimentAB = getSharedMark(AfinnSubsDF)\n",
    "shuffledBSent = random.sample(AfinnSubsDF['BSentimentValue'],len(AfinnSubsDF['BSentimentValue']))\n",
    "sharedRandSentAnB = getSharedMarkers(AfinnSubsDF['SentimentValue'],shuffledBSent)\n",
    "print(len(AfinnSubsDF),len(sharedSentimentAB))"
   ]
  },
  {
   "cell_type": "code",
   "execution_count": 261,
   "metadata": {},
   "outputs": [
    {
     "data": {
      "text/html": [
       "<div>\n",
       "<style scoped>\n",
       "    .dataframe tbody tr th:only-of-type {\n",
       "        vertical-align: middle;\n",
       "    }\n",
       "\n",
       "    .dataframe tbody tr th {\n",
       "        vertical-align: top;\n",
       "    }\n",
       "\n",
       "    .dataframe thead th {\n",
       "        text-align: right;\n",
       "    }\n",
       "</style>\n",
       "<table border=\"1\" class=\"dataframe\">\n",
       "  <thead>\n",
       "    <tr style=\"text-align: right;\">\n",
       "      <th></th>\n",
       "      <th>SentimentValue</th>\n",
       "      <th>BSentimentValue</th>\n",
       "    </tr>\n",
       "  </thead>\n",
       "  <tbody>\n",
       "    <tr>\n",
       "      <th>2</th>\n",
       "      <td>P</td>\n",
       "      <td>null</td>\n",
       "    </tr>\n",
       "    <tr>\n",
       "      <th>4</th>\n",
       "      <td>N</td>\n",
       "      <td>null</td>\n",
       "    </tr>\n",
       "    <tr>\n",
       "      <th>7</th>\n",
       "      <td>N</td>\n",
       "      <td>null</td>\n",
       "    </tr>\n",
       "    <tr>\n",
       "      <th>11</th>\n",
       "      <td>P</td>\n",
       "      <td>P</td>\n",
       "    </tr>\n",
       "    <tr>\n",
       "      <th>13</th>\n",
       "      <td>N</td>\n",
       "      <td>null</td>\n",
       "    </tr>\n",
       "  </tbody>\n",
       "</table>\n",
       "</div>"
      ],
      "text/plain": [
       "   SentimentValue BSentimentValue\n",
       "2               P            null\n",
       "4               N            null\n",
       "7               N            null\n",
       "11              P               P\n",
       "13              N            null"
      ]
     },
     "execution_count": 261,
     "metadata": {},
     "output_type": "execute_result"
    }
   ],
   "source": [
    "AfinnSubsDF.head()"
   ]
  },
  {
   "cell_type": "code",
   "execution_count": 37,
   "metadata": {},
   "outputs": [
    {
     "name": "stdout",
     "output_type": "stream",
     "text": [
      "['null', 'null', 'null', 'P', 'null']\n"
     ]
    },
    {
     "data": {
      "text/html": [
       "<div>\n",
       "<style scoped>\n",
       "    .dataframe tbody tr th:only-of-type {\n",
       "        vertical-align: middle;\n",
       "    }\n",
       "\n",
       "    .dataframe tbody tr th {\n",
       "        vertical-align: top;\n",
       "    }\n",
       "\n",
       "    .dataframe thead th {\n",
       "        text-align: right;\n",
       "    }\n",
       "</style>\n",
       "<table border=\"1\" class=\"dataframe\">\n",
       "  <thead>\n",
       "    <tr style=\"text-align: right;\">\n",
       "      <th></th>\n",
       "      <th>ASentimentValue</th>\n",
       "      <th>BSentRand</th>\n",
       "    </tr>\n",
       "  </thead>\n",
       "  <tbody>\n",
       "    <tr>\n",
       "      <th>2</th>\n",
       "      <td>P</td>\n",
       "      <td>P</td>\n",
       "    </tr>\n",
       "    <tr>\n",
       "      <th>4</th>\n",
       "      <td>N</td>\n",
       "      <td>P</td>\n",
       "    </tr>\n",
       "    <tr>\n",
       "      <th>7</th>\n",
       "      <td>N</td>\n",
       "      <td>N</td>\n",
       "    </tr>\n",
       "    <tr>\n",
       "      <th>11</th>\n",
       "      <td>P</td>\n",
       "      <td>P</td>\n",
       "    </tr>\n",
       "    <tr>\n",
       "      <th>13</th>\n",
       "      <td>N</td>\n",
       "      <td>null</td>\n",
       "    </tr>\n",
       "  </tbody>\n",
       "</table>\n",
       "</div>"
      ],
      "text/plain": [
       "   ASentimentValue BSentRand\n",
       "2                P         P\n",
       "4                N         P\n",
       "7                N         N\n",
       "11               P         P\n",
       "13               N      null"
      ]
     },
     "execution_count": 37,
     "metadata": {},
     "output_type": "execute_result"
    }
   ],
   "source": [
    "shuffledBSent = AfinnSubsDF['BSentimentValue'].tolist()\n",
    "print(shuffledBSent[0:5])\n",
    "shuffledBSent = random.sample(shuffledBSent,len(shuffledBSent))\n",
    "#shuffledBSent = shuffledBSent.drop(['SentimentValue'], axis=1)\n",
    "#shuffledBSent.head()\n",
    "randDF = AfinnSubsDF.copy()\n",
    "randDF = randDF.drop('BSentimentValue',axis = 1)\n",
    "randDF['BSentRand'] = shuffledBSent\n",
    "randDF.head() # why is 1 showing up?"
   ]
  },
  {
   "cell_type": "code",
   "execution_count": 38,
   "metadata": {},
   "outputs": [
    {
     "data": {
      "text/plain": [
       "['P', '-', 'N', 'P', '-']"
      ]
     },
     "execution_count": 38,
     "metadata": {},
     "output_type": "execute_result"
    }
   ],
   "source": [
    "sharedRandSentAnB = getSharedMark(randDF)\n",
    "sharedRandSentAnB[0:5]"
   ]
  },
  {
   "cell_type": "code",
   "execution_count": 253,
   "metadata": {},
   "outputs": [
    {
     "name": "stdout",
     "output_type": "stream",
     "text": [
      "['-', '-', '-', 'P', '-', '-', 'N', '-', '-', 'N']\n",
      "3\n"
     ]
    }
   ],
   "source": [
    "print(sharedSentimentAB[0:10])\n",
    "tal=0\n",
    "for item in sharedSentimentAB[0:10]:\n",
    "    if item != '-':\n",
    "        tal+=1\n",
    "print(tal)"
   ]
  },
  {
   "cell_type": "code",
   "execution_count": 280,
   "metadata": {},
   "outputs": [
    {
     "data": {
      "text/plain": [
       "{'P': [0.20042493569245204, 0.18002127744376348, 0.02040365824868856],\n",
       " 'N': [0.030091946763467794, 0.017212041684167925, 0.01287990507929987]}"
      ]
     },
     "execution_count": 280,
     "metadata": {},
     "output_type": "execute_result"
    }
   ],
   "source": [
    "SentSCP = scp.CalculateAllCohesion(sentimentSet,sharedSentimentAB,sharedRandSentAnB)\n",
    "SentSCP"
   ]
  },
  {
   "cell_type": "code",
   "execution_count": 281,
   "metadata": {},
   "outputs": [
    {
     "data": {
      "text/html": [
       "<div>\n",
       "<style scoped>\n",
       "    .dataframe tbody tr th:only-of-type {\n",
       "        vertical-align: middle;\n",
       "    }\n",
       "\n",
       "    .dataframe tbody tr th {\n",
       "        vertical-align: top;\n",
       "    }\n",
       "\n",
       "    .dataframe thead th {\n",
       "        text-align: right;\n",
       "    }\n",
       "</style>\n",
       "<table border=\"1\" class=\"dataframe\">\n",
       "  <thead>\n",
       "    <tr style=\"text-align: right;\">\n",
       "      <th></th>\n",
       "      <th>TweetReply Cohesion</th>\n",
       "      <th>RandomReply Cohesion</th>\n",
       "      <th>Subtractive Cohesion Score</th>\n",
       "    </tr>\n",
       "  </thead>\n",
       "  <tbody>\n",
       "    <tr>\n",
       "      <th>P</th>\n",
       "      <td>0.200425</td>\n",
       "      <td>0.180021</td>\n",
       "      <td>0.020404</td>\n",
       "    </tr>\n",
       "    <tr>\n",
       "      <th>N</th>\n",
       "      <td>0.030092</td>\n",
       "      <td>0.017212</td>\n",
       "      <td>0.012880</td>\n",
       "    </tr>\n",
       "  </tbody>\n",
       "</table>\n",
       "</div>"
      ],
      "text/plain": [
       "   TweetReply Cohesion  RandomReply Cohesion  Subtractive Cohesion Score\n",
       "P             0.200425              0.180021                    0.020404\n",
       "N             0.030092              0.017212                    0.012880"
      ]
     },
     "execution_count": 281,
     "metadata": {},
     "output_type": "execute_result"
    }
   ],
   "source": [
    "CohesionDF = pd.DataFrame.from_dict(SentSCP,orient = 'index')\n",
    "CohesionDF.columns = ['TweetReply Cohesion', 'RandomReply Cohesion', 'Subtractive Cohesion Score']\n",
    "CohesionDF.head()"
   ]
  },
  {
   "cell_type": "code",
   "execution_count": 282,
   "metadata": {},
   "outputs": [
    {
     "data": {
      "text/html": [
       "<div>\n",
       "<style scoped>\n",
       "    .dataframe tbody tr th:only-of-type {\n",
       "        vertical-align: middle;\n",
       "    }\n",
       "\n",
       "    .dataframe tbody tr th {\n",
       "        vertical-align: top;\n",
       "    }\n",
       "\n",
       "    .dataframe thead th {\n",
       "        text-align: right;\n",
       "    }\n",
       "</style>\n",
       "<table border=\"1\" class=\"dataframe\">\n",
       "  <thead>\n",
       "    <tr style=\"text-align: right;\">\n",
       "      <th></th>\n",
       "      <th>Subtractive Cohesion Score</th>\n",
       "    </tr>\n",
       "  </thead>\n",
       "  <tbody>\n",
       "    <tr>\n",
       "      <th>P</th>\n",
       "      <td>0.020404</td>\n",
       "    </tr>\n",
       "    <tr>\n",
       "      <th>N</th>\n",
       "      <td>0.012880</td>\n",
       "    </tr>\n",
       "  </tbody>\n",
       "</table>\n",
       "</div>"
      ],
      "text/plain": [
       "   Subtractive Cohesion Score\n",
       "P                    0.020404\n",
       "N                    0.012880"
      ]
     },
     "execution_count": 282,
     "metadata": {},
     "output_type": "execute_result"
    }
   ],
   "source": [
    "CohesionToPlot = CohesionDF.copy()\n",
    "CohesionToPlot.drop(['TweetReply Cohesion'],axis = 1, inplace = True)\n",
    "CohesionToPlot.drop(['RandomReply Cohesion'],axis = 1, inplace = True)\n",
    "CohesionToPlot"
   ]
  },
  {
   "cell_type": "code",
   "execution_count": 285,
   "metadata": {},
   "outputs": [
    {
     "data": {
      "image/png": "[encoded data removed]",
      "text/plain": [
       "<Figure size 432x288 with 1 Axes>"
      ]
     },
     "metadata": {},
     "output_type": "display_data"
    }
   ],
   "source": [
    "plot1 = CohesionToPlot.plot(kind = 'bar',legend = False)#,figsize = (20,10))\n",
    "                    \n",
    "#plot1.tick_params(labelbottom=False, bottom=False,which='both')\n",
    "plt.ylabel('SCP Score')\n",
    "plt.xlabel('Sentiment Marker')\n",
    "plt.title('Subtractive Global Alignment Afinn Sentiment')\n",
    "plt.savefig('SCP_Sentiment_Afinn')"
   ]
  },
  {
   "cell_type": "markdown",
   "metadata": {},
   "source": [
    "# Linguistic Style Matching"
   ]
  },
  {
   "cell_type": "code",
   "execution_count": 299,
   "metadata": {},
   "outputs": [],
   "source": [
    "def CalculateLSM(markers,TweetTagsA,TweetTagsB):\n",
    "    allLSM = {}\n",
    "    allTweets = len(AfinnSubsDF) # total number of tweets\n",
    "    for mark in markers: \n",
    "        pA = (scp.countMarkers(mark,TweetTagsA)/allTweets)\n",
    "        pB = (scp.countMarkers(mark,TweetTagsB)/allTweets)\n",
    "        numerator = abs(pA-pB)\n",
    "        denominator = pA + pB\n",
    "        LSMScore = (1 - (numerator/denominator))\n",
    "        allLSM[mark] = [pA,pB,LSMScore]\n",
    "    return allLSM"
   ]
  },
  {
   "cell_type": "code",
   "execution_count": 309,
   "metadata": {},
   "outputs": [
    {
     "data": {
      "text/plain": [
       "{'P': [0.7410786627681685, 0.4647843496436162, 0.7708742118460452],\n",
       " 'N': [0.25892133723183147, 0.12698300865419618, 0.6581061343719572]}"
      ]
     },
     "execution_count": 309,
     "metadata": {},
     "output_type": "execute_result"
    }
   ],
   "source": [
    "LSM_Sentiment = CalculateLSM(sentimentSet, AfinnSubsDF['SentimentValue'],AfinnSubsDF['BSentimentValue'])\n",
    "LSM_Sentiment"
   ]
  },
  {
   "cell_type": "code",
   "execution_count": 310,
   "metadata": {},
   "outputs": [
    {
     "data": {
      "text/html": [
       "<div>\n",
       "<style scoped>\n",
       "    .dataframe tbody tr th:only-of-type {\n",
       "        vertical-align: middle;\n",
       "    }\n",
       "\n",
       "    .dataframe tbody tr th {\n",
       "        vertical-align: top;\n",
       "    }\n",
       "\n",
       "    .dataframe thead th {\n",
       "        text-align: right;\n",
       "    }\n",
       "</style>\n",
       "<table border=\"1\" class=\"dataframe\">\n",
       "  <thead>\n",
       "    <tr style=\"text-align: right;\">\n",
       "      <th></th>\n",
       "      <th>pA</th>\n",
       "      <th>pB</th>\n",
       "      <th>LSM Score</th>\n",
       "    </tr>\n",
       "  </thead>\n",
       "  <tbody>\n",
       "    <tr>\n",
       "      <th>P</th>\n",
       "      <td>0.741079</td>\n",
       "      <td>0.464784</td>\n",
       "      <td>0.770874</td>\n",
       "    </tr>\n",
       "    <tr>\n",
       "      <th>N</th>\n",
       "      <td>0.258921</td>\n",
       "      <td>0.126983</td>\n",
       "      <td>0.658106</td>\n",
       "    </tr>\n",
       "  </tbody>\n",
       "</table>\n",
       "</div>"
      ],
      "text/plain": [
       "         pA        pB  LSM Score\n",
       "P  0.741079  0.464784   0.770874\n",
       "N  0.258921  0.126983   0.658106"
      ]
     },
     "execution_count": 310,
     "metadata": {},
     "output_type": "execute_result"
    }
   ],
   "source": [
    "LSMdf = pd.DataFrame.from_dict(LSM_Sentiment,orient = 'index')\n",
    "LSMdf.columns = ['pA', 'pB','LSM Score']\n",
    "LSMdf"
   ]
  },
  {
   "cell_type": "code",
   "execution_count": 311,
   "metadata": {},
   "outputs": [],
   "source": [
    "# Write dataframe to latex\n",
    "with open ('LSMTable_SentimentAfinn.tex','w') as tf:\n",
    "    tf.write(LSMdf.to_latex())"
   ]
  },
  {
   "cell_type": "code",
   "execution_count": 313,
   "metadata": {},
   "outputs": [
    {
     "data": {
      "image/png": "[encoded data removed]",
      "text/plain": [
       "<Figure size 432x288 with 1 Axes>"
      ]
     },
     "metadata": {},
     "output_type": "display_data"
    }
   ],
   "source": [
    "# Visualize dataframe to horizontal bar chart\n",
    "plot1 = LSMdf['LSM Score'].plot(kind = 'bar',legend = False, color = 'steelblue')#,figsize = (20,10))\n",
    "                    \n",
    "#plot1.tick_params(labelbottom=False, bottom=False,which='both')\n",
    "plt.xlabel('LSM Score')\n",
    "#plt.xlim(0.85,1.005)\n",
    "plt.ylabel('Sentiment')\n",
    "plt.title('Linguistic Style Matching Sentiment - Afinn')\n",
    "plt.savefig('LSM_Sentiment_Afinn')"
   ]
  },
  {
   "cell_type": "markdown",
   "metadata": {},
   "source": [
    "# LLR - Log Likelihood Ratio"
   ]
  },
  {
   "cell_type": "code",
   "execution_count": 314,
   "metadata": {},
   "outputs": [
    {
     "name": "stdout",
     "output_type": "stream",
     "text": [
      "AMarker - N1:  126222  ANoMarker - N2:  44100\n",
      "AMarker - N1:  44100  ANoMarker - N2:  126222\n"
     ]
    },
    {
     "data": {
      "text/plain": [
       "{'P': 5656.843197025562, 'N': 4444.736386187084}"
      ]
     },
     "execution_count": 314,
     "metadata": {},
     "output_type": "execute_result"
    }
   ],
   "source": [
    "LLR_Sent = llr.getLLR(AfinnSubsDF['SentimentValue'],AfinnSubsDF['BSentimentValue'],sharedSentimentAB,sentimentSet)\n",
    "LLR_Sent"
   ]
  },
  {
   "cell_type": "code",
   "execution_count": 315,
   "metadata": {},
   "outputs": [
    {
     "name": "stdout",
     "output_type": "stream",
     "text": [
      "AMarker - N1:  126222  ANoMarker - N2:  44100\n",
      "AMarker - N1:  44100  ANoMarker - N2:  126222\n"
     ]
    },
    {
     "data": {
      "text/plain": [
       "{'P': 0.31982682400848716, 'N': 0.054454983794130385}"
      ]
     },
     "execution_count": 315,
     "metadata": {},
     "output_type": "execute_result"
    }
   ],
   "source": [
    "LLR_Rand_Sent = llr.getLLR(AfinnSubsDF['SentimentValue'],AfinnSubsDF['BSentimentValue'],sharedRandSentAnB,sentimentSet)\n",
    "LLR_Rand_Sent"
   ]
  },
  {
   "cell_type": "code",
   "execution_count": 316,
   "metadata": {},
   "outputs": [
    {
     "data": {
      "text/html": [
       "<div>\n",
       "<style scoped>\n",
       "    .dataframe tbody tr th:only-of-type {\n",
       "        vertical-align: middle;\n",
       "    }\n",
       "\n",
       "    .dataframe tbody tr th {\n",
       "        vertical-align: top;\n",
       "    }\n",
       "\n",
       "    .dataframe thead th {\n",
       "        text-align: right;\n",
       "    }\n",
       "</style>\n",
       "<table border=\"1\" class=\"dataframe\">\n",
       "  <thead>\n",
       "    <tr style=\"text-align: right;\">\n",
       "      <th></th>\n",
       "      <th>LLR Scores Sentiment</th>\n",
       "    </tr>\n",
       "  </thead>\n",
       "  <tbody>\n",
       "    <tr>\n",
       "      <th>P</th>\n",
       "      <td>5656.843197</td>\n",
       "    </tr>\n",
       "    <tr>\n",
       "      <th>N</th>\n",
       "      <td>4444.736386</td>\n",
       "    </tr>\n",
       "  </tbody>\n",
       "</table>\n",
       "</div>"
      ],
      "text/plain": [
       "   LLR Scores Sentiment\n",
       "P           5656.843197\n",
       "N           4444.736386"
      ]
     },
     "execution_count": 316,
     "metadata": {},
     "output_type": "execute_result"
    }
   ],
   "source": [
    "LLRSentDF = pd.DataFrame.from_dict(LLR_Sent, orient='index')\n",
    "LLRSentDF.columns = ['LLR Scores Sentiment']\n",
    "LLRSentDF.head()"
   ]
  },
  {
   "cell_type": "code",
   "execution_count": 321,
   "metadata": {},
   "outputs": [
    {
     "data": {
      "text/html": [
       "<div>\n",
       "<style scoped>\n",
       "    .dataframe tbody tr th:only-of-type {\n",
       "        vertical-align: middle;\n",
       "    }\n",
       "\n",
       "    .dataframe tbody tr th {\n",
       "        vertical-align: top;\n",
       "    }\n",
       "\n",
       "    .dataframe thead th {\n",
       "        text-align: right;\n",
       "    }\n",
       "</style>\n",
       "<table border=\"1\" class=\"dataframe\">\n",
       "  <thead>\n",
       "    <tr style=\"text-align: right;\">\n",
       "      <th></th>\n",
       "      <th>LLR Rand Sentiment</th>\n",
       "    </tr>\n",
       "  </thead>\n",
       "  <tbody>\n",
       "    <tr>\n",
       "      <th>P</th>\n",
       "      <td>0.319827</td>\n",
       "    </tr>\n",
       "    <tr>\n",
       "      <th>N</th>\n",
       "      <td>0.054455</td>\n",
       "    </tr>\n",
       "  </tbody>\n",
       "</table>\n",
       "</div>"
      ],
      "text/plain": [
       "   LLR Rand Sentiment\n",
       "P            0.319827\n",
       "N            0.054455"
      ]
     },
     "execution_count": 321,
     "metadata": {},
     "output_type": "execute_result"
    }
   ],
   "source": [
    "LLR_RandDF = pd.DataFrame.from_dict(LLR_Rand_Sent, orient='index')\n",
    "LLR_RandDF.columns = ['LLR Rand Sentiment']\n",
    "LLR_RandDF"
   ]
  },
  {
   "cell_type": "code",
   "execution_count": 324,
   "metadata": {},
   "outputs": [],
   "source": [
    "LLR_RandDF = LLR_RandDF.rename(index = {'P':'P_Rand','N':'N_Rand'})"
   ]
  },
  {
   "cell_type": "code",
   "execution_count": 325,
   "metadata": {},
   "outputs": [],
   "source": [
    "LLR_RandDF = LLR_RandDF.rename(columns = {'LLR Rand Sentiment':'LLR Scores Sentiment'})"
   ]
  },
  {
   "cell_type": "code",
   "execution_count": 327,
   "metadata": {},
   "outputs": [
    {
     "data": {
      "text/html": [
       "<div>\n",
       "<style scoped>\n",
       "    .dataframe tbody tr th:only-of-type {\n",
       "        vertical-align: middle;\n",
       "    }\n",
       "\n",
       "    .dataframe tbody tr th {\n",
       "        vertical-align: top;\n",
       "    }\n",
       "\n",
       "    .dataframe thead th {\n",
       "        text-align: right;\n",
       "    }\n",
       "</style>\n",
       "<table border=\"1\" class=\"dataframe\">\n",
       "  <thead>\n",
       "    <tr style=\"text-align: right;\">\n",
       "      <th></th>\n",
       "      <th>LLR Scores Sentiment</th>\n",
       "    </tr>\n",
       "  </thead>\n",
       "  <tbody>\n",
       "    <tr>\n",
       "      <th>P</th>\n",
       "      <td>5656.843197</td>\n",
       "    </tr>\n",
       "    <tr>\n",
       "      <th>N</th>\n",
       "      <td>4444.736386</td>\n",
       "    </tr>\n",
       "    <tr>\n",
       "      <th>P_Rand</th>\n",
       "      <td>0.319827</td>\n",
       "    </tr>\n",
       "    <tr>\n",
       "      <th>N_Rand</th>\n",
       "      <td>0.054455</td>\n",
       "    </tr>\n",
       "  </tbody>\n",
       "</table>\n",
       "</div>"
      ],
      "text/plain": [
       "        LLR Scores Sentiment\n",
       "P                5656.843197\n",
       "N                4444.736386\n",
       "P_Rand              0.319827\n",
       "N_Rand              0.054455"
      ]
     },
     "execution_count": 327,
     "metadata": {},
     "output_type": "execute_result"
    }
   ],
   "source": [
    "LLRSentDF=LLRSentDF.append(LLR_RandDF)\n",
    "LLRSentDF"
   ]
  },
  {
   "cell_type": "code",
   "execution_count": 329,
   "metadata": {},
   "outputs": [
    {
     "data": {
      "image/png": "[encoded data removed]",
      "text/plain": [
       "<Figure size 432x288 with 1 Axes>"
      ]
     },
     "metadata": {},
     "output_type": "display_data"
    }
   ],
   "source": [
    "# Visualize dataframe to horizontal bar chart\n",
    "plot1 = LLRSentDF['LLR Scores Sentiment'].plot(kind = 'bar', stacked = True, color = 'SteelBlue')#,figsize = (20,10))\n",
    "                    \n",
    "#plot1.tick_params(labelbottom=False, bottom=False,which='both')\n",
    "plt.ylabel('LLR Score')\n",
    "plt.xlabel('Sentiment Marker')\n",
    "plt.title('LLR Score for Sentiment Markers')\n",
    "plt.savefig('LLRScores_Sentiment')"
   ]
  },
  {
   "cell_type": "code",
   "execution_count": 330,
   "metadata": {},
   "outputs": [],
   "source": [
    "with open ('LLRSentDF.tex','w') as tf:\n",
    "    tf.write(LLRSentDF.to_latex())"
   ]
  }
 ],
 "metadata": {
  "kernelspec": {
   "display_name": "Python 3",
   "language": "python",
   "name": "python3"
  },
  "language_info": {
   "codemirror_mode": {
    "name": "ipython",
    "version": 3
   },
   "file_extension": ".py",
   "mimetype": "text/x-python",
   "name": "python",
   "nbconvert_exporter": "python",
   "pygments_lexer": "ipython3",
   "version": "3.6.5"
  }
 },
 "nbformat": 4,
 "nbformat_minor": 2
}
