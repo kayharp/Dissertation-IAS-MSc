{
 "cells": [
  {
   "cell_type": "markdown",
   "metadata": {},
   "source": [
    "# SCP - Accommodation Calculations for POS Tags\n",
    "## TTest for statistical Accuracy\n",
    "\n",
    "This notebook was used to generate results for accommodtion calculations and contains statistical tests verifying the validity of experimental results. "
   ]
  },
  {
   "cell_type": "code",
   "execution_count": 1,
   "metadata": {},
   "outputs": [],
   "source": [
    "import nltk\n",
    "import pandas as pd\n",
    "import sys\n",
    "import csv\n",
    "import numpy as np\n",
    "import matplotlib.pyplot as plt\n",
    "import re\n",
    "import seaborn as sns\n",
    "from collections import Counter\n",
    "import BigramCode as bi\n",
    "\n",
    "import NRCHash as nrc"
   ]
  },
  {
   "cell_type": "code",
   "execution_count": 2,
   "metadata": {},
   "outputs": [],
   "source": [
    "import SCP_Code as scp"
   ]
  },
  {
   "cell_type": "code",
   "execution_count": 1,
   "metadata": {},
   "outputs": [],
   "source": [
    "# Translate csv to Dataframe BEST SO FAR\n",
    "tweetData = pd.read_csv('pairs_edit_utf_noSquig.csv', sep='~',)\n",
    "tweetData.head()"
   ]
  },
  {
   "cell_type": "code",
   "execution_count": 4,
   "metadata": {},
   "outputs": [],
   "source": [
    "## To run when parsing pos tag results\n",
    "dataA = pd.read_csv('A_Tweets_Tagged.txt', sep='\\t', header=None)\n",
    "dataA.columns = ['Tokens', 'Tags', 'Conf','Raw Tweet']\n",
    "\n",
    "dataB = pd.read_csv('B_Tweets_Tagged.txt', sep='\\t', header=None)\n",
    "dataB.columns = ['Tokens', 'Tags', 'Conf','Raw Tweet']"
   ]
  },
  {
   "cell_type": "markdown",
   "metadata": {},
   "source": [
    "### Combine A and B Tags with Username-replier pairs"
   ]
  },
  {
   "cell_type": "code",
   "execution_count": null,
   "metadata": {
    "scrolled": true
   },
   "outputs": [],
   "source": [
    "combo = pd.DataFrame()\n",
    "combo = dataA.copy()\n",
    "combo = combo.drop(['Tokens'],axis = 1)\n",
    "combo = combo.drop(['Conf'],axis=1)\n",
    "combo = combo.drop(['Raw Tweet'],axis=1)\n",
    "combo.head()"
   ]
  },
  {
   "cell_type": "code",
   "execution_count": null,
   "metadata": {},
   "outputs": [],
   "source": [
    "combo['Tags_B']= dataB['Tags']\n",
    "combo.head()"
   ]
  },
  {
   "cell_type": "code",
   "execution_count": null,
   "metadata": {},
   "outputs": [],
   "source": [
    "pairs = []\n",
    "for i in range(len(tweetData)):\n",
    "    pairs.append(tuple([tweetData.a_username[i],tweetData.b_username[i]]))"
   ]
  },
  {
   "cell_type": "code",
   "execution_count": 101,
   "metadata": {},
   "outputs": [],
   "source": [
    "count = Counter(pairs).most_common(1)\n",
    "count"
   ]
  },
  {
   "cell_type": "code",
   "execution_count": 3,
   "metadata": {},
   "outputs": [],
   "source": [
    "combo['Pairs'] = pairs\n",
    "print(len(combo))\n",
    "combo.head()"
   ]
  },
  {
   "cell_type": "code",
   "execution_count": 9,
   "metadata": {},
   "outputs": [
    {
     "data": {
      "text/plain": [
       "326167"
      ]
     },
     "execution_count": 9,
     "metadata": {},
     "output_type": "execute_result"
    }
   ],
   "source": [
    "combo.drop(326167,inplace=True)\n",
    "len(combo)"
   ]
  },
  {
   "cell_type": "code",
   "execution_count": 4,
   "metadata": {},
   "outputs": [],
   "source": [
    "count = Counter(combo['Pairs'])\n",
    "count"
   ]
  },
  {
   "cell_type": "code",
   "execution_count": 11,
   "metadata": {},
   "outputs": [
    {
     "data": {
      "text/plain": [
       "69148"
      ]
     },
     "execution_count": 11,
     "metadata": {},
     "output_type": "execute_result"
    }
   ],
   "source": [
    "len(count) # number of unique t/r pairs"
   ]
  },
  {
   "cell_type": "code",
   "execution_count": 12,
   "metadata": {},
   "outputs": [
    {
     "data": {
      "text/plain": [
       "7392"
      ]
     },
     "execution_count": 12,
     "metadata": {},
     "output_type": "execute_result"
    }
   ],
   "source": [
    "for k in list(count):\n",
    "    if count[k] < 10: # Delete tweet-reply username pairs with fewer than 10 messages\n",
    "        del count[k]\n",
    "len(count)"
   ]
  },
  {
   "cell_type": "code",
   "execution_count": 5,
   "metadata": {},
   "outputs": [],
   "source": [
    "# Get list of only username pairs that have 10 or more tweet-reply messages between that unique user pair\n",
    "countList = []\n",
    "for item in list(count):\n",
    "    countList.append(item)\n",
    "countList[0:5]"
   ]
  },
  {
   "cell_type": "code",
   "execution_count": 6,
   "metadata": {
    "scrolled": true
   },
   "outputs": [],
   "source": [
    "# Create dataframe for user-reply pairs contained in the >10 countlist\n",
    "comboreal = combo[combo['Pairs'].isin(countList)]\n",
    "comboreal = comboreal.reset_index()\n",
    "comboreal[0:20]"
   ]
  },
  {
   "cell_type": "code",
   "execution_count": 257,
   "metadata": {},
   "outputs": [
    {
     "name": "stdout",
     "output_type": "stream",
     "text": [
      "326167 174858\n"
     ]
    }
   ],
   "source": [
    "print(len(combo),len(comboreal)) # Length of entire dataset, length of accommodation-appropriate dataset"
   ]
  },
  {
   "cell_type": "code",
   "execution_count": 15,
   "metadata": {
    "scrolled": true
   },
   "outputs": [],
   "source": [
    "comboreal.fillna({'Tags':'B'}, inplace=True)\n",
    "comboreal.fillna({'Tags_B':'B'}, inplace=True)"
   ]
  },
  {
   "cell_type": "code",
   "execution_count": 17,
   "metadata": {},
   "outputs": [
    {
     "name": "stdout",
     "output_type": "stream",
     "text": [
      "174858 [['N', ',', 'O', 'V', 'R', 'A', 'E'], ['N', 'R', 'V', ','], ['A', 'P', 'V', 'O', 'R'], ['V', 'R', 'D', 'N', 'P', ',', 'A', '^'], ['V', 'N', ',', 'D', 'P']]\n"
     ]
    }
   ],
   "source": [
    "shared = nrc.getSharedMarkers(comboreal['Tags'],comboreal['Tags_B'])\n",
    "print(len(shared),shared[0:5])"
   ]
  },
  {
   "cell_type": "code",
   "execution_count": 21,
   "metadata": {},
   "outputs": [],
   "source": [
    "markerset = ['P','D','O','&','N','S','^','Z','L','M','V','A','R','!','T','X','Y','#','U','E','$',',','G']\n",
    "# No 'D' in shared at all "
   ]
  },
  {
   "cell_type": "code",
   "execution_count": 22,
   "metadata": {},
   "outputs": [],
   "source": [
    "# This function iterates through the dataframe to generate a list of shared tweets between a user pair. It \n",
    "# Creates three lists: the tags of each user pair and the shared markers between them. \n",
    "def UNIterateforSCPPairScore(dataframe,userPair,shared):\n",
    "    tempA = []\n",
    "    tempB = []\n",
    "    tempsh = []\n",
    "    for num in range(len(dataframe)):\n",
    "        if dataframe['Pairs'][num] == userPair: # check to see if the row matches UN pairs to be calc.\n",
    "            tempA.append(dataframe['Tags'][num])\n",
    "            tempB.append(dataframe['Tags_B'][num])\n",
    "            tempsh.append(shared[num])\n",
    "    return([tempA,tempB,tempsh])\n",
    "\n",
    "\n",
    "# Call on below functions to get accommodation score for a set of markers, the USername tweet tags, \n",
    "# and the shared tags between them (generated from UNIterateforSCPPairScore)\n",
    "def calculateAccom(markerset,UNTweetTagsA,UNTweetTagsB,SharedABTags):\n",
    "    minDict= {}\n",
    "    for marker in markerset:\n",
    "        minDict[marker] = getMin(marker,UNTweetTagsB) # BAvg\n",
    "        marker2 = marker+'2' # Generate a readable marker to store the subtrahend\n",
    "        minDict[marker2] = getSub(marker,UNTweetTagsA,SharedABTags) # marker2 = B|A\n",
    "    return minDict\n",
    "\n",
    "\n",
    "# Stylistic Accommodation Calculation functions:\n",
    "# for each ordered user pair and dimension C, fraction of b's replies to a in which b's tweet exhibits C\n",
    "def getMin(marker,listB): #B Avg\n",
    "    numerator = scp.countMarkers(marker,listB)#b's replies to A in which marker is present\n",
    "    denom = len(listB) # number of b's replies to A\n",
    "    if denom == 0:\n",
    "        return np.nan\n",
    "    else:\n",
    "        return (numerator/denom)\n",
    "\n",
    "def getSub(marker,listA,shared): #B given A\n",
    "    numerator = scp.countMarkers(marker,shared) #b and a show marker\n",
    "    denom = scp.countMarkers(marker,listA) # a shows marker\n",
    "    if denom == 0:\n",
    "        return np.nan\n",
    "    else:\n",
    "        return(numerator/denom)\n",
    "\n",
    "def getAcc(marker,listA,listB,shared):\n",
    "    minuend = getMin(marker,listB)\n",
    "    subtrahend = getSub(marker,listA,shared)\n",
    "    if subtrahend == 0:\n",
    "        return np.nan\n",
    "    else:\n",
    "        return([minuend,subtrahend])"
   ]
  },
  {
   "cell_type": "code",
   "execution_count": 32,
   "metadata": {},
   "outputs": [],
   "source": [
    "# Function to put together all of the above accommodation functions for pos tags. \n",
    "def fullForm(usernameList,dataframe,markers,shared):\n",
    "    minDict = {}\n",
    "    for userPair in usernameList:\n",
    "        temp = UNIterateforSCPPairScore(dataframe,userPair,shared)# temp consists of [A_lst,B_lst,Shared]\n",
    "        minDict[userPair] = calculateAccom(markers,temp[0],temp[1],temp[2])\n",
    "    return minDict"
   ]
  },
  {
   "cell_type": "code",
   "execution_count": 7,
   "metadata": {},
   "outputs": [],
   "source": [
    "# Generate scp values for pos tags\n",
    "allScorestemp = fullForm(countList,comboreal,markerset,shared)\n",
    "allScorestemp"
   ]
  },
  {
   "cell_type": "code",
   "execution_count": 34,
   "metadata": {},
   "outputs": [],
   "source": [
    "#Write df to CSV\n",
    "allScoresDF = pd.DataFrame.from_dict(allScorestemp,orient='index')\n",
    "allScoresDF.to_csv('SCP_Acc_Scores.csv',sep = '~')"
   ]
  },
  {
   "cell_type": "code",
   "execution_count": 8,
   "metadata": {},
   "outputs": [],
   "source": [
    "allScoresDF.head()# POS tags"
   ]
  },
  {
   "cell_type": "code",
   "execution_count": 60,
   "metadata": {
    "scrolled": true
   },
   "outputs": [],
   "source": [
    "# Acc(C) = mean of the set of b|a estimations - mean of set of b estimations\n",
    "#marker2 - marker = AccC\n",
    "x = means.to_frame()#.reset_index()\n",
    "x.columns=['Score']\n",
    "x=x.reset_index()"
   ]
  },
  {
   "cell_type": "code",
   "execution_count": 61,
   "metadata": {
    "scrolled": true
   },
   "outputs": [
    {
     "data": {
      "text/html": [
       "<div>\n",
       "<style scoped>\n",
       "    .dataframe tbody tr th:only-of-type {\n",
       "        vertical-align: middle;\n",
       "    }\n",
       "\n",
       "    .dataframe tbody tr th {\n",
       "        vertical-align: top;\n",
       "    }\n",
       "\n",
       "    .dataframe thead th {\n",
       "        text-align: right;\n",
       "    }\n",
       "</style>\n",
       "<table border=\"1\" class=\"dataframe\">\n",
       "  <thead>\n",
       "    <tr style=\"text-align: right;\">\n",
       "      <th></th>\n",
       "      <th>index</th>\n",
       "      <th>Score</th>\n",
       "    </tr>\n",
       "  </thead>\n",
       "  <tbody>\n",
       "    <tr>\n",
       "      <th>0</th>\n",
       "      <td>P</td>\n",
       "      <td>0.677392</td>\n",
       "    </tr>\n",
       "    <tr>\n",
       "      <th>1</th>\n",
       "      <td>P2</td>\n",
       "      <td>0.700926</td>\n",
       "    </tr>\n",
       "    <tr>\n",
       "      <th>2</th>\n",
       "      <td>D</td>\n",
       "      <td>0.617075</td>\n",
       "    </tr>\n",
       "    <tr>\n",
       "      <th>3</th>\n",
       "      <td>D2</td>\n",
       "      <td>0.640049</td>\n",
       "    </tr>\n",
       "    <tr>\n",
       "      <th>4</th>\n",
       "      <td>O</td>\n",
       "      <td>0.673383</td>\n",
       "    </tr>\n",
       "    <tr>\n",
       "      <th>5</th>\n",
       "      <td>O2</td>\n",
       "      <td>0.691538</td>\n",
       "    </tr>\n",
       "    <tr>\n",
       "      <th>6</th>\n",
       "      <td>&amp;</td>\n",
       "      <td>0.287185</td>\n",
       "    </tr>\n",
       "    <tr>\n",
       "      <th>7</th>\n",
       "      <td>&amp;2</td>\n",
       "      <td>0.313079</td>\n",
       "    </tr>\n",
       "    <tr>\n",
       "      <th>8</th>\n",
       "      <td>N</td>\n",
       "      <td>0.793063</td>\n",
       "    </tr>\n",
       "    <tr>\n",
       "      <th>9</th>\n",
       "      <td>N2</td>\n",
       "      <td>0.805042</td>\n",
       "    </tr>\n",
       "    <tr>\n",
       "      <th>10</th>\n",
       "      <td>S</td>\n",
       "      <td>0.005529</td>\n",
       "    </tr>\n",
       "    <tr>\n",
       "      <th>11</th>\n",
       "      <td>S2</td>\n",
       "      <td>0.015292</td>\n",
       "    </tr>\n",
       "    <tr>\n",
       "      <th>12</th>\n",
       "      <td>^</td>\n",
       "      <td>0.283161</td>\n",
       "    </tr>\n",
       "    <tr>\n",
       "      <th>13</th>\n",
       "      <td>^2</td>\n",
       "      <td>0.356590</td>\n",
       "    </tr>\n",
       "    <tr>\n",
       "      <th>14</th>\n",
       "      <td>Z</td>\n",
       "      <td>0.011963</td>\n",
       "    </tr>\n",
       "    <tr>\n",
       "      <th>15</th>\n",
       "      <td>Z2</td>\n",
       "      <td>0.043780</td>\n",
       "    </tr>\n",
       "    <tr>\n",
       "      <th>16</th>\n",
       "      <td>L</td>\n",
       "      <td>0.286048</td>\n",
       "    </tr>\n",
       "    <tr>\n",
       "      <th>17</th>\n",
       "      <td>L2</td>\n",
       "      <td>0.317229</td>\n",
       "    </tr>\n",
       "    <tr>\n",
       "      <th>18</th>\n",
       "      <td>M</td>\n",
       "      <td>0.000000</td>\n",
       "    </tr>\n",
       "    <tr>\n",
       "      <th>19</th>\n",
       "      <td>M2</td>\n",
       "      <td>NaN</td>\n",
       "    </tr>\n",
       "    <tr>\n",
       "      <th>20</th>\n",
       "      <td>V</td>\n",
       "      <td>0.850454</td>\n",
       "    </tr>\n",
       "    <tr>\n",
       "      <th>21</th>\n",
       "      <td>V2</td>\n",
       "      <td>0.861280</td>\n",
       "    </tr>\n",
       "    <tr>\n",
       "      <th>22</th>\n",
       "      <td>A</td>\n",
       "      <td>0.597402</td>\n",
       "    </tr>\n",
       "    <tr>\n",
       "      <th>23</th>\n",
       "      <td>A2</td>\n",
       "      <td>0.625287</td>\n",
       "    </tr>\n",
       "    <tr>\n",
       "      <th>24</th>\n",
       "      <td>R</td>\n",
       "      <td>0.589878</td>\n",
       "    </tr>\n",
       "    <tr>\n",
       "      <th>25</th>\n",
       "      <td>R2</td>\n",
       "      <td>0.613177</td>\n",
       "    </tr>\n",
       "    <tr>\n",
       "      <th>26</th>\n",
       "      <td>!</td>\n",
       "      <td>0.288707</td>\n",
       "    </tr>\n",
       "    <tr>\n",
       "      <th>27</th>\n",
       "      <td>!2</td>\n",
       "      <td>0.307618</td>\n",
       "    </tr>\n",
       "    <tr>\n",
       "      <th>28</th>\n",
       "      <td>T</td>\n",
       "      <td>0.073852</td>\n",
       "    </tr>\n",
       "    <tr>\n",
       "      <th>29</th>\n",
       "      <td>T2</td>\n",
       "      <td>0.103993</td>\n",
       "    </tr>\n",
       "    <tr>\n",
       "      <th>30</th>\n",
       "      <td>X</td>\n",
       "      <td>0.019146</td>\n",
       "    </tr>\n",
       "    <tr>\n",
       "      <th>31</th>\n",
       "      <td>X2</td>\n",
       "      <td>0.037713</td>\n",
       "    </tr>\n",
       "    <tr>\n",
       "      <th>32</th>\n",
       "      <td>Y</td>\n",
       "      <td>0.000391</td>\n",
       "    </tr>\n",
       "    <tr>\n",
       "      <th>33</th>\n",
       "      <td>Y2</td>\n",
       "      <td>0.000000</td>\n",
       "    </tr>\n",
       "    <tr>\n",
       "      <th>34</th>\n",
       "      <td>#</td>\n",
       "      <td>0.041569</td>\n",
       "    </tr>\n",
       "    <tr>\n",
       "      <th>35</th>\n",
       "      <td>#2</td>\n",
       "      <td>0.204992</td>\n",
       "    </tr>\n",
       "    <tr>\n",
       "      <th>36</th>\n",
       "      <td>U</td>\n",
       "      <td>0.023851</td>\n",
       "    </tr>\n",
       "    <tr>\n",
       "      <th>37</th>\n",
       "      <td>U2</td>\n",
       "      <td>0.053657</td>\n",
       "    </tr>\n",
       "    <tr>\n",
       "      <th>38</th>\n",
       "      <td>E</td>\n",
       "      <td>0.209560</td>\n",
       "    </tr>\n",
       "    <tr>\n",
       "      <th>39</th>\n",
       "      <td>E2</td>\n",
       "      <td>0.330121</td>\n",
       "    </tr>\n",
       "    <tr>\n",
       "      <th>40</th>\n",
       "      <td>$</td>\n",
       "      <td>0.117972</td>\n",
       "    </tr>\n",
       "    <tr>\n",
       "      <th>41</th>\n",
       "      <td>$2</td>\n",
       "      <td>0.200023</td>\n",
       "    </tr>\n",
       "    <tr>\n",
       "      <th>42</th>\n",
       "      <td>,</td>\n",
       "      <td>0.868331</td>\n",
       "    </tr>\n",
       "    <tr>\n",
       "      <th>43</th>\n",
       "      <td>,2</td>\n",
       "      <td>0.873265</td>\n",
       "    </tr>\n",
       "    <tr>\n",
       "      <th>44</th>\n",
       "      <td>G</td>\n",
       "      <td>0.034650</td>\n",
       "    </tr>\n",
       "    <tr>\n",
       "      <th>45</th>\n",
       "      <td>G2</td>\n",
       "      <td>0.065195</td>\n",
       "    </tr>\n",
       "  </tbody>\n",
       "</table>\n",
       "</div>"
      ],
      "text/plain": [
       "   index     Score\n",
       "0      P  0.677392\n",
       "1     P2  0.700926\n",
       "2      D  0.617075\n",
       "3     D2  0.640049\n",
       "4      O  0.673383\n",
       "5     O2  0.691538\n",
       "6      &  0.287185\n",
       "7     &2  0.313079\n",
       "8      N  0.793063\n",
       "9     N2  0.805042\n",
       "10     S  0.005529\n",
       "11    S2  0.015292\n",
       "12     ^  0.283161\n",
       "13    ^2  0.356590\n",
       "14     Z  0.011963\n",
       "15    Z2  0.043780\n",
       "16     L  0.286048\n",
       "17    L2  0.317229\n",
       "18     M  0.000000\n",
       "19    M2       NaN\n",
       "20     V  0.850454\n",
       "21    V2  0.861280\n",
       "22     A  0.597402\n",
       "23    A2  0.625287\n",
       "24     R  0.589878\n",
       "25    R2  0.613177\n",
       "26     !  0.288707\n",
       "27    !2  0.307618\n",
       "28     T  0.073852\n",
       "29    T2  0.103993\n",
       "30     X  0.019146\n",
       "31    X2  0.037713\n",
       "32     Y  0.000391\n",
       "33    Y2  0.000000\n",
       "34     #  0.041569\n",
       "35    #2  0.204992\n",
       "36     U  0.023851\n",
       "37    U2  0.053657\n",
       "38     E  0.209560\n",
       "39    E2  0.330121\n",
       "40     $  0.117972\n",
       "41    $2  0.200023\n",
       "42     ,  0.868331\n",
       "43    ,2  0.873265\n",
       "44     G  0.034650\n",
       "45    G2  0.065195"
      ]
     },
     "execution_count": 61,
     "metadata": {},
     "output_type": "execute_result"
    }
   ],
   "source": [
    "x"
   ]
  },
  {
   "cell_type": "code",
   "execution_count": 62,
   "metadata": {
    "scrolled": true
   },
   "outputs": [
    {
     "data": {
      "text/plain": [
       "{'P': 0.023533835801574754,\n",
       " 'D': 0.022973398348041907,\n",
       " 'O': 0.018154543978039173,\n",
       " '&': 0.02589427511709802,\n",
       " 'N': 0.011979209702744575,\n",
       " 'S': 0.009763045128993049,\n",
       " '^': 0.07342848542747538,\n",
       " 'Z': 0.031816472570680106,\n",
       " 'L': 0.03118132665001644,\n",
       " 'M': nan,\n",
       " 'V': 0.010826151859278155,\n",
       " 'A': 0.027884770462709096,\n",
       " 'R': 0.02329831414714345,\n",
       " '!': 0.01891185208403362,\n",
       " 'T': 0.030141022710828427,\n",
       " 'X': 0.01856644882105761,\n",
       " 'Y': -0.0003910700511995151,\n",
       " '#': 0.1634223060067114,\n",
       " 'U': 0.029806270414191326,\n",
       " 'E': 0.12056034098249954,\n",
       " '$': 0.08205123714363508,\n",
       " ',': 0.0049340563787736436,\n",
       " 'G': 0.03054462148185144}"
      ]
     },
     "execution_count": 62,
     "metadata": {},
     "output_type": "execute_result"
    }
   ],
   "source": [
    "# Calculate average difference between minuend and subtrahend estimations \n",
    "scoreDict = {}\n",
    "for i in range(len(x)):\n",
    "    if i%2 == 1:\n",
    "        scoreDict[x['index'][i-1]]= (x['Score'][i] - x['Score'][i-1])\n",
    "scoreDict"
   ]
  },
  {
   "cell_type": "code",
   "execution_count": 102,
   "metadata": {},
   "outputs": [
    {
     "data": {
      "text/html": [
       "<div>\n",
       "<style scoped>\n",
       "    .dataframe tbody tr th:only-of-type {\n",
       "        vertical-align: middle;\n",
       "    }\n",
       "\n",
       "    .dataframe tbody tr th {\n",
       "        vertical-align: top;\n",
       "    }\n",
       "\n",
       "    .dataframe thead th {\n",
       "        text-align: right;\n",
       "    }\n",
       "</style>\n",
       "<table border=\"1\" class=\"dataframe\">\n",
       "  <thead>\n",
       "    <tr style=\"text-align: right;\">\n",
       "      <th></th>\n",
       "      <th>Accommodation</th>\n",
       "    </tr>\n",
       "  </thead>\n",
       "  <tbody>\n",
       "    <tr>\n",
       "      <th>P</th>\n",
       "      <td>0.023534</td>\n",
       "    </tr>\n",
       "    <tr>\n",
       "      <th>D</th>\n",
       "      <td>0.022973</td>\n",
       "    </tr>\n",
       "    <tr>\n",
       "      <th>O</th>\n",
       "      <td>0.018155</td>\n",
       "    </tr>\n",
       "    <tr>\n",
       "      <th>&amp;</th>\n",
       "      <td>0.025894</td>\n",
       "    </tr>\n",
       "    <tr>\n",
       "      <th>N</th>\n",
       "      <td>0.011979</td>\n",
       "    </tr>\n",
       "  </tbody>\n",
       "</table>\n",
       "</div>"
      ],
      "text/plain": [
       "   Accommodation\n",
       "P       0.023534\n",
       "D       0.022973\n",
       "O       0.018155\n",
       "&       0.025894\n",
       "N       0.011979"
      ]
     },
     "execution_count": 102,
     "metadata": {},
     "output_type": "execute_result"
    }
   ],
   "source": [
    "scoreDictDF = pd.DataFrame.from_dict(scoreDict, orient='index')\n",
    "scoreDictDF.columns = ['Accommodation']\n",
    "scoreDictDF.head()"
   ]
  },
  {
   "cell_type": "code",
   "execution_count": 86,
   "metadata": {},
   "outputs": [
    {
     "data": {
      "text/plain": [
       "23"
      ]
     },
     "execution_count": 86,
     "metadata": {},
     "output_type": "execute_result"
    }
   ],
   "source": [
    "# Generate dictionaries of minuend and subtrahend scores from scoreDict\n",
    "ScoreListBAvg = {}\n",
    "ScoreListBGivA = {}\n",
    "for i in range(len(x)):\n",
    "    if i%2 == 0:\n",
    "        ScoreListBAvg[x['index'][i]] = x['Score'][i]\n",
    "    elif i%2 == 1:\n",
    "        ScoreListBGivA[x['index'][i-1]] = x['Score'][i]\n",
    "len(ScoreListBGivA)"
   ]
  },
  {
   "cell_type": "code",
   "execution_count": 89,
   "metadata": {
    "scrolled": true
   },
   "outputs": [],
   "source": [
    "ScoreListBGivA = pd.DataFrame.from_dict(ScoreListBGivA,orient='index')\n",
    "ScoreListBAvg = pd.DataFrame.from_dict(ScoreListBAvg,orient='index')"
   ]
  },
  {
   "cell_type": "code",
   "execution_count": 91,
   "metadata": {},
   "outputs": [
    {
     "data": {
      "text/html": [
       "<div>\n",
       "<style scoped>\n",
       "    .dataframe tbody tr th:only-of-type {\n",
       "        vertical-align: middle;\n",
       "    }\n",
       "\n",
       "    .dataframe tbody tr th {\n",
       "        vertical-align: top;\n",
       "    }\n",
       "\n",
       "    .dataframe thead th {\n",
       "        text-align: right;\n",
       "    }\n",
       "</style>\n",
       "<table border=\"1\" class=\"dataframe\">\n",
       "  <thead>\n",
       "    <tr style=\"text-align: right;\">\n",
       "      <th></th>\n",
       "      <th>B</th>\n",
       "    </tr>\n",
       "  </thead>\n",
       "  <tbody>\n",
       "    <tr>\n",
       "      <th>P</th>\n",
       "      <td>0.677392</td>\n",
       "    </tr>\n",
       "    <tr>\n",
       "      <th>D</th>\n",
       "      <td>0.617075</td>\n",
       "    </tr>\n",
       "    <tr>\n",
       "      <th>O</th>\n",
       "      <td>0.673383</td>\n",
       "    </tr>\n",
       "    <tr>\n",
       "      <th>&amp;</th>\n",
       "      <td>0.287185</td>\n",
       "    </tr>\n",
       "    <tr>\n",
       "      <th>N</th>\n",
       "      <td>0.793063</td>\n",
       "    </tr>\n",
       "  </tbody>\n",
       "</table>\n",
       "</div>"
      ],
      "text/plain": [
       "          B\n",
       "P  0.677392\n",
       "D  0.617075\n",
       "O  0.673383\n",
       "&  0.287185\n",
       "N  0.793063"
      ]
     },
     "execution_count": 91,
     "metadata": {},
     "output_type": "execute_result"
    }
   ],
   "source": [
    "ScoreListBAvg.columns = ['B']\n",
    "ScoreListBGivA.columns = ['B|A']\n",
    "ScoreListBAvg.head()"
   ]
  },
  {
   "cell_type": "code",
   "execution_count": 103,
   "metadata": {},
   "outputs": [
    {
     "data": {
      "text/html": [
       "<div>\n",
       "<style scoped>\n",
       "    .dataframe tbody tr th:only-of-type {\n",
       "        vertical-align: middle;\n",
       "    }\n",
       "\n",
       "    .dataframe tbody tr th {\n",
       "        vertical-align: top;\n",
       "    }\n",
       "\n",
       "    .dataframe thead th {\n",
       "        text-align: right;\n",
       "    }\n",
       "</style>\n",
       "<table border=\"1\" class=\"dataframe\">\n",
       "  <thead>\n",
       "    <tr style=\"text-align: right;\">\n",
       "      <th></th>\n",
       "      <th>Accommodation</th>\n",
       "      <th>BAvg</th>\n",
       "      <th>BGivenA</th>\n",
       "    </tr>\n",
       "  </thead>\n",
       "  <tbody>\n",
       "    <tr>\n",
       "      <th>P</th>\n",
       "      <td>0.023534</td>\n",
       "      <td>0.677392</td>\n",
       "      <td>0.700926</td>\n",
       "    </tr>\n",
       "    <tr>\n",
       "      <th>D</th>\n",
       "      <td>0.022973</td>\n",
       "      <td>0.617075</td>\n",
       "      <td>0.640049</td>\n",
       "    </tr>\n",
       "    <tr>\n",
       "      <th>O</th>\n",
       "      <td>0.018155</td>\n",
       "      <td>0.673383</td>\n",
       "      <td>0.691538</td>\n",
       "    </tr>\n",
       "    <tr>\n",
       "      <th>&amp;</th>\n",
       "      <td>0.025894</td>\n",
       "      <td>0.287185</td>\n",
       "      <td>0.313079</td>\n",
       "    </tr>\n",
       "    <tr>\n",
       "      <th>N</th>\n",
       "      <td>0.011979</td>\n",
       "      <td>0.793063</td>\n",
       "      <td>0.805042</td>\n",
       "    </tr>\n",
       "  </tbody>\n",
       "</table>\n",
       "</div>"
      ],
      "text/plain": [
       "   Accommodation      BAvg   BGivenA\n",
       "P       0.023534  0.677392  0.700926\n",
       "D       0.022973  0.617075  0.640049\n",
       "O       0.018155  0.673383  0.691538\n",
       "&       0.025894  0.287185  0.313079\n",
       "N       0.011979  0.793063  0.805042"
      ]
     },
     "execution_count": 103,
     "metadata": {},
     "output_type": "execute_result"
    }
   ],
   "source": [
    "scoreDictDF['BAvg'] = ScoreListBAvg['B']\n",
    "scoreDictDF['BGivenA'] = ScoreListBGivA['B|A']\n",
    "scoreDictDF.head()"
   ]
  },
  {
   "cell_type": "code",
   "execution_count": 106,
   "metadata": {
    "scrolled": true
   },
   "outputs": [
    {
     "data": {
      "text/html": [
       "<div>\n",
       "<style scoped>\n",
       "    .dataframe tbody tr th:only-of-type {\n",
       "        vertical-align: middle;\n",
       "    }\n",
       "\n",
       "    .dataframe tbody tr th {\n",
       "        vertical-align: top;\n",
       "    }\n",
       "\n",
       "    .dataframe thead th {\n",
       "        text-align: right;\n",
       "    }\n",
       "</style>\n",
       "<table border=\"1\" class=\"dataframe\">\n",
       "  <thead>\n",
       "    <tr style=\"text-align: right;\">\n",
       "      <th></th>\n",
       "      <th>BAvg</th>\n",
       "      <th>BGivenA</th>\n",
       "    </tr>\n",
       "  </thead>\n",
       "  <tbody>\n",
       "    <tr>\n",
       "      <th>P</th>\n",
       "      <td>0.677392</td>\n",
       "      <td>0.700926</td>\n",
       "    </tr>\n",
       "    <tr>\n",
       "      <th>D</th>\n",
       "      <td>0.617075</td>\n",
       "      <td>0.640049</td>\n",
       "    </tr>\n",
       "    <tr>\n",
       "      <th>O</th>\n",
       "      <td>0.673383</td>\n",
       "      <td>0.691538</td>\n",
       "    </tr>\n",
       "    <tr>\n",
       "      <th>&amp;</th>\n",
       "      <td>0.287185</td>\n",
       "      <td>0.313079</td>\n",
       "    </tr>\n",
       "    <tr>\n",
       "      <th>N</th>\n",
       "      <td>0.793063</td>\n",
       "      <td>0.805042</td>\n",
       "    </tr>\n",
       "    <tr>\n",
       "      <th>S</th>\n",
       "      <td>0.005529</td>\n",
       "      <td>0.015292</td>\n",
       "    </tr>\n",
       "    <tr>\n",
       "      <th>^</th>\n",
       "      <td>0.283161</td>\n",
       "      <td>0.356590</td>\n",
       "    </tr>\n",
       "    <tr>\n",
       "      <th>Z</th>\n",
       "      <td>0.011963</td>\n",
       "      <td>0.043780</td>\n",
       "    </tr>\n",
       "    <tr>\n",
       "      <th>L</th>\n",
       "      <td>0.286048</td>\n",
       "      <td>0.317229</td>\n",
       "    </tr>\n",
       "    <tr>\n",
       "      <th>M</th>\n",
       "      <td>0.000000</td>\n",
       "      <td>NaN</td>\n",
       "    </tr>\n",
       "    <tr>\n",
       "      <th>V</th>\n",
       "      <td>0.850454</td>\n",
       "      <td>0.861280</td>\n",
       "    </tr>\n",
       "    <tr>\n",
       "      <th>A</th>\n",
       "      <td>0.597402</td>\n",
       "      <td>0.625287</td>\n",
       "    </tr>\n",
       "    <tr>\n",
       "      <th>R</th>\n",
       "      <td>0.589878</td>\n",
       "      <td>0.613177</td>\n",
       "    </tr>\n",
       "    <tr>\n",
       "      <th>!</th>\n",
       "      <td>0.288707</td>\n",
       "      <td>0.307618</td>\n",
       "    </tr>\n",
       "    <tr>\n",
       "      <th>T</th>\n",
       "      <td>0.073852</td>\n",
       "      <td>0.103993</td>\n",
       "    </tr>\n",
       "    <tr>\n",
       "      <th>X</th>\n",
       "      <td>0.019146</td>\n",
       "      <td>0.037713</td>\n",
       "    </tr>\n",
       "    <tr>\n",
       "      <th>Y</th>\n",
       "      <td>0.000391</td>\n",
       "      <td>0.000000</td>\n",
       "    </tr>\n",
       "    <tr>\n",
       "      <th>#</th>\n",
       "      <td>0.041569</td>\n",
       "      <td>0.204992</td>\n",
       "    </tr>\n",
       "    <tr>\n",
       "      <th>U</th>\n",
       "      <td>0.023851</td>\n",
       "      <td>0.053657</td>\n",
       "    </tr>\n",
       "    <tr>\n",
       "      <th>E</th>\n",
       "      <td>0.209560</td>\n",
       "      <td>0.330121</td>\n",
       "    </tr>\n",
       "    <tr>\n",
       "      <th>$</th>\n",
       "      <td>0.117972</td>\n",
       "      <td>0.200023</td>\n",
       "    </tr>\n",
       "    <tr>\n",
       "      <th>,</th>\n",
       "      <td>0.868331</td>\n",
       "      <td>0.873265</td>\n",
       "    </tr>\n",
       "    <tr>\n",
       "      <th>G</th>\n",
       "      <td>0.034650</td>\n",
       "      <td>0.065195</td>\n",
       "    </tr>\n",
       "  </tbody>\n",
       "</table>\n",
       "</div>"
      ],
      "text/plain": [
       "       BAvg   BGivenA\n",
       "P  0.677392  0.700926\n",
       "D  0.617075  0.640049\n",
       "O  0.673383  0.691538\n",
       "&  0.287185  0.313079\n",
       "N  0.793063  0.805042\n",
       "S  0.005529  0.015292\n",
       "^  0.283161  0.356590\n",
       "Z  0.011963  0.043780\n",
       "L  0.286048  0.317229\n",
       "M  0.000000       NaN\n",
       "V  0.850454  0.861280\n",
       "A  0.597402  0.625287\n",
       "R  0.589878  0.613177\n",
       "!  0.288707  0.307618\n",
       "T  0.073852  0.103993\n",
       "X  0.019146  0.037713\n",
       "Y  0.000391  0.000000\n",
       "#  0.041569  0.204992\n",
       "U  0.023851  0.053657\n",
       "E  0.209560  0.330121\n",
       "$  0.117972  0.200023\n",
       ",  0.868331  0.873265\n",
       "G  0.034650  0.065195"
      ]
     },
     "execution_count": 106,
     "metadata": {},
     "output_type": "execute_result"
    }
   ],
   "source": [
    "scoreToPlotBar = scoreDictDF.copy()\n",
    "scoreToPlotBar = scoreToPlotBar.drop(['Accommodation'], axis = 1)\n",
    "scoreToPlotBar"
   ]
  },
  {
   "cell_type": "code",
   "execution_count": 93,
   "metadata": {},
   "outputs": [],
   "source": [
    "# Create Visualizations and save tables\n",
    "with open ('SCP_POS_Accomodation.tex','w') as tf:\n",
    "    tf.write(scoreDictDF.to_latex())"
   ]
  },
  {
   "cell_type": "code",
   "execution_count": 145,
   "metadata": {},
   "outputs": [
    {
     "data": {
      "image/png": "[encoded data removed]",
      "text/plain": [
       "<Figure size 432x288 with 1 Axes>"
      ]
     },
     "metadata": {},
     "output_type": "display_data"
    }
   ],
   "source": [
    "# Visualize dataframe to horizontal bar chart\n",
    "plot1 = scoreToPlotBar.plot(kind = 'bar')#,figsize = (15,7))#, stacked = True)#,figsize = (20,10))\n",
    "                    \n",
    "#plot1.tick_params(labelbottom=False, bottom=False,which='both')\n",
    "plt.ylabel('SCP Score')\n",
    "plt.xlabel('Part of Speech Marker')\n",
    "plt.title('SCP - Accommodation')\n",
    "plt.savefig('Accommodation_AllVals_POSTags_2')"
   ]
  },
  {
   "cell_type": "code",
   "execution_count": 150,
   "metadata": {},
   "outputs": [
    {
     "data": {
      "image/png": "[encoded data removed]",
      "text/plain": [
       "<Figure size 432x288 with 1 Axes>"
      ]
     },
     "metadata": {},
     "output_type": "display_data"
    }
   ],
   "source": [
    "# Visualize just accommodation score\n",
    "# Visualize dataframe to horizontal bar chart\n",
    "plot1 = scoreDictDF['Accommodation'].sort_values().plot(kind = 'barh',color='steelblue')#,figsize = (15,10))\n",
    "                    \n",
    "#plot1.tick_params(labelbottom=False, bottom=False,which='both')\n",
    "plt.xlim(0,0.18)\n",
    "plt.xlabel('SCP Score')\n",
    "plt.ylabel('Part of Speech Marker')\n",
    "plt.title('SCP - Accommodation')\n",
    "plt.savefig('Accommodation_Diff_Score_POSTags_2')"
   ]
  },
  {
   "cell_type": "code",
   "execution_count": 129,
   "metadata": {
    "scrolled": true
   },
   "outputs": [
    {
     "data": {
      "text/html": [
       "<div>\n",
       "<style scoped>\n",
       "    .dataframe tbody tr th:only-of-type {\n",
       "        vertical-align: middle;\n",
       "    }\n",
       "\n",
       "    .dataframe tbody tr th {\n",
       "        vertical-align: top;\n",
       "    }\n",
       "\n",
       "    .dataframe thead th {\n",
       "        text-align: right;\n",
       "    }\n",
       "</style>\n",
       "<table border=\"1\" class=\"dataframe\">\n",
       "  <thead>\n",
       "    <tr style=\"text-align: right;\">\n",
       "      <th></th>\n",
       "      <th>Accommodation</th>\n",
       "      <th>BAvg</th>\n",
       "      <th>BGivenA</th>\n",
       "    </tr>\n",
       "  </thead>\n",
       "  <tbody>\n",
       "    <tr>\n",
       "      <th>P</th>\n",
       "      <td>0.023534</td>\n",
       "      <td>0.677392</td>\n",
       "      <td>0.700926</td>\n",
       "    </tr>\n",
       "    <tr>\n",
       "      <th>D</th>\n",
       "      <td>0.022973</td>\n",
       "      <td>0.617075</td>\n",
       "      <td>0.640049</td>\n",
       "    </tr>\n",
       "    <tr>\n",
       "      <th>O</th>\n",
       "      <td>0.018155</td>\n",
       "      <td>0.673383</td>\n",
       "      <td>0.691538</td>\n",
       "    </tr>\n",
       "    <tr>\n",
       "      <th>&amp;</th>\n",
       "      <td>0.025894</td>\n",
       "      <td>0.287185</td>\n",
       "      <td>0.313079</td>\n",
       "    </tr>\n",
       "    <tr>\n",
       "      <th>N</th>\n",
       "      <td>0.011979</td>\n",
       "      <td>0.793063</td>\n",
       "      <td>0.805042</td>\n",
       "    </tr>\n",
       "    <tr>\n",
       "      <th>S</th>\n",
       "      <td>0.009763</td>\n",
       "      <td>0.005529</td>\n",
       "      <td>0.015292</td>\n",
       "    </tr>\n",
       "    <tr>\n",
       "      <th>^</th>\n",
       "      <td>0.073428</td>\n",
       "      <td>0.283161</td>\n",
       "      <td>0.356590</td>\n",
       "    </tr>\n",
       "    <tr>\n",
       "      <th>Z</th>\n",
       "      <td>0.031816</td>\n",
       "      <td>0.011963</td>\n",
       "      <td>0.043780</td>\n",
       "    </tr>\n",
       "    <tr>\n",
       "      <th>L</th>\n",
       "      <td>0.031181</td>\n",
       "      <td>0.286048</td>\n",
       "      <td>0.317229</td>\n",
       "    </tr>\n",
       "    <tr>\n",
       "      <th>V</th>\n",
       "      <td>0.010826</td>\n",
       "      <td>0.850454</td>\n",
       "      <td>0.861280</td>\n",
       "    </tr>\n",
       "    <tr>\n",
       "      <th>A</th>\n",
       "      <td>0.027885</td>\n",
       "      <td>0.597402</td>\n",
       "      <td>0.625287</td>\n",
       "    </tr>\n",
       "    <tr>\n",
       "      <th>R</th>\n",
       "      <td>0.023298</td>\n",
       "      <td>0.589878</td>\n",
       "      <td>0.613177</td>\n",
       "    </tr>\n",
       "    <tr>\n",
       "      <th>!</th>\n",
       "      <td>0.018912</td>\n",
       "      <td>0.288707</td>\n",
       "      <td>0.307618</td>\n",
       "    </tr>\n",
       "    <tr>\n",
       "      <th>T</th>\n",
       "      <td>0.030141</td>\n",
       "      <td>0.073852</td>\n",
       "      <td>0.103993</td>\n",
       "    </tr>\n",
       "    <tr>\n",
       "      <th>X</th>\n",
       "      <td>0.018566</td>\n",
       "      <td>0.019146</td>\n",
       "      <td>0.037713</td>\n",
       "    </tr>\n",
       "    <tr>\n",
       "      <th>Y</th>\n",
       "      <td>-0.000391</td>\n",
       "      <td>0.000391</td>\n",
       "      <td>0.000000</td>\n",
       "    </tr>\n",
       "    <tr>\n",
       "      <th>#</th>\n",
       "      <td>0.163422</td>\n",
       "      <td>0.041569</td>\n",
       "      <td>0.204992</td>\n",
       "    </tr>\n",
       "    <tr>\n",
       "      <th>U</th>\n",
       "      <td>0.029806</td>\n",
       "      <td>0.023851</td>\n",
       "      <td>0.053657</td>\n",
       "    </tr>\n",
       "    <tr>\n",
       "      <th>E</th>\n",
       "      <td>0.120560</td>\n",
       "      <td>0.209560</td>\n",
       "      <td>0.330121</td>\n",
       "    </tr>\n",
       "    <tr>\n",
       "      <th>$</th>\n",
       "      <td>0.082051</td>\n",
       "      <td>0.117972</td>\n",
       "      <td>0.200023</td>\n",
       "    </tr>\n",
       "    <tr>\n",
       "      <th>,</th>\n",
       "      <td>0.004934</td>\n",
       "      <td>0.868331</td>\n",
       "      <td>0.873265</td>\n",
       "    </tr>\n",
       "    <tr>\n",
       "      <th>G</th>\n",
       "      <td>0.030545</td>\n",
       "      <td>0.034650</td>\n",
       "      <td>0.065195</td>\n",
       "    </tr>\n",
       "  </tbody>\n",
       "</table>\n",
       "</div>"
      ],
      "text/plain": [
       "   Accommodation      BAvg   BGivenA\n",
       "P       0.023534  0.677392  0.700926\n",
       "D       0.022973  0.617075  0.640049\n",
       "O       0.018155  0.673383  0.691538\n",
       "&       0.025894  0.287185  0.313079\n",
       "N       0.011979  0.793063  0.805042\n",
       "S       0.009763  0.005529  0.015292\n",
       "^       0.073428  0.283161  0.356590\n",
       "Z       0.031816  0.011963  0.043780\n",
       "L       0.031181  0.286048  0.317229\n",
       "V       0.010826  0.850454  0.861280\n",
       "A       0.027885  0.597402  0.625287\n",
       "R       0.023298  0.589878  0.613177\n",
       "!       0.018912  0.288707  0.307618\n",
       "T       0.030141  0.073852  0.103993\n",
       "X       0.018566  0.019146  0.037713\n",
       "Y      -0.000391  0.000391  0.000000\n",
       "#       0.163422  0.041569  0.204992\n",
       "U       0.029806  0.023851  0.053657\n",
       "E       0.120560  0.209560  0.330121\n",
       "$       0.082051  0.117972  0.200023\n",
       ",       0.004934  0.868331  0.873265\n",
       "G       0.030545  0.034650  0.065195"
      ]
     },
     "execution_count": 129,
     "metadata": {},
     "output_type": "execute_result"
    }
   ],
   "source": [
    "scoreDictDF.drop('M',inplace=True)\n",
    "scoreDictDF # mean scores"
   ]
  },
  {
   "cell_type": "markdown",
   "metadata": {},
   "source": [
    "## Paired T Test for pos tags:"
   ]
  },
  {
   "cell_type": "code",
   "execution_count": 119,
   "metadata": {},
   "outputs": [],
   "source": [
    "from scipy import stats"
   ]
  },
  {
   "cell_type": "code",
   "execution_count": 121,
   "metadata": {},
   "outputs": [
    {
     "data": {
      "image/png": "[encoded data removed]",
      "text/plain": [
       "<Figure size 432x288 with 1 Axes>"
      ]
     },
     "metadata": {},
     "output_type": "display_data"
    }
   ],
   "source": [
    "# null hypothesis that these probabilities are the same - mean difference is 0\n",
    "# alternate hypothesis that the mean difference between samples is not 0. Checks for outliers. \n",
    "scoreDictDF[['BAvg','BGivenA']].plot(kind='box')\n",
    "plt.savefig('boxplot_outliers_POStags.png')"
   ]
  },
  {
   "cell_type": "code",
   "execution_count": 10,
   "metadata": {
    "scrolled": true
   },
   "outputs": [],
   "source": [
    "TTestDict = {}\n",
    "for marker in markerset:\n",
    "    TTestDict[marker] = (stats.ttest_rel(allScoresDF[marker],allScoresDF[marker+'2']))"
   ]
  },
  {
   "cell_type": "code",
   "execution_count": 141,
   "metadata": {
    "scrolled": true
   },
   "outputs": [
    {
     "data": {
      "text/html": [
       "<div>\n",
       "<style scoped>\n",
       "    .dataframe tbody tr th:only-of-type {\n",
       "        vertical-align: middle;\n",
       "    }\n",
       "\n",
       "    .dataframe tbody tr th {\n",
       "        vertical-align: top;\n",
       "    }\n",
       "\n",
       "    .dataframe thead th {\n",
       "        text-align: right;\n",
       "    }\n",
       "</style>\n",
       "<table border=\"1\" class=\"dataframe\">\n",
       "  <thead>\n",
       "    <tr style=\"text-align: right;\">\n",
       "      <th></th>\n",
       "      <th>statistic</th>\n",
       "      <th>pvalue</th>\n",
       "    </tr>\n",
       "  </thead>\n",
       "  <tbody>\n",
       "    <tr>\n",
       "      <th>P</th>\n",
       "      <td>-21.472420</td>\n",
       "      <td>2.897489e-99</td>\n",
       "    </tr>\n",
       "    <tr>\n",
       "      <th>D</th>\n",
       "      <td>-18.747388</td>\n",
       "      <td>1.194943e-76</td>\n",
       "    </tr>\n",
       "    <tr>\n",
       "      <th>O</th>\n",
       "      <td>-17.545885</td>\n",
       "      <td>1.477255e-67</td>\n",
       "    </tr>\n",
       "    <tr>\n",
       "      <th>&amp;</th>\n",
       "      <td>-6.631804</td>\n",
       "      <td>3.549812e-11</td>\n",
       "    </tr>\n",
       "    <tr>\n",
       "      <th>N</th>\n",
       "      <td>-17.483887</td>\n",
       "      <td>4.204588e-67</td>\n",
       "    </tr>\n",
       "    <tr>\n",
       "      <th>S</th>\n",
       "      <td>8.318579</td>\n",
       "      <td>1.050567e-16</td>\n",
       "    </tr>\n",
       "    <tr>\n",
       "      <th>^</th>\n",
       "      <td>-26.830067</td>\n",
       "      <td>2.139447e-151</td>\n",
       "    </tr>\n",
       "    <tr>\n",
       "      <th>Z</th>\n",
       "      <td>3.471663</td>\n",
       "      <td>5.202026e-04</td>\n",
       "    </tr>\n",
       "    <tr>\n",
       "      <th>L</th>\n",
       "      <td>-7.196751</td>\n",
       "      <td>6.772679e-13</td>\n",
       "    </tr>\n",
       "    <tr>\n",
       "      <th>M</th>\n",
       "      <td>NaN</td>\n",
       "      <td>NaN</td>\n",
       "    </tr>\n",
       "    <tr>\n",
       "      <th>V</th>\n",
       "      <td>-20.726928</td>\n",
       "      <td>8.308197e-93</td>\n",
       "    </tr>\n",
       "    <tr>\n",
       "      <th>A</th>\n",
       "      <td>-20.911223</td>\n",
       "      <td>2.197252e-94</td>\n",
       "    </tr>\n",
       "    <tr>\n",
       "      <th>R</th>\n",
       "      <td>-16.599944</td>\n",
       "      <td>8.709427e-61</td>\n",
       "    </tr>\n",
       "    <tr>\n",
       "      <th>!</th>\n",
       "      <td>0.340595</td>\n",
       "      <td>7.334184e-01</td>\n",
       "    </tr>\n",
       "    <tr>\n",
       "      <th>T</th>\n",
       "      <td>0.772739</td>\n",
       "      <td>4.397013e-01</td>\n",
       "    </tr>\n",
       "    <tr>\n",
       "      <th>X</th>\n",
       "      <td>7.224055</td>\n",
       "      <td>5.549840e-13</td>\n",
       "    </tr>\n",
       "    <tr>\n",
       "      <th>Y</th>\n",
       "      <td>6.960501</td>\n",
       "      <td>3.681471e-12</td>\n",
       "    </tr>\n",
       "    <tr>\n",
       "      <th>#</th>\n",
       "      <td>-16.401065</td>\n",
       "      <td>2.087120e-59</td>\n",
       "    </tr>\n",
       "    <tr>\n",
       "      <th>U</th>\n",
       "      <td>5.041006</td>\n",
       "      <td>4.740943e-07</td>\n",
       "    </tr>\n",
       "    <tr>\n",
       "      <th>E</th>\n",
       "      <td>-7.165866</td>\n",
       "      <td>8.476310e-13</td>\n",
       "    </tr>\n",
       "    <tr>\n",
       "      <th>$</th>\n",
       "      <td>-15.622619</td>\n",
       "      <td>3.727478e-54</td>\n",
       "    </tr>\n",
       "    <tr>\n",
       "      <th>,</th>\n",
       "      <td>-8.408974</td>\n",
       "      <td>4.916234e-17</td>\n",
       "    </tr>\n",
       "    <tr>\n",
       "      <th>G</th>\n",
       "      <td>6.088308</td>\n",
       "      <td>1.198163e-09</td>\n",
       "    </tr>\n",
       "  </tbody>\n",
       "</table>\n",
       "</div>"
      ],
      "text/plain": [
       "   statistic         pvalue\n",
       "P -21.472420   2.897489e-99\n",
       "D -18.747388   1.194943e-76\n",
       "O -17.545885   1.477255e-67\n",
       "&  -6.631804   3.549812e-11\n",
       "N -17.483887   4.204588e-67\n",
       "S   8.318579   1.050567e-16\n",
       "^ -26.830067  2.139447e-151\n",
       "Z   3.471663   5.202026e-04\n",
       "L  -7.196751   6.772679e-13\n",
       "M        NaN            NaN\n",
       "V -20.726928   8.308197e-93\n",
       "A -20.911223   2.197252e-94\n",
       "R -16.599944   8.709427e-61\n",
       "!   0.340595   7.334184e-01\n",
       "T   0.772739   4.397013e-01\n",
       "X   7.224055   5.549840e-13\n",
       "Y   6.960501   3.681471e-12\n",
       "# -16.401065   2.087120e-59\n",
       "U   5.041006   4.740943e-07\n",
       "E  -7.165866   8.476310e-13\n",
       "$ -15.622619   3.727478e-54\n",
       ",  -8.408974   4.916234e-17\n",
       "G   6.088308   1.198163e-09"
      ]
     },
     "execution_count": 141,
     "metadata": {},
     "output_type": "execute_result"
    }
   ],
   "source": [
    "TTestDF = pd.DataFrame.from_dict(TTestDict,orient='index')\n",
    "TTestDF"
   ]
  },
  {
   "cell_type": "code",
   "execution_count": 142,
   "metadata": {},
   "outputs": [
    {
     "data": {
      "text/html": [
       "<div>\n",
       "<style scoped>\n",
       "    .dataframe tbody tr th:only-of-type {\n",
       "        vertical-align: middle;\n",
       "    }\n",
       "\n",
       "    .dataframe tbody tr th {\n",
       "        vertical-align: top;\n",
       "    }\n",
       "\n",
       "    .dataframe thead th {\n",
       "        text-align: right;\n",
       "    }\n",
       "</style>\n",
       "<table border=\"1\" class=\"dataframe\">\n",
       "  <thead>\n",
       "    <tr style=\"text-align: right;\">\n",
       "      <th></th>\n",
       "      <th>pvalue</th>\n",
       "    </tr>\n",
       "  </thead>\n",
       "  <tbody>\n",
       "    <tr>\n",
       "      <th>P</th>\n",
       "      <td>2.897489e-99</td>\n",
       "    </tr>\n",
       "    <tr>\n",
       "      <th>D</th>\n",
       "      <td>1.194943e-76</td>\n",
       "    </tr>\n",
       "    <tr>\n",
       "      <th>O</th>\n",
       "      <td>1.477255e-67</td>\n",
       "    </tr>\n",
       "    <tr>\n",
       "      <th>&amp;</th>\n",
       "      <td>3.549812e-11</td>\n",
       "    </tr>\n",
       "    <tr>\n",
       "      <th>N</th>\n",
       "      <td>4.204588e-67</td>\n",
       "    </tr>\n",
       "  </tbody>\n",
       "</table>\n",
       "</div>"
      ],
      "text/plain": [
       "         pvalue\n",
       "P  2.897489e-99\n",
       "D  1.194943e-76\n",
       "O  1.477255e-67\n",
       "&  3.549812e-11\n",
       "N  4.204588e-67"
      ]
     },
     "execution_count": 142,
     "metadata": {},
     "output_type": "execute_result"
    }
   ],
   "source": [
    "TTestDF =TTestDF.drop('statistic',axis=1)\n",
    "TTestDF.head()"
   ]
  },
  {
   "cell_type": "code",
   "execution_count": 143,
   "metadata": {},
   "outputs": [],
   "source": [
    "with open ('Accom_TTest.tex','w') as tf:\n",
    "    tf.write(TTestDF.to_latex())"
   ]
  }
 ],
 "metadata": {
  "kernelspec": {
   "display_name": "Python 3",
   "language": "python",
   "name": "python3"
  },
  "language_info": {
   "codemirror_mode": {
    "name": "ipython",
    "version": 3
   },
   "file_extension": ".py",
   "mimetype": "text/x-python",
   "name": "python",
   "nbconvert_exporter": "python",
   "pygments_lexer": "ipython3",
   "version": "3.6.5"
  }
 },
 "nbformat": 4,
 "nbformat_minor": 2
}
