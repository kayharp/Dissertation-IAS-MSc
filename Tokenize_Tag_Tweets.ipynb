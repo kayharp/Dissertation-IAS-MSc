{
 "cells": [
  {
   "cell_type": "markdown",
   "metadata": {},
   "source": [
    "## Tokenize, Tag Tweet messages\n",
    "\n",
    "Code notebook that reads tweet-reply containing csv into a dataframe, then isolates tweet and reply messages as .txt files to be fed into CMU Tweet Tagger to be part-of-speech tagged for further analysis. \n",
    "\n",
    "As part of this process, @-mentions are dropped because they are a naturally and consistently occurring feature of reply messages and twitter conversations, and thus not necessary in this analysis of alignment. This also preserves the identity of Twitter users and assures their privacy. "
   ]
  },
  {
   "cell_type": "code",
   "execution_count": 1,
   "metadata": {},
   "outputs": [],
   "source": [
    "import nltk\n",
    "import pandas as pd\n",
    "import sys\n",
    "import csv\n",
    "import numpy as np\n",
    "import matplotlib.pyplot as plt\n",
    "%matplotlib inline\n",
    "import re\n",
    "import seaborn as sns \n",
    "\n",
    "# Import the tweet tagger from working directory\n",
    "import CMUTweetTaggerWindows as tagger\n",
    "\n",
    "#Import TwettNLP_Tokenizer from working directory\n",
    "import TweetNLP_Tokenizer as tokenize"
   ]
  },
  {
   "cell_type": "code",
   "execution_count": 1,
   "metadata": {},
   "outputs": [],
   "source": [
    "# Translate csv to Dataframe \n",
    "# Data in form of ID~a_id~a_username~a_unixtime~a_tweet~b_id~b_username~b_unixtime~b_tweet\n",
    "\n",
    "tweetData = pd.read_csv('pairs_edit_utf_noSquig.csv', sep='~',)\n",
    "#tweetData"
   ]
  },
  {
   "cell_type": "code",
   "execution_count": 2,
   "metadata": {
    "scrolled": true
   },
   "outputs": [],
   "source": [
    "# Test functions with set of sample tweets\n",
    "\n",
    "sampleTweets = sampleTweets.drop(['a_id','ID','a_username','b_id','b_username','b_unixtime','a_unixtime'],axis=1)\n",
    "#sampleTweets.head()"
   ]
  },
  {
   "cell_type": "markdown",
   "metadata": {},
   "source": [
    "## Tokenize tweets using tweetnlp tokenizer - twokenizer wrapper"
   ]
  },
  {
   "cell_type": "code",
   "execution_count": 10,
   "metadata": {},
   "outputs": [],
   "source": [
    "a_tweets = []\n",
    "for i in tweetData['a_tweet']:\n",
    "    h = tokenize.simpleTokenize(i)\n",
    "    a_tweets.append(h)\n",
    "    "
   ]
  },
  {
   "cell_type": "code",
   "execution_count": 11,
   "metadata": {},
   "outputs": [
    {
     "data": {
      "text/plain": [
       "326168"
      ]
     },
     "execution_count": 11,
     "metadata": {},
     "output_type": "execute_result"
    }
   ],
   "source": [
    "len(a_tweets)"
   ]
  },
  {
   "cell_type": "code",
   "execution_count": 13,
   "metadata": {},
   "outputs": [],
   "source": [
    "# Drop the last item in the tweetData list, because there is no b_tweet reply message to \n",
    "# correspond to a_tweet \n",
    "\n",
    "droppedData = tweetData.drop(326167)"
   ]
  },
  {
   "cell_type": "code",
   "execution_count": 14,
   "metadata": {},
   "outputs": [],
   "source": [
    "b_tweets = []\n",
    "for i in droppedData['b_tweet']:\n",
    "    h = tokenize.simpleTokenize(i)\n",
    "    b_tweets.append(h)"
   ]
  },
  {
   "cell_type": "code",
   "execution_count": 15,
   "metadata": {},
   "outputs": [
    {
     "data": {
      "text/plain": [
       "326167"
      ]
     },
     "execution_count": 15,
     "metadata": {},
     "output_type": "execute_result"
    }
   ],
   "source": [
    "len(b_tweets)"
   ]
  },
  {
   "cell_type": "code",
   "execution_count": 84,
   "metadata": {},
   "outputs": [],
   "source": [
    "# Write lists of tokenized tweets to file\n",
    "a_tweets_file = open('a_tweets_tokenized.txt','w')\n",
    "\n",
    "for item in a_tweets:\n",
    "    a_tweets_file.write('%s\\n' % item)"
   ]
  },
  {
   "cell_type": "code",
   "execution_count": 85,
   "metadata": {},
   "outputs": [],
   "source": [
    "b_tweets_file = open('b_tweets_tokenized.txt','w')\n",
    "\n",
    "for item in b_tweets:\n",
    "    b_tweets_file.write('%s\\n' % item)"
   ]
  },
  {
   "cell_type": "markdown",
   "metadata": {},
   "source": [
    "### Drop @-mentions from tweet message text\n"
   ]
  },
  {
   "cell_type": "code",
   "execution_count": 3,
   "metadata": {},
   "outputs": [],
   "source": [
    "a_tweets[0:5]"
   ]
  },
  {
   "cell_type": "code",
   "execution_count": 4,
   "metadata": {
    "scrolled": true
   },
   "outputs": [],
   "source": [
    "b_tweets[0:5]"
   ]
  },
  {
   "cell_type": "code",
   "execution_count": 5,
   "metadata": {},
   "outputs": [],
   "source": [
    "mention_dict = []\n",
    "\n",
    "#Initialize whichever list corresponds to a_tweets or b_tweets\n",
    "\n",
    "#noAts_A = []\n",
    "noAts_B = []\n",
    "\n",
    "def removeAtsTokenizedTweets(tweets):\n",
    "    for tweet in tweets:\n",
    "        tweet_words = []\n",
    "        for word in tweet:\n",
    "            if(word[0:1]=='@' and len(word)>1):\n",
    "                mention_dict.append(word)\n",
    "            else:\n",
    "                tweet_words.append(word)\n",
    "        #noAts_A.append(tweet_words)     # Uncomment if A_tweets are being worked on\n",
    "        noAts_B.append(tweet_words)\n",
    "        "
   ]
  },
  {
   "cell_type": "code",
   "execution_count": 19,
   "metadata": {},
   "outputs": [],
   "source": [
    "removeAtsTokenizedTweets(a_tweets)"
   ]
  },
  {
   "cell_type": "code",
   "execution_count": 20,
   "metadata": {},
   "outputs": [
    {
     "data": {
      "text/plain": [
       "326168"
      ]
     },
     "execution_count": 20,
     "metadata": {},
     "output_type": "execute_result"
    }
   ],
   "source": [
    "len(noAts_A)"
   ]
  },
  {
   "cell_type": "code",
   "execution_count": 22,
   "metadata": {},
   "outputs": [],
   "source": [
    "removeAtsTokenizedTweets(b_tweets)"
   ]
  },
  {
   "cell_type": "code",
   "execution_count": 23,
   "metadata": {},
   "outputs": [
    {
     "data": {
      "text/plain": [
       "326167"
      ]
     },
     "execution_count": 23,
     "metadata": {},
     "output_type": "execute_result"
    }
   ],
   "source": [
    "len(noAts_B)"
   ]
  },
  {
   "cell_type": "code",
   "execution_count": 6,
   "metadata": {
    "scrolled": true
   },
   "outputs": [],
   "source": [
    "#noAts_A[0]"
   ]
  },
  {
   "cell_type": "markdown",
   "metadata": {},
   "source": [
    "### Count token length in each list"
   ]
  },
  {
   "cell_type": "code",
   "execution_count": 7,
   "metadata": {},
   "outputs": [],
   "source": [
    "#a_tweets = pd.read_csv('a_tweets_tok_noAt.txt')#, sep='',)\n",
    "#text_file = open('NoAtsATweets.csv','r')\n",
    "#a_tweets = text_file.readlines()\n",
    "#text_file.close()\n",
    "#a_tweets[0:5]"
   ]
  },
  {
   "cell_type": "code",
   "execution_count": 25,
   "metadata": {},
   "outputs": [],
   "source": [
    "tokenLengthA = []\n",
    "tokenLengthB = []"
   ]
  },
  {
   "cell_type": "code",
   "execution_count": 29,
   "metadata": {},
   "outputs": [],
   "source": [
    "# loop to count token lengths\n",
    "\n",
    "def countTokens(tweets):\n",
    "    for tweet in tweets: \n",
    "        l = len(tweet)\n",
    "        tokenLengthB.append(l)\n",
    "        #tokenLengthA.append(l) #Uncomment when running to get token length for A users"
   ]
  },
  {
   "cell_type": "code",
   "execution_count": 30,
   "metadata": {},
   "outputs": [],
   "source": [
    "countTokens(b_tweets)"
   ]
  },
  {
   "cell_type": "code",
   "execution_count": 28,
   "metadata": {},
   "outputs": [
    {
     "data": {
      "text/plain": [
       "[26, 26, 16, 20, 29]"
      ]
     },
     "execution_count": 28,
     "metadata": {},
     "output_type": "execute_result"
    }
   ],
   "source": [
    "tokenLengthA[0:5]     # List of Token Counts for a_tweets"
   ]
  },
  {
   "cell_type": "code",
   "execution_count": 31,
   "metadata": {},
   "outputs": [
    {
     "data": {
      "text/plain": [
       "52"
      ]
     },
     "execution_count": 31,
     "metadata": {},
     "output_type": "execute_result"
    }
   ],
   "source": [
    "max(tokenLengthB)"
   ]
  },
  {
   "cell_type": "markdown",
   "metadata": {},
   "source": [
    "### Save counts to txt file"
   ]
  },
  {
   "cell_type": "code",
   "execution_count": 37,
   "metadata": {},
   "outputs": [],
   "source": [
    "file = open('tokenLengthATweets.csv','w')\n",
    "for item in tokenLengthA:\n",
    "    file.write(\"%i\\n\" %item)\n",
    "file.close()"
   ]
  },
  {
   "cell_type": "code",
   "execution_count": 39,
   "metadata": {},
   "outputs": [],
   "source": [
    "file = open('tokenLengthBTweets.csv','w')\n",
    "for item in tokenLengthB:\n",
    "    file.write(\"%i\\n\" %item)\n",
    "file.close()"
   ]
  },
  {
   "cell_type": "code",
   "execution_count": 223,
   "metadata": {},
   "outputs": [],
   "source": [
    "import heapq, random\n",
    "max_values = heapq.nlargest(3, tokenLengthB)"
   ]
  },
  {
   "cell_type": "code",
   "execution_count": 224,
   "metadata": {},
   "outputs": [
    {
     "data": {
      "text/plain": [
       "[141321, 251948, 226365]"
      ]
     },
     "execution_count": 224,
     "metadata": {},
     "output_type": "execute_result"
    }
   ],
   "source": [
    "max_indecesB = []\n",
    "for value in max_values:\n",
    "    max_indecesB.append(tokenLengthB.index(value))\n",
    "    \n",
    "max_indecesB"
   ]
  },
  {
   "cell_type": "code",
   "execution_count": 204,
   "metadata": {},
   "outputs": [
    {
     "data": {
      "text/plain": [
       "251954"
      ]
     },
     "execution_count": 204,
     "metadata": {},
     "output_type": "execute_result"
    }
   ],
   "source": [
    "# Find tweet with max length to check \n",
    "#import operator\n",
    "#index,value = max(enumerate(tokenLengthA), key = operator.itemgetter)\n",
    "max_value_A = max(tokenLengthA)\n",
    "max_index_A = tokenLengthA.index(max_value_A)\n",
    "max_index_A"
   ]
  },
  {
   "cell_type": "code",
   "execution_count": 138,
   "metadata": {},
   "outputs": [
    {
     "name": "stdout",
     "output_type": "stream",
     "text": [
      "14.794237307882158 14.6244826254116\n"
     ]
    }
   ],
   "source": [
    "print(meanATokens, meanBTokens)"
   ]
  },
  {
   "cell_type": "code",
   "execution_count": 266,
   "metadata": {},
   "outputs": [
    {
     "data": {
      "text/plain": [
       "16.039127075617472"
      ]
     },
     "execution_count": 266,
     "metadata": {},
     "output_type": "execute_result"
    }
   ],
   "source": [
    "meanATokens = np.mean(tokenLengthA)\n",
    "meanATokens"
   ]
  },
  {
   "cell_type": "code",
   "execution_count": 268,
   "metadata": {},
   "outputs": [
    {
     "data": {
      "text/plain": [
       "15.869352203012568"
      ]
     },
     "execution_count": 268,
     "metadata": {},
     "output_type": "execute_result"
    }
   ],
   "source": [
    "meanBTokens = np.mean(tokenLengthB)\n",
    "meanBTokens"
   ]
  },
  {
   "cell_type": "code",
   "execution_count": 142,
   "metadata": {},
   "outputs": [
    {
     "name": "stderr",
     "output_type": "stream",
     "text": [
      "No handles with labels found to put in legend.\n"
     ]
    },
    {
     "data": {
      "image/png": "[encoded data removed]",
      "text/plain": [
       "<Figure size 432x288 with 1 Axes>"
      ]
     },
     "metadata": {},
     "output_type": "display_data"
    }
   ],
   "source": [
    "# Plot mean tokens\n",
    "plt.hist(tokenLengthA,bins=20,edgecolor='k')\n",
    "plt.axvline(meanATokens, color='r', linestyle = 'dashed')\n",
    "plt.title('Mean Tweet Length')\n",
    "plt.xlabel('Tweet Length')\n",
    "plt.ylabel('Number of Tweets')\n",
    "plt.legend()\n",
    "plt.savefig('MeanTokenLengthATweets')"
   ]
  },
  {
   "cell_type": "code",
   "execution_count": 143,
   "metadata": {},
   "outputs": [
    {
     "data": {
      "image/png": "[encoded data removed]",
      "text/plain": [
       "<Figure size 432x288 with 1 Axes>"
      ]
     },
     "metadata": {},
     "output_type": "display_data"
    }
   ],
   "source": [
    "# Plot mean tokens b-tweets\n",
    "plt.hist(tokenLengthB,bins=20,edgecolor='k')\n",
    "plt.axvline(meanBTokens, color='r', linestyle = 'dashed')\n",
    "plt.title('Mean Reply Tweet Length')\n",
    "plt.xlabel('Tweet Length')\n",
    "plt.ylabel('Number of Tweets')\n",
    "\n",
    "#plt.legend()\n",
    "plt.savefig('MeanTokenLengthBTweets')"
   ]
  },
  {
   "cell_type": "code",
   "execution_count": 264,
   "metadata": {},
   "outputs": [
    {
     "data": {
      "text/plain": [
       "7.927732625140321"
      ]
     },
     "execution_count": 264,
     "metadata": {},
     "output_type": "execute_result"
    }
   ],
   "source": [
    "np.std(tokenLengthB)"
   ]
  },
  {
   "cell_type": "code",
   "execution_count": 265,
   "metadata": {},
   "outputs": [
    {
     "data": {
      "text/plain": [
       "7.624746940101147"
      ]
     },
     "execution_count": 265,
     "metadata": {},
     "output_type": "execute_result"
    }
   ],
   "source": [
    "np.std(tokenLengthA)"
   ]
  },
  {
   "cell_type": "code",
   "execution_count": 262,
   "metadata": {},
   "outputs": [
    {
     "data": {
      "text/plain": [
       "62.84894457571424"
      ]
     },
     "execution_count": 262,
     "metadata": {},
     "output_type": "execute_result"
    }
   ],
   "source": [
    "np.var(tokenLengthB)"
   ]
  },
  {
   "cell_type": "code",
   "execution_count": 263,
   "metadata": {},
   "outputs": [
    {
     "data": {
      "text/plain": [
       "58.13676590058181"
      ]
     },
     "execution_count": 263,
     "metadata": {},
     "output_type": "execute_result"
    }
   ],
   "source": [
    "np.var(tokenLengthA)"
   ]
  },
  {
   "cell_type": "code",
   "execution_count": 276,
   "metadata": {},
   "outputs": [],
   "source": [
    "# Write lists of tokenized, @-free tweets to file\n",
    "a_file = open('a_tweets_tok_noAt.csv','w')\n",
    "\n",
    "for item in noAts_A:\n",
    "    a_file.write('%s\\n' % item)"
   ]
  },
  {
   "cell_type": "code",
   "execution_count": 288,
   "metadata": {},
   "outputs": [],
   "source": [
    "# Write lists of tokenized, @-free tweets to file\n",
    "b_file = open('b_tweets_tok_noAt.txt','w')\n",
    "\n",
    "for item in noAts_B:\n",
    "    b_file.write('%s\\n' % item)\n",
    "\n",
    "b_file.close()"
   ]
  },
  {
   "cell_type": "code",
   "execution_count": 290,
   "metadata": {},
   "outputs": [],
   "source": [
    "# Clean off brackets in text files for a and b on seprate occasions, replacing letter as needed\n",
    "text = ''\n",
    "with open ('b_tweets_tok_noAt.txt','r') as myfile:\n",
    "    text = myfile.read()\n",
    "    text = text.replace('[', '')\n",
    "    text = text.replace(']', '')\n",
    "\n",
    "# To save back as a cleaned up file:\n",
    "with open ('NoAtsBTweets.txt', 'w') as myfile2: \n",
    "    myfile2.write(text)\n",
    "    \n",
    "myfile.close()\n",
    "myfile2.close()"
   ]
  },
  {
   "cell_type": "code",
   "execution_count": 299,
   "metadata": {},
   "outputs": [],
   "source": [
    "# Program to join string\n",
    "def join_string (list_string):\n",
    "    string = ' '.join(list_string)\n",
    "    return string"
   ]
  },
  {
   "cell_type": "code",
   "execution_count": 8,
   "metadata": {},
   "outputs": [],
   "source": [
    "# Join the individual word lists into string. Replace 'B' with 'A' to clean a_tweets\n",
    "\n",
    "#cleanedTweets_B = []\n",
    "#for item in noAts_B:\n",
    "#    v = join_string(item)\n",
    "#    cleanedTweets_B.append(v)\n",
    "#cleanedTweets_B"
   ]
  },
  {
   "cell_type": "code",
   "execution_count": null,
   "metadata": {},
   "outputs": [],
   "source": [
    "# Write lists of tokenized, @-free tweets to file\n",
    "b_file = open('cleanedBtoTag.txt','w')\n",
    "\n",
    "for item in cleanedTweets_B:\n",
    "    b_file.write('%s\\n' % item)\n",
    "\n",
    "b_file.close()"
   ]
  },
  {
   "cell_type": "code",
   "execution_count": 316,
   "metadata": {},
   "outputs": [],
   "source": [
    "# Run tagger on the cleaned a and b tweets; save each\n",
    "\n",
    "tagger.runFile('cleanedAtoTag.txt')\n",
    "tagger.runFile('cleanedBtoTag.txt')"
   ]
  }
 ],
 "metadata": {
  "kernelspec": {
   "display_name": "Python 3",
   "language": "python",
   "name": "python3"
  },
  "language_info": {
   "codemirror_mode": {
    "name": "ipython",
    "version": 3
   },
   "file_extension": ".py",
   "mimetype": "text/x-python",
   "name": "python",
   "nbconvert_exporter": "python",
   "pygments_lexer": "ipython3",
   "version": "3.6.5"
  }
 },
 "nbformat": 4,
 "nbformat_minor": 2
}
