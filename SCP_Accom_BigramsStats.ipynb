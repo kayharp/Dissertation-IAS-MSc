{
 "cells": [
  {
   "cell_type": "markdown",
   "metadata": {},
   "source": [
    "# SCP-Accommodation Bigrams\n",
    "## P Values, TTest\n",
    "This notebook contains Fisher's Exact test to calculate statistical validity of part of speech tags. It also was used to generate SCP Accommodation calculations for bigram markers contains paired t-test results for those tests. "
   ]
  },
  {
   "cell_type": "code",
   "execution_count": 1,
   "metadata": {},
   "outputs": [],
   "source": [
    "import nltk\n",
    "import pandas as pd\n",
    "import sys\n",
    "import csv\n",
    "import numpy as np\n",
    "import matplotlib.pyplot as plt\n",
    "%matplotlib inline\n",
    "import re\n",
    "import seaborn as sns \n",
    "import random\n",
    "import itertools\n",
    "\n",
    "# Import the bigram code from working directory\n",
    "import BigramCode as bi\n",
    "import SCP_Code as scp\n",
    "from collections import Counter"
   ]
  },
  {
   "cell_type": "code",
   "execution_count": 2,
   "metadata": {},
   "outputs": [],
   "source": [
    "## To run when parsing pos tag results\n",
    "dataA = pd.read_csv('A_Tweets_Tagged.txt', sep='\\t', header=None)\n",
    "dataA.columns = ['Tokens', 'Tags', 'Conf','Raw Tweet']\n",
    "\n",
    "dataB = pd.read_csv('B_Tweets_Tagged.txt', sep='\\t', header=None)\n",
    "dataB.columns = ['Tokens', 'Tags', 'Conf','Raw Tweet']"
   ]
  },
  {
   "cell_type": "code",
   "execution_count": 3,
   "metadata": {},
   "outputs": [],
   "source": [
    "tweetData = pd.read_csv('pairs_edit_utf_noSquig.csv', sep='~',)\n",
    "#tweetData.head()"
   ]
  },
  {
   "cell_type": "code",
   "execution_count": 4,
   "metadata": {},
   "outputs": [
    {
     "data": {
      "text/plain": [
       "326167"
      ]
     },
     "execution_count": 4,
     "metadata": {},
     "output_type": "execute_result"
    }
   ],
   "source": [
    "dataA = dataA.drop(dataA.index[len(dataA)-1])\n",
    "len(dataA)"
   ]
  },
  {
   "cell_type": "code",
   "execution_count": 5,
   "metadata": {},
   "outputs": [],
   "source": [
    "dataA.fillna({'Tags':'B'}, inplace=True)\n",
    "dataB.fillna({'Tags':'B'}, inplace=True)"
   ]
  },
  {
   "cell_type": "code",
   "execution_count": 6,
   "metadata": {},
   "outputs": [
    {
     "name": "stdout",
     "output_type": "stream",
     "text": [
      "326167 326167\n"
     ]
    }
   ],
   "source": [
    "countdictA = []\n",
    "for tags in dataA.Tags: \n",
    "    count = Counter(tags)\n",
    "    countdictA.append(count)\n",
    "    \n",
    "countdictB = []\n",
    "for tags in dataB.Tags: \n",
    "    count = Counter(tags)\n",
    "    countdictB.append(count)\n",
    "    \n",
    "print(len(countdictA),len(countdictB))"
   ]
  },
  {
   "cell_type": "code",
   "execution_count": 7,
   "metadata": {},
   "outputs": [
    {
     "name": "stdout",
     "output_type": "stream",
     "text": [
      "326167 326167 326167\n"
     ]
    }
   ],
   "source": [
    "# Shuffle markerset B\n",
    "shuffledB = random.sample(countdictB,len(countdictB))\n",
    "# get shared markers in A-B and A-randB\n",
    "sharedMarkers = scp.getSharedMarkers(countdictA,countdictB)\n",
    "sharedRand = scp.getSharedMarkers(countdictA,shuffledB)\n",
    "\n",
    "#Check all same length\n",
    "print(len(shuffledB),len(sharedMarkers),len(sharedRand))"
   ]
  },
  {
   "cell_type": "code",
   "execution_count": 11,
   "metadata": {},
   "outputs": [],
   "source": [
    "# Markers as POS tags\n",
    "markers = ['P','D','O','&','N','S','^','Z','L','M','V','A','R','!','T','X','Y','#','U','E','$',',','G']"
   ]
  },
  {
   "cell_type": "code",
   "execution_count": 24,
   "metadata": {
    "scrolled": true
   },
   "outputs": [
    {
     "data": {
      "text/plain": [
       "{'P': 1.801005643683318e-204,\n",
       " 'D': 2.9732324841969283e-148,\n",
       " 'O': 1.2951119546240638e-83,\n",
       " '&': 3.406948473268464e-144,\n",
       " 'N': 6.0665847596775444e-83,\n",
       " 'S': 5.6412203644346795e-09,\n",
       " '^': 0.0,\n",
       " 'Z': 9.141407132866083e-73,\n",
       " 'L': 2.291897375612644e-115,\n",
       " 'M': 1.0,\n",
       " 'V': 1.348940219066829e-75,\n",
       " 'A': 3.234683437561221e-176,\n",
       " 'R': 1.4877045233658136e-125,\n",
       " '!': 3.7247995049390225e-153,\n",
       " 'T': 5.592783395674315e-84,\n",
       " 'X': 1.7292169980452784e-32,\n",
       " 'Y': 1.0,\n",
       " '#': 0.0,\n",
       " 'U': 2.529536699476284e-103,\n",
       " 'E': 0.0,\n",
       " '$': 0.0,\n",
       " ',': 4.510775300295923e-23,\n",
       " 'G': 7.439356273303634e-96}"
      ]
     },
     "execution_count": 24,
     "metadata": {},
     "output_type": "execute_result"
    }
   ],
   "source": [
    "# Use fishers to find statistical significance of pos tag results:\n",
    "fishScore = scp.getFishersPVal(countdictA,countdictB,sharedMarkers,markers)\n",
    "fishScorerand = scp.getFishersPVal(countdictA,countdictB,sharedRand,markers)\n",
    "fishScore"
   ]
  },
  {
   "cell_type": "code",
   "execution_count": 27,
   "metadata": {},
   "outputs": [],
   "source": [
    "# Convert to dataframes\n",
    "fishScoreDF = pd.DataFrame.from_dict(fishScore, orient='index')\n",
    "fishScoreDF.columns = ['P-Score POS Tags']\n",
    "fishScoreDF.head()\n",
    "\n",
    "fishScorerandDF = pd.DataFrame.from_dict(fishScorerand, orient='index')\n",
    "fishScorerandDF.columns = ['P-Score POS Randomized Baseline']\n",
    "#fishScorerandDF.head()"
   ]
  },
  {
   "cell_type": "code",
   "execution_count": 39,
   "metadata": {},
   "outputs": [],
   "source": [
    "#with open ('P_Score_POS.tex','w') as tf:\n",
    "#    tf.write(fishScoreDF.to_latex())\n",
    "    \n",
    "with open ('P_Score_POS_rand.tex','w') as tf2:\n",
    "    tf2.write(fishScorerandDF.to_latex())"
   ]
  },
  {
   "cell_type": "code",
   "execution_count": 29,
   "metadata": {},
   "outputs": [
    {
     "data": {
      "text/html": [
       "<div>\n",
       "<style scoped>\n",
       "    .dataframe tbody tr th:only-of-type {\n",
       "        vertical-align: middle;\n",
       "    }\n",
       "\n",
       "    .dataframe tbody tr th {\n",
       "        vertical-align: top;\n",
       "    }\n",
       "\n",
       "    .dataframe thead th {\n",
       "        text-align: right;\n",
       "    }\n",
       "</style>\n",
       "<table border=\"1\" class=\"dataframe\">\n",
       "  <thead>\n",
       "    <tr style=\"text-align: right;\">\n",
       "      <th></th>\n",
       "      <th>P-Score POS Tags</th>\n",
       "    </tr>\n",
       "  </thead>\n",
       "  <tbody>\n",
       "    <tr>\n",
       "      <th>P</th>\n",
       "      <td>1.801006e-204</td>\n",
       "    </tr>\n",
       "    <tr>\n",
       "      <th>D</th>\n",
       "      <td>2.973232e-148</td>\n",
       "    </tr>\n",
       "    <tr>\n",
       "      <th>O</th>\n",
       "      <td>1.295112e-83</td>\n",
       "    </tr>\n",
       "    <tr>\n",
       "      <th>&amp;</th>\n",
       "      <td>3.406948e-144</td>\n",
       "    </tr>\n",
       "    <tr>\n",
       "      <th>N</th>\n",
       "      <td>6.066585e-83</td>\n",
       "    </tr>\n",
       "  </tbody>\n",
       "</table>\n",
       "</div>"
      ],
      "text/plain": [
       "   P-Score POS Tags\n",
       "P     1.801006e-204\n",
       "D     2.973232e-148\n",
       "O      1.295112e-83\n",
       "&     3.406948e-144\n",
       "N      6.066585e-83"
      ]
     },
     "execution_count": 29,
     "metadata": {},
     "output_type": "execute_result"
    }
   ],
   "source": [
    "fishScoreDF.head()"
   ]
  },
  {
   "cell_type": "markdown",
   "metadata": {},
   "source": [
    "# Bigrams - Accommodation and Ttest"
   ]
  },
  {
   "cell_type": "code",
   "execution_count": 8,
   "metadata": {},
   "outputs": [],
   "source": [
    "bigramsA = bi.AllBigramsinTweetset(dataA.Tags)\n",
    "\n",
    "bigramsB = bi.AllBigramsinTweetset(dataB.Tags)"
   ]
  },
  {
   "cell_type": "code",
   "execution_count": 9,
   "metadata": {},
   "outputs": [
    {
     "name": "stdout",
     "output_type": "stream",
     "text": [
      "[[['V', 'O'], ['O', 'V'], ['O', 'O'], ['O', 'N'], ['N', 'L'], ['L', 'V'], ['V', 'P'], ['P', ','], [',', 'V'], ['V', 'V'], ['P', '^'], ['^', 'P'], ['^', 'N'], ['N', '&'], ['&', 'V'], ['O', 'P'], ['P', 'V'], ['V', 'N'], ['N', ',']]] 326167\n",
      "[[['V', 'V'], ['V', 'P'], ['P', 'D'], ['D', 'N'], ['N', 'P'], ['P', 'O'], ['O', 'V'], ['V', 'N'], ['P', 'A'], ['A', ','], [',', 'V'], ['P', 'V'], ['V', 'O'], ['O', 'P'], ['P', ','], ['P', '^'], ['^', 'R'], ['R', ',']]] 326167\n"
     ]
    }
   ],
   "source": [
    "print(bigramsA[0:1],len(bigramsA))\n",
    "print(bigramsB[0:1],len(bigramsB))"
   ]
  },
  {
   "cell_type": "code",
   "execution_count": 10,
   "metadata": {},
   "outputs": [],
   "source": [
    "tupleBigramsA = bi.convertToTuples(bigramsA)\n",
    "tupleBigramsB = bi.convertToTuples(bigramsB)"
   ]
  },
  {
   "cell_type": "code",
   "execution_count": 1,
   "metadata": {},
   "outputs": [],
   "source": [
    "print('A Bigrams: ',tupleBigramsA[0:2],'\\n B Bigrams: ',tupleBigramsB[0:2])"
   ]
  },
  {
   "cell_type": "code",
   "execution_count": 11,
   "metadata": {},
   "outputs": [],
   "source": [
    "# Scramble replies in tupleBigramsB for random \n",
    "shuffledBigB = random.sample(tupleBigramsB,len(tupleBigramsB))\n",
    "#print(shuffledBigB[0:2])"
   ]
  },
  {
   "cell_type": "code",
   "execution_count": 12,
   "metadata": {},
   "outputs": [
    {
     "data": {
      "text/plain": [
       "3863782"
      ]
     },
     "execution_count": 12,
     "metadata": {},
     "output_type": "execute_result"
    }
   ],
   "source": [
    "# First make list of lists by flattening: \n",
    "\n",
    "singleListBigramsA = [y for x in tupleBigramsA for y in x]\n",
    "len(singleListBigramsA)"
   ]
  },
  {
   "cell_type": "code",
   "execution_count": 13,
   "metadata": {},
   "outputs": [
    {
     "data": {
      "text/plain": [
       "3815722"
      ]
     },
     "execution_count": 13,
     "metadata": {},
     "output_type": "execute_result"
    }
   ],
   "source": [
    "# Make single list of bigrams for b_tweets\n",
    "singleListBigramsB = [y for x in tupleBigramsB for y in x]\n",
    "len(singleListBigramsB)"
   ]
  },
  {
   "cell_type": "code",
   "execution_count": 14,
   "metadata": {},
   "outputs": [],
   "source": [
    "bigramsFreqA = Counter(singleListBigramsA)\n",
    "bigramsFreqB = Counter(singleListBigramsB)"
   ]
  },
  {
   "cell_type": "code",
   "execution_count": 15,
   "metadata": {},
   "outputs": [
    {
     "data": {
      "text/plain": [
       "[(('O', 'V'), 339790),\n",
       " (('N', ','), 329800),\n",
       " (('D', 'N'), 304439),\n",
       " (('V', 'O'), 223508),\n",
       " (('N', 'P'), 221975),\n",
       " (('A', 'N'), 217495),\n",
       " (('V', 'V'), 217285),\n",
       " (('V', 'P'), 212797),\n",
       " (('V', 'D'), 206326),\n",
       " (('P', 'D'), 185236)]"
      ]
     },
     "execution_count": 15,
     "metadata": {},
     "output_type": "execute_result"
    }
   ],
   "source": [
    "# Set the topBigrams to use as markers\n",
    "totalBigramFreq = bigramsFreqB+bigramsFreqA\n",
    "topBigrams = totalBigramFreq.most_common(50)\n",
    "topBigrams[0:10]"
   ]
  },
  {
   "cell_type": "code",
   "execution_count": 16,
   "metadata": {},
   "outputs": [],
   "source": [
    "bigMarks = []\n",
    "for bigram,count in topBigrams:\n",
    "    bigMarks.append(bigram)"
   ]
  },
  {
   "cell_type": "code",
   "execution_count": 17,
   "metadata": {},
   "outputs": [
    {
     "name": "stdout",
     "output_type": "stream",
     "text": [
      "Length Shared:  326167 Length Shared Rand:  326167\n"
     ]
    }
   ],
   "source": [
    "# Get shared bigrams between A-B and A-Brand\n",
    "\n",
    "sharedABBig = scp.getSharedMarkers(tupleBigramsA,tupleBigramsB)\n",
    "sharedARandBig = scp.getSharedMarkers(tupleBigramsA,shuffledBigB)\n",
    "print('Length Shared: ',len(sharedABBig), 'Length Shared Rand: ',len(sharedARandBig))"
   ]
  },
  {
   "cell_type": "markdown",
   "metadata": {},
   "source": [
    "### Pairs for Bigrams Accomodation"
   ]
  },
  {
   "cell_type": "code",
   "execution_count": 24,
   "metadata": {
    "scrolled": true
   },
   "outputs": [
    {
     "data": {
      "text/html": [
       "<div>\n",
       "<style scoped>\n",
       "    .dataframe tbody tr th:only-of-type {\n",
       "        vertical-align: middle;\n",
       "    }\n",
       "\n",
       "    .dataframe tbody tr th {\n",
       "        vertical-align: top;\n",
       "    }\n",
       "\n",
       "    .dataframe thead th {\n",
       "        text-align: right;\n",
       "    }\n",
       "</style>\n",
       "<table border=\"1\" class=\"dataframe\">\n",
       "  <thead>\n",
       "    <tr style=\"text-align: right;\">\n",
       "      <th></th>\n",
       "      <th>BigA</th>\n",
       "      <th>BigB</th>\n",
       "    </tr>\n",
       "  </thead>\n",
       "  <tbody>\n",
       "    <tr>\n",
       "      <th>0</th>\n",
       "      <td>[(V, O), (O, V), (O, O), (O, N), (N, L), (L, V...</td>\n",
       "      <td>[(V, V), (V, P), (P, D), (D, N), (N, P), (P, O...</td>\n",
       "    </tr>\n",
       "    <tr>\n",
       "      <th>1</th>\n",
       "      <td>[(V, O), (O, V), (O, O), (O, N), (N, L), (L, V...</td>\n",
       "      <td>[(!, ,), (,, O), (O, V), (V, V), (V, O), (O, D...</td>\n",
       "    </tr>\n",
       "    <tr>\n",
       "      <th>2</th>\n",
       "      <td>[(!, ,), (,, O), (O, V), (V, V), (V, O), (O, D...</td>\n",
       "      <td>[(V, ,)]</td>\n",
       "    </tr>\n",
       "    <tr>\n",
       "      <th>3</th>\n",
       "      <td>[(R, V), (V, V), (V, O), (O, R), (R, P), (P, O...</td>\n",
       "      <td>[(O, V), (V, A), (A, ,), (,, O), (V, N), (N, P...</td>\n",
       "    </tr>\n",
       "    <tr>\n",
       "      <th>4</th>\n",
       "      <td>[(!, ,), (,, L), (L, O), (O, V), (V, ,), (,, G...</td>\n",
       "      <td>[(^, ^), (^, V), (V, A), (A, P), (P, V), (V, V...</td>\n",
       "    </tr>\n",
       "  </tbody>\n",
       "</table>\n",
       "</div>"
      ],
      "text/plain": [
       "                                                BigA  \\\n",
       "0  [(V, O), (O, V), (O, O), (O, N), (N, L), (L, V...   \n",
       "1  [(V, O), (O, V), (O, O), (O, N), (N, L), (L, V...   \n",
       "2  [(!, ,), (,, O), (O, V), (V, V), (V, O), (O, D...   \n",
       "3  [(R, V), (V, V), (V, O), (O, R), (R, P), (P, O...   \n",
       "4  [(!, ,), (,, L), (L, O), (O, V), (V, ,), (,, G...   \n",
       "\n",
       "                                                BigB  \n",
       "0  [(V, V), (V, P), (P, D), (D, N), (N, P), (P, O...  \n",
       "1  [(!, ,), (,, O), (O, V), (V, V), (V, O), (O, D...  \n",
       "2                                           [(V, ,)]  \n",
       "3  [(O, V), (V, A), (A, ,), (,, O), (V, N), (N, P...  \n",
       "4  [(^, ^), (^, V), (V, A), (A, P), (P, V), (V, V...  "
      ]
     },
     "execution_count": 24,
     "metadata": {},
     "output_type": "execute_result"
    }
   ],
   "source": [
    "bigramDF = pd.DataFrame()\n",
    "bigramDF['BigA'] = tupleBigramsA\n",
    "#bigramDF\n",
    "bigramDF['BigB'] = tupleBigramsB\n",
    "bigramDF.head()"
   ]
  },
  {
   "cell_type": "code",
   "execution_count": 25,
   "metadata": {},
   "outputs": [
    {
     "data": {
      "text/plain": [
       "True"
      ]
     },
     "execution_count": 25,
     "metadata": {},
     "output_type": "execute_result"
    }
   ],
   "source": [
    "sam = (bigramDF['BigA'][0])\n",
    "('V', 'O') in sam"
   ]
  },
  {
   "cell_type": "code",
   "execution_count": 26,
   "metadata": {},
   "outputs": [],
   "source": [
    "pairs = []\n",
    "for i in range(len(tweetData)):\n",
    "    pairs.append(tuple([tweetData.a_username[i],tweetData.b_username[i]]))"
   ]
  },
  {
   "cell_type": "code",
   "execution_count": 27,
   "metadata": {},
   "outputs": [
    {
     "data": {
      "text/plain": [
       "326167"
      ]
     },
     "execution_count": 27,
     "metadata": {},
     "output_type": "execute_result"
    }
   ],
   "source": [
    "pairs = pairs[:-1]\n",
    "len(pairs)"
   ]
  },
  {
   "cell_type": "code",
   "execution_count": 5,
   "metadata": {},
   "outputs": [],
   "source": [
    "bigramDF['Pairs'] = pairs\n",
    "bigramDF.head()"
   ]
  },
  {
   "cell_type": "code",
   "execution_count": 29,
   "metadata": {},
   "outputs": [
    {
     "data": {
      "text/plain": [
       "69148"
      ]
     },
     "execution_count": 29,
     "metadata": {},
     "output_type": "execute_result"
    }
   ],
   "source": [
    "unCount = Counter(bigramDF['Pairs'])\n",
    "len(unCount)"
   ]
  },
  {
   "cell_type": "code",
   "execution_count": 30,
   "metadata": {},
   "outputs": [
    {
     "data": {
      "text/plain": [
       "7392"
      ]
     },
     "execution_count": 30,
     "metadata": {},
     "output_type": "execute_result"
    }
   ],
   "source": [
    "for k in list(unCount):\n",
    "    if unCount[k] < 10: # Delete tweet-reply username pairs with fewer than 10 messages\n",
    "        del unCount[k]\n",
    "len(unCount)"
   ]
  },
  {
   "cell_type": "code",
   "execution_count": null,
   "metadata": {},
   "outputs": [],
   "source": [
    "# Generate list of tuple usernames top \n",
    "countList = []\n",
    "for item in list(unCount):\n",
    "    countList.append(item)\n",
    "countList[0:5]"
   ]
  },
  {
   "cell_type": "code",
   "execution_count": 4,
   "metadata": {
    "scrolled": true
   },
   "outputs": [],
   "source": [
    "# Generate new df with only enough to study\n",
    "toTestAcc = bigramDF[bigramDF['Pairs'].isin(countList)]\n",
    "toTestAcc = toTestAcc.reset_index()\n",
    "toTestAcc[0:20]"
   ]
  },
  {
   "cell_type": "code",
   "execution_count": 33,
   "metadata": {},
   "outputs": [],
   "source": [
    "toTestAcc.fillna({'Tags':'B'}, inplace=True)\n",
    "toTestAcc.fillna({'Tags_B':'B'}, inplace=True)"
   ]
  },
  {
   "cell_type": "code",
   "execution_count": 34,
   "metadata": {},
   "outputs": [
    {
     "name": "stdout",
     "output_type": "stream",
     "text": [
      "174858 [[('V', 'V'), ('A', 'N'), ('N', 'E')], [('N', 'R'), ('R', 'R'), ('R', ',')], [('V', 'O'), ('V', 'R')], [('R', 'V'), ('D', 'N'), ('N', 'P'), ('P', 'D'), ('N', ','), (',', 'V')], [('V', ','), ('V', 'V'), ('V', 'D'), ('D', 'N'), ('N', 'P'), ('P', 'D'), ('N', ',')]]\n"
     ]
    }
   ],
   "source": [
    "def getSharedMarkers(ATweet,BTweet):\n",
    "\tsharedMarkers = []\n",
    "\tfor i in range(len(ATweet)):\n",
    "\t\ttempmarker = []\n",
    "\t\tfor tag in ATweet[i]:\n",
    "\t\t\tif tag in BTweet[i] and (tag not in tempmarker):\n",
    "\t\t\t\ttempmarker.append(tag)\n",
    "\t\tsharedMarkers.append(tempmarker)\n",
    "\treturn sharedMarkers\n",
    "shared = getSharedMarkers(toTestAcc['BigA'],toTestAcc['BigB'])\n",
    "print(len(shared),shared[0:5])"
   ]
  },
  {
   "cell_type": "code",
   "execution_count": 35,
   "metadata": {},
   "outputs": [],
   "source": [
    "def UNIterateforSCPPairScore(dataframe,userPair,shared):\n",
    "    tempA = []\n",
    "    tempB = []\n",
    "    tempsh = []\n",
    "    for num in range(len(dataframe)):\n",
    "        if dataframe['Pairs'][num] == userPair: # check to see if the row matches UN pairs to be calc.\n",
    "            tempA.append(dataframe['BigA'][num])\n",
    "            tempB.append(dataframe['BigB'][num])\n",
    "            tempsh.append(shared[num])\n",
    "    return([tempA,tempB,tempsh])\n",
    "\n",
    "def calculateAccom(markerset,UNTweetTagsA,UNTweetTagsB,SharedABTags):\n",
    "    minDict= {}\n",
    "    for marker in markerset:\n",
    "        minDict[marker] = getMin(marker,UNTweetTagsB)\n",
    "        marker2 = str(marker)+'2'\n",
    "        minDict[marker2] = getSub(marker,UNTweetTagsA,SharedABTags)\n",
    "    return minDict\n",
    "\n",
    "def getMin(marker,listB):\n",
    "    numerator = scp.countMarkers(marker,listB)#b's replies to A in which marker is present\n",
    "    denom = len(listB) # number of b's replies to A\n",
    "    if denom == 0:\n",
    "        return np.nan\n",
    "    else:\n",
    "        return (numerator/denom)\n",
    "\n",
    "def getSub(marker,listA,shared):\n",
    "    numerator = scp.countMarkers(marker,shared) #b and a show marker\n",
    "    denom = scp.countMarkers(marker,listA) # a shows marker\n",
    "    if denom == 0:\n",
    "        return np.nan\n",
    "    else:\n",
    "        return(numerator/denom)\n",
    "\n",
    "def getAcc(marker,listA,listB,shared):\n",
    "    minuend = getMin(marker,listB)\n",
    "    subtrahend = getSub(marker,listA,shared)\n",
    "    if subtrahend == 0:\n",
    "        return np.nan\n",
    "    else:\n",
    "        return([minuend,subtrahend])\n",
    "\n",
    "# Call upon this function\n",
    "def fullForm(usernameList,dataframe,markers,shared):\n",
    "    minDict = {}\n",
    "    for userPair in usernameList:\n",
    "        temp = UNIterateforSCPPairScore(dataframe,userPair,shared)# temp consists of [A_lst,B_lst,Shared]\n",
    "        minDict[userPair] = calculateAccom(markers,temp[0],temp[1],temp[2])\n",
    "    return minDict"
   ]
  },
  {
   "cell_type": "code",
   "execution_count": 62,
   "metadata": {},
   "outputs": [
    {
     "data": {
      "text/plain": [
       "7392"
      ]
     },
     "execution_count": 62,
     "metadata": {},
     "output_type": "execute_result"
    }
   ],
   "source": [
    "allScores = fullForm(countList,toTestAcc,bigMarks,shared)\n",
    "len(allScores)"
   ]
  },
  {
   "cell_type": "code",
   "execution_count": 63,
   "metadata": {},
   "outputs": [],
   "source": [
    "#Write df to CSV\n",
    "allScoresDF = pd.DataFrame.from_dict(allScores,orient='index')\n",
    "allScoresDF.to_csv('SCP_Acc_Scores_Big.csv',sep = '~')"
   ]
  },
  {
   "cell_type": "code",
   "execution_count": 3,
   "metadata": {},
   "outputs": [],
   "source": [
    "allScoresDF.head() # next find mean of each column and then subtract minuend (big)from sub(big2)"
   ]
  },
  {
   "cell_type": "code",
   "execution_count": null,
   "metadata": {},
   "outputs": [],
   "source": [
    "meanscol = allScoresDF.mean(axis = 0)\n",
    "meanscol"
   ]
  },
  {
   "cell_type": "code",
   "execution_count": 71,
   "metadata": {},
   "outputs": [],
   "source": [
    "# Acc(C) = mean of the set of b|a estimations - mean of set of b estimations\n",
    "#marker2 - marker = AccC\n",
    "meanDF = meanscol.to_frame()#.reset_index()\n",
    "meanDF.columns=['Score']\n",
    "meanDF=meanDF.reset_index()"
   ]
  },
  {
   "cell_type": "code",
   "execution_count": 72,
   "metadata": {},
   "outputs": [
    {
     "data": {
      "text/html": [
       "<div>\n",
       "<style scoped>\n",
       "    .dataframe tbody tr th:only-of-type {\n",
       "        vertical-align: middle;\n",
       "    }\n",
       "\n",
       "    .dataframe tbody tr th {\n",
       "        vertical-align: top;\n",
       "    }\n",
       "\n",
       "    .dataframe thead th {\n",
       "        text-align: right;\n",
       "    }\n",
       "</style>\n",
       "<table border=\"1\" class=\"dataframe\">\n",
       "  <thead>\n",
       "    <tr style=\"text-align: right;\">\n",
       "      <th></th>\n",
       "      <th>index</th>\n",
       "      <th>Score</th>\n",
       "    </tr>\n",
       "  </thead>\n",
       "  <tbody>\n",
       "    <tr>\n",
       "      <th>0</th>\n",
       "      <td>(O, V)</td>\n",
       "      <td>0.517275</td>\n",
       "    </tr>\n",
       "    <tr>\n",
       "      <th>1</th>\n",
       "      <td>('O', 'V')2</td>\n",
       "      <td>0.548173</td>\n",
       "    </tr>\n",
       "    <tr>\n",
       "      <th>2</th>\n",
       "      <td>(N, ,)</td>\n",
       "      <td>0.493560</td>\n",
       "    </tr>\n",
       "    <tr>\n",
       "      <th>3</th>\n",
       "      <td>('N', ',')2</td>\n",
       "      <td>0.514074</td>\n",
       "    </tr>\n",
       "    <tr>\n",
       "      <th>4</th>\n",
       "      <td>(D, N)</td>\n",
       "      <td>0.460069</td>\n",
       "    </tr>\n",
       "  </tbody>\n",
       "</table>\n",
       "</div>"
      ],
      "text/plain": [
       "         index     Score\n",
       "0       (O, V)  0.517275\n",
       "1  ('O', 'V')2  0.548173\n",
       "2       (N, ,)  0.493560\n",
       "3  ('N', ',')2  0.514074\n",
       "4       (D, N)  0.460069"
      ]
     },
     "execution_count": 72,
     "metadata": {},
     "output_type": "execute_result"
    }
   ],
   "source": [
    "meanDF.head()"
   ]
  },
  {
   "cell_type": "code",
   "execution_count": 76,
   "metadata": {},
   "outputs": [
    {
     "data": {
      "text/plain": [
       "{('O', 'V'): 0.030898190622264177,\n",
       " ('N', ','): 0.02051366609005345,\n",
       " ('D', 'N'): 0.028085578330963812,\n",
       " ('V', 'O'): 0.019047583313237693,\n",
       " ('N', 'P'): 0.027950191491281917,\n",
       " ('A', 'N'): 0.03135813937657472,\n",
       " ('V', 'V'): 0.03556493041799569,\n",
       " ('V', 'P'): 0.03161098658192474,\n",
       " ('V', 'D'): 0.021482543746008997,\n",
       " ('P', 'D'): 0.02505376905814588}"
      ]
     },
     "execution_count": 76,
     "metadata": {},
     "output_type": "execute_result"
    }
   ],
   "source": [
    "# Calculate average difference between minuend and subtrahend estimations for\n",
    "scoreDictBi = {}\n",
    "for i in range(len(meanDF)):\n",
    "    if i%2 == 1:\n",
    "        scoreDictBi[meanDF['index'][i-1]]= (meanDF['Score'][i] - meanDF['Score'][i-1])\n",
    "scoreDictBi"
   ]
  },
  {
   "cell_type": "code",
   "execution_count": 74,
   "metadata": {},
   "outputs": [
    {
     "data": {
      "text/html": [
       "<div>\n",
       "<style scoped>\n",
       "    .dataframe tbody tr th:only-of-type {\n",
       "        vertical-align: middle;\n",
       "    }\n",
       "\n",
       "    .dataframe tbody tr th {\n",
       "        vertical-align: top;\n",
       "    }\n",
       "\n",
       "    .dataframe thead th {\n",
       "        text-align: right;\n",
       "    }\n",
       "</style>\n",
       "<table border=\"1\" class=\"dataframe\">\n",
       "  <thead>\n",
       "    <tr style=\"text-align: right;\">\n",
       "      <th></th>\n",
       "      <th>Accommodation</th>\n",
       "    </tr>\n",
       "  </thead>\n",
       "  <tbody>\n",
       "    <tr>\n",
       "      <th>(O, V)</th>\n",
       "      <td>0.030898</td>\n",
       "    </tr>\n",
       "    <tr>\n",
       "      <th>(N, ,)</th>\n",
       "      <td>0.020514</td>\n",
       "    </tr>\n",
       "    <tr>\n",
       "      <th>(D, N)</th>\n",
       "      <td>0.028086</td>\n",
       "    </tr>\n",
       "    <tr>\n",
       "      <th>(V, O)</th>\n",
       "      <td>0.019048</td>\n",
       "    </tr>\n",
       "    <tr>\n",
       "      <th>(N, P)</th>\n",
       "      <td>0.027950</td>\n",
       "    </tr>\n",
       "  </tbody>\n",
       "</table>\n",
       "</div>"
      ],
      "text/plain": [
       "        Accommodation\n",
       "(O, V)       0.030898\n",
       "(N, ,)       0.020514\n",
       "(D, N)       0.028086\n",
       "(V, O)       0.019048\n",
       "(N, P)       0.027950"
      ]
     },
     "execution_count": 74,
     "metadata": {},
     "output_type": "execute_result"
    }
   ],
   "source": [
    "scoreDictDF = pd.DataFrame.from_dict(scoreDictBi, orient='index')\n",
    "scoreDictDF.columns = ['Accommodation']\n",
    "scoreDictDF.head()"
   ]
  },
  {
   "cell_type": "code",
   "execution_count": 77,
   "metadata": {},
   "outputs": [
    {
     "data": {
      "text/plain": [
       "10"
      ]
     },
     "execution_count": 77,
     "metadata": {},
     "output_type": "execute_result"
    }
   ],
   "source": [
    "# Calculate average difference between minuend and subtrahend estimations for\n",
    "ScoreListBAvg = {}\n",
    "ScoreListBGivA = {}\n",
    "for i in range(len(meanDF)):\n",
    "    if i%2 == 0:\n",
    "        ScoreListBAvg[meanDF['index'][i]] = meanDF['Score'][i]\n",
    "    elif i%2 == 1:\n",
    "        ScoreListBGivA[meanDF['index'][i-1]] = meanDF['Score'][i]\n",
    "len(ScoreListBGivA)"
   ]
  },
  {
   "cell_type": "code",
   "execution_count": 78,
   "metadata": {},
   "outputs": [
    {
     "data": {
      "text/html": [
       "<div>\n",
       "<style scoped>\n",
       "    .dataframe tbody tr th:only-of-type {\n",
       "        vertical-align: middle;\n",
       "    }\n",
       "\n",
       "    .dataframe tbody tr th {\n",
       "        vertical-align: top;\n",
       "    }\n",
       "\n",
       "    .dataframe thead th {\n",
       "        text-align: right;\n",
       "    }\n",
       "</style>\n",
       "<table border=\"1\" class=\"dataframe\">\n",
       "  <thead>\n",
       "    <tr style=\"text-align: right;\">\n",
       "      <th></th>\n",
       "      <th>B</th>\n",
       "    </tr>\n",
       "  </thead>\n",
       "  <tbody>\n",
       "    <tr>\n",
       "      <th>(O, V)</th>\n",
       "      <td>0.517275</td>\n",
       "    </tr>\n",
       "    <tr>\n",
       "      <th>(N, ,)</th>\n",
       "      <td>0.493560</td>\n",
       "    </tr>\n",
       "    <tr>\n",
       "      <th>(D, N)</th>\n",
       "      <td>0.460069</td>\n",
       "    </tr>\n",
       "    <tr>\n",
       "      <th>(V, O)</th>\n",
       "      <td>0.325615</td>\n",
       "    </tr>\n",
       "    <tr>\n",
       "      <th>(N, P)</th>\n",
       "      <td>0.333524</td>\n",
       "    </tr>\n",
       "  </tbody>\n",
       "</table>\n",
       "</div>"
      ],
      "text/plain": [
       "               B\n",
       "(O, V)  0.517275\n",
       "(N, ,)  0.493560\n",
       "(D, N)  0.460069\n",
       "(V, O)  0.325615\n",
       "(N, P)  0.333524"
      ]
     },
     "execution_count": 78,
     "metadata": {},
     "output_type": "execute_result"
    }
   ],
   "source": [
    "ScoreListBGivA = pd.DataFrame.from_dict(ScoreListBGivA,orient='index')\n",
    "ScoreListBAvg = pd.DataFrame.from_dict(ScoreListBAvg,orient='index')\n",
    "ScoreListBAvg.columns = ['B']\n",
    "ScoreListBGivA.columns = ['B|A']\n",
    "ScoreListBAvg.head()"
   ]
  },
  {
   "cell_type": "code",
   "execution_count": 79,
   "metadata": {},
   "outputs": [
    {
     "data": {
      "text/html": [
       "<div>\n",
       "<style scoped>\n",
       "    .dataframe tbody tr th:only-of-type {\n",
       "        vertical-align: middle;\n",
       "    }\n",
       "\n",
       "    .dataframe tbody tr th {\n",
       "        vertical-align: top;\n",
       "    }\n",
       "\n",
       "    .dataframe thead th {\n",
       "        text-align: right;\n",
       "    }\n",
       "</style>\n",
       "<table border=\"1\" class=\"dataframe\">\n",
       "  <thead>\n",
       "    <tr style=\"text-align: right;\">\n",
       "      <th></th>\n",
       "      <th>Accommodation</th>\n",
       "      <th>BAvg</th>\n",
       "      <th>BGivenA</th>\n",
       "    </tr>\n",
       "  </thead>\n",
       "  <tbody>\n",
       "    <tr>\n",
       "      <th>(O, V)</th>\n",
       "      <td>0.030898</td>\n",
       "      <td>0.517275</td>\n",
       "      <td>0.548173</td>\n",
       "    </tr>\n",
       "    <tr>\n",
       "      <th>(N, ,)</th>\n",
       "      <td>0.020514</td>\n",
       "      <td>0.493560</td>\n",
       "      <td>0.514074</td>\n",
       "    </tr>\n",
       "    <tr>\n",
       "      <th>(D, N)</th>\n",
       "      <td>0.028086</td>\n",
       "      <td>0.460069</td>\n",
       "      <td>0.488155</td>\n",
       "    </tr>\n",
       "    <tr>\n",
       "      <th>(V, O)</th>\n",
       "      <td>0.019048</td>\n",
       "      <td>0.325615</td>\n",
       "      <td>0.344663</td>\n",
       "    </tr>\n",
       "    <tr>\n",
       "      <th>(N, P)</th>\n",
       "      <td>0.027950</td>\n",
       "      <td>0.333524</td>\n",
       "      <td>0.361474</td>\n",
       "    </tr>\n",
       "  </tbody>\n",
       "</table>\n",
       "</div>"
      ],
      "text/plain": [
       "        Accommodation      BAvg   BGivenA\n",
       "(O, V)       0.030898  0.517275  0.548173\n",
       "(N, ,)       0.020514  0.493560  0.514074\n",
       "(D, N)       0.028086  0.460069  0.488155\n",
       "(V, O)       0.019048  0.325615  0.344663\n",
       "(N, P)       0.027950  0.333524  0.361474"
      ]
     },
     "execution_count": 79,
     "metadata": {},
     "output_type": "execute_result"
    }
   ],
   "source": [
    "scoreDictDF['BAvg'] = ScoreListBAvg['B']\n",
    "scoreDictDF['BGivenA'] = ScoreListBGivA['B|A']\n",
    "scoreDictDF.head()"
   ]
  },
  {
   "cell_type": "code",
   "execution_count": 81,
   "metadata": {},
   "outputs": [],
   "source": [
    "# Create Visualizations and save tables\n",
    "with open ('SCP_Bigram_Accomodation.tex','w') as tf:\n",
    "    tf.write(scoreDictDF.to_latex())"
   ]
  },
  {
   "cell_type": "code",
   "execution_count": 80,
   "metadata": {},
   "outputs": [
    {
     "data": {
      "text/html": [
       "<div>\n",
       "<style scoped>\n",
       "    .dataframe tbody tr th:only-of-type {\n",
       "        vertical-align: middle;\n",
       "    }\n",
       "\n",
       "    .dataframe tbody tr th {\n",
       "        vertical-align: top;\n",
       "    }\n",
       "\n",
       "    .dataframe thead th {\n",
       "        text-align: right;\n",
       "    }\n",
       "</style>\n",
       "<table border=\"1\" class=\"dataframe\">\n",
       "  <thead>\n",
       "    <tr style=\"text-align: right;\">\n",
       "      <th></th>\n",
       "      <th>BAvg</th>\n",
       "      <th>BGivenA</th>\n",
       "    </tr>\n",
       "  </thead>\n",
       "  <tbody>\n",
       "    <tr>\n",
       "      <th>(O, V)</th>\n",
       "      <td>0.517275</td>\n",
       "      <td>0.548173</td>\n",
       "    </tr>\n",
       "    <tr>\n",
       "      <th>(N, ,)</th>\n",
       "      <td>0.493560</td>\n",
       "      <td>0.514074</td>\n",
       "    </tr>\n",
       "    <tr>\n",
       "      <th>(D, N)</th>\n",
       "      <td>0.460069</td>\n",
       "      <td>0.488155</td>\n",
       "    </tr>\n",
       "    <tr>\n",
       "      <th>(V, O)</th>\n",
       "      <td>0.325615</td>\n",
       "      <td>0.344663</td>\n",
       "    </tr>\n",
       "    <tr>\n",
       "      <th>(N, P)</th>\n",
       "      <td>0.333524</td>\n",
       "      <td>0.361474</td>\n",
       "    </tr>\n",
       "    <tr>\n",
       "      <th>(A, N)</th>\n",
       "      <td>0.327791</td>\n",
       "      <td>0.359149</td>\n",
       "    </tr>\n",
       "    <tr>\n",
       "      <th>(V, V)</th>\n",
       "      <td>0.338575</td>\n",
       "      <td>0.374140</td>\n",
       "    </tr>\n",
       "    <tr>\n",
       "      <th>(V, P)</th>\n",
       "      <td>0.324715</td>\n",
       "      <td>0.356326</td>\n",
       "    </tr>\n",
       "    <tr>\n",
       "      <th>(V, D)</th>\n",
       "      <td>0.308320</td>\n",
       "      <td>0.329802</td>\n",
       "    </tr>\n",
       "    <tr>\n",
       "      <th>(P, D)</th>\n",
       "      <td>0.279636</td>\n",
       "      <td>0.304690</td>\n",
       "    </tr>\n",
       "  </tbody>\n",
       "</table>\n",
       "</div>"
      ],
      "text/plain": [
       "            BAvg   BGivenA\n",
       "(O, V)  0.517275  0.548173\n",
       "(N, ,)  0.493560  0.514074\n",
       "(D, N)  0.460069  0.488155\n",
       "(V, O)  0.325615  0.344663\n",
       "(N, P)  0.333524  0.361474\n",
       "(A, N)  0.327791  0.359149\n",
       "(V, V)  0.338575  0.374140\n",
       "(V, P)  0.324715  0.356326\n",
       "(V, D)  0.308320  0.329802\n",
       "(P, D)  0.279636  0.304690"
      ]
     },
     "execution_count": 80,
     "metadata": {},
     "output_type": "execute_result"
    }
   ],
   "source": [
    "scoreToPlotBar = scoreDictDF.copy()\n",
    "scoreToPlotBar = scoreToPlotBar.drop(['Accommodation'], axis = 1)\n",
    "scoreToPlotBar"
   ]
  },
  {
   "cell_type": "code",
   "execution_count": 88,
   "metadata": {},
   "outputs": [
    {
     "data": {
      "image/png": "[encoded data removed]",
      "text/plain": [
       "<Figure size 432x288 with 1 Axes>"
      ]
     },
     "metadata": {},
     "output_type": "display_data"
    }
   ],
   "source": [
    "# Visualize dataframe to horizontal bar chart\n",
    "plot1 = scoreToPlotBar.plot(kind = 'bar')#,figsize = (15,7))#, stacked = True)#,figsize = (20,10))\n",
    "                    \n",
    "#plot1.tick_params(labelbottom=False, bottom=False,which='both')\n",
    "plt.ylabel('Score')\n",
    "plt.xlabel('Bigram Marker')\n",
    "plt.title('SCP - Accommodation of Bigrams')\n",
    "plt.savefig('Accommodation_AllVals_Bigrams_2')"
   ]
  },
  {
   "cell_type": "code",
   "execution_count": 87,
   "metadata": {},
   "outputs": [
    {
     "data": {
      "image/png": "[encoded data removed]",
      "text/plain": [
       "<Figure size 720x360 with 1 Axes>"
      ]
     },
     "metadata": {},
     "output_type": "display_data"
    }
   ],
   "source": [
    "# Visualize just accommodation score\n",
    "# Visualize dataframe to horizontal bar chart\n",
    "plot1 = scoreDictDF['Accommodation'].sort_values().plot(kind = 'barh',color='steelblue',figsize = (10,5))\n",
    "                    \n",
    "#plot1.tick_params(labelbottom=False, bottom=False,which='both')\n",
    "plt.xlabel('Score')\n",
    "plt.ylabel('Bigramh Marker')\n",
    "plt.title('SCP - Accommodation of Bigrams')\n",
    "plt.savefig('Accommodation_Diff_Score_Bigrams')"
   ]
  },
  {
   "cell_type": "markdown",
   "metadata": {},
   "source": [
    "## 2-Tailed T Test for Bigrams"
   ]
  },
  {
   "cell_type": "code",
   "execution_count": 91,
   "metadata": {},
   "outputs": [],
   "source": [
    "from scipy import stats"
   ]
  },
  {
   "cell_type": "code",
   "execution_count": 94,
   "metadata": {},
   "outputs": [],
   "source": [
    "allScoresDF.fillna(0.0000001, inplace=True)\n",
    "allScoresDF.fillna(0.0000001, inplace=True)"
   ]
  },
  {
   "cell_type": "code",
   "execution_count": 95,
   "metadata": {
    "scrolled": true
   },
   "outputs": [
    {
     "data": {
      "text/plain": [
       "{('O',\n",
       "  'V'): Ttest_relResult(statistic=-19.08273589412049, pvalue=2.7699236755935764e-79),\n",
       " ('N',\n",
       "  ','): Ttest_relResult(statistic=-10.876817751870984, pvalue=2.39370596243552e-27),\n",
       " ('D',\n",
       "  'N'): Ttest_relResult(statistic=-15.239604761867007, pvalue=1.170766146559983e-51),\n",
       " ('V',\n",
       "  'O'): Ttest_relResult(statistic=-7.084211364077734, pvalue=1.5272678229890373e-12),\n",
       " ('N',\n",
       "  'P'): Ttest_relResult(statistic=-9.488529216004553, pvalue=3.094104417194374e-21),\n",
       " ('A',\n",
       "  'N'): Ttest_relResult(statistic=-11.611911938740631, pvalue=6.641766050451755e-31),\n",
       " ('V',\n",
       "  'V'): Ttest_relResult(statistic=-13.085284890006346, pvalue=1.0734694239727309e-38),\n",
       " ('V',\n",
       "  'P'): Ttest_relResult(statistic=-11.447700920858129, pvalue=4.325140595692763e-30),\n",
       " ('V',\n",
       "  'D'): Ttest_relResult(statistic=-7.023367279585012, pvalue=2.3585421711033317e-12),\n",
       " ('P',\n",
       "  'D'): Ttest_relResult(statistic=-6.860274329157498, pvalue=7.428523435481976e-12)}"
      ]
     },
     "execution_count": 95,
     "metadata": {},
     "output_type": "execute_result"
    }
   ],
   "source": [
    "TTestDictbi = {}\n",
    "for marker in bigMarks:\n",
    "    marker2 = str(marker)+'2'\n",
    "    TTestDictbi[marker] = (stats.ttest_rel(allScoresDF[marker],allScoresDF[marker2]))\n",
    "TTestDictbi"
   ]
  },
  {
   "cell_type": "code",
   "execution_count": 97,
   "metadata": {},
   "outputs": [],
   "source": [
    "TTestDF = pd.DataFrame.from_dict(TTestDictbi,orient='index')\n",
    "TTestDF =TTestDF.drop('statistic',axis=1)\n",
    "\n",
    "with open ('Accom_TTest_Big.tex','w') as tf:\n",
    "    tf.write(TTestDF.to_latex())"
   ]
  },
  {
   "cell_type": "markdown",
   "metadata": {},
   "source": [
    "# PScore for Bigrams"
   ]
  },
  {
   "cell_type": "code",
   "execution_count": 61,
   "metadata": {
    "scrolled": true
   },
   "outputs": [
    {
     "data": {
      "text/plain": [
       "{('O', 'V'): 4.7350694024003633e-153,\n",
       " ('N', ','): 1.5638300677818942e-124,\n",
       " ('D', 'N'): 1.8107735969407665e-144,\n",
       " ('V', 'O'): 4.995661094127605e-61,\n",
       " ('N', 'P'): 9.573099566352137e-220,\n",
       " ('A', 'N'): 3.0735006032162706e-197,\n",
       " ('V', 'V'): 7.397201130781173e-202,\n",
       " ('V', 'P'): 2.5623199781245034e-165,\n",
       " ('V', 'D'): 4.75274847230095e-106,\n",
       " ('P', 'D'): 1.8734303618993677e-104,\n",
       " ('P', 'V'): 4.3494634858653287e-194,\n",
       " ('R', 'V'): 1.570057461672647e-68,\n",
       " ('N', 'V'): 1.163810751542397e-307,\n",
       " (',', 'V'): 1.4535368248603946e-117,\n",
       " ('D', 'A'): 8.702801725223236e-94,\n",
       " ('V', ','): 2.325727290195508e-59,\n",
       " ('V', 'R'): 1.7742921802975945e-96,\n",
       " ('A', ','): 1.2571829672079938e-93,\n",
       " (',', 'O'): 5.5533277964079204e-83,\n",
       " ('N', 'N'): 4.8650573402608443e-188,\n",
       " ('P', 'N'): 5.930404120628807e-210,\n",
       " ('P', 'O'): 1.8055092279696015e-73,\n",
       " ('R', ','): 1.807318325022809e-54,\n",
       " ('V', 'A'): 2.742667473785224e-126,\n",
       " ('V', 'N'): 1.964907074032021e-167,\n",
       " ('!', ','): 7.182528892362102e-30,\n",
       " ('R', 'A'): 5.978311370187701e-106,\n",
       " ('O', ','): 1.001303547851838e-34,\n",
       " (',', 'R'): 4.968176371172654e-52,\n",
       " ('^', ','): 2.6793e-320,\n",
       " ('A', 'P'): 7.20398185185173e-107,\n",
       " ('P', '^'): 0.0,\n",
       " ('L', 'V'): 3.8480405542584523e-87,\n",
       " ('N', 'R'): 2.2071328783114712e-35,\n",
       " (',', 'L'): 9.684509787222113e-49,\n",
       " ('R', 'P'): 7.164644072937667e-48,\n",
       " (',', 'N'): 1.468671394263215e-74,\n",
       " ('O', 'R'): 1.1387865860409987e-40,\n",
       " (',', '&'): 1.2366734228555856e-79,\n",
       " ('N', '&'): 9.941967439777601e-52,\n",
       " ('R', 'R'): 4.561931630995733e-30,\n",
       " (',', 'A'): 5.21321812171055e-41,\n",
       " ('&', 'V'): 1.1096293672616235e-31,\n",
       " ('O', 'P'): 5.95147145030895e-41,\n",
       " ('L', 'R'): 1.3977997127930262e-43,\n",
       " (',', 'P'): 1.2692312659904301e-36,\n",
       " ('P', 'A'): 1.061854030984531e-67,\n",
       " ('^', 'V'): 7.408683400594298e-266,\n",
       " (',', 'E'): 0.0,\n",
       " ('^', 'N'): 2.8855707005464784e-174}"
      ]
     },
     "execution_count": 61,
     "metadata": {},
     "output_type": "execute_result"
    }
   ],
   "source": [
    "# Get P-score for bigrams in dataset (for cohesion validation)\n",
    "\n",
    "# Use fishers to find statistical significance of pos tag results:\n",
    "fishScore = scp.getFishersPVal(tupleBigramsA,tupleBigramsB,sharedABBig,bigMarks)\n",
    "fishScorerand = scp.getFishersPVal(tupleBigramsA,tupleBigramsB,sharedARandBig,bigMarks)\n",
    "fishScore"
   ]
  },
  {
   "cell_type": "code",
   "execution_count": 62,
   "metadata": {
    "scrolled": true
   },
   "outputs": [
    {
     "data": {
      "text/plain": [
       "{('O', 'V'): 0.7269079992099781,\n",
       " ('N', ','): 0.5727896116263653,\n",
       " ('D', 'N'): 0.5338979711959402,\n",
       " ('V', 'O'): 0.41822583385381634,\n",
       " ('N', 'P'): 0.26674078626076225,\n",
       " ('A', 'N'): 0.8233664005124062,\n",
       " ('V', 'V'): 0.6269295215599368,\n",
       " ('V', 'P'): 1.0,\n",
       " ('V', 'D'): 0.5249904019099864,\n",
       " ('P', 'D'): 0.4869920991040376,\n",
       " ('P', 'V'): 0.8772756160595181,\n",
       " ('R', 'V'): 0.8343387448898363,\n",
       " ('N', 'V'): 0.458520689676635,\n",
       " (',', 'V'): 0.2919261292066073,\n",
       " ('D', 'A'): 0.6855038539954322,\n",
       " ('V', ','): 0.6626910921747249,\n",
       " ('V', 'R'): 0.1625500343464693,\n",
       " ('A', ','): 0.8748558807088566,\n",
       " (',', 'O'): 0.5018180528878244,\n",
       " ('N', 'N'): 0.5909388465481618,\n",
       " ('P', 'N'): 0.8584073742521898,\n",
       " ('P', 'O'): 0.03573642563740696,\n",
       " ('R', ','): 0.5039411066843045,\n",
       " ('V', 'A'): 0.8660915849141463,\n",
       " ('V', 'N'): 0.6168759579578226,\n",
       " ('!', ','): 0.6283683450290465,\n",
       " ('R', 'A'): 0.6256434942038467,\n",
       " ('O', ','): 0.696541967372974,\n",
       " (',', 'R'): 0.1372445493584123,\n",
       " ('^', ','): 0.3570641070277159,\n",
       " ('A', 'P'): 0.4273650476484153,\n",
       " ('P', '^'): 0.0017721646157520645,\n",
       " ('L', 'V'): 0.6611807914497809,\n",
       " ('N', 'R'): 0.18367834127568347,\n",
       " (',', 'L'): 0.6823444627341728,\n",
       " ('R', 'P'): 0.10085554186818194,\n",
       " (',', 'N'): 0.3081815882877374,\n",
       " ('O', 'R'): 0.9359051640884823,\n",
       " (',', '&'): 0.761626188360138,\n",
       " ('N', '&'): 0.9476058609628228,\n",
       " ('R', 'R'): 0.9149840963192664,\n",
       " (',', 'A'): 0.36093122895855756,\n",
       " ('&', 'V'): 0.9898537935493238,\n",
       " ('O', 'P'): 0.1397245220896336,\n",
       " ('L', 'R'): 0.5636273773284506,\n",
       " (',', 'P'): 0.9161244032356288,\n",
       " ('P', 'A'): 0.2093380489358512,\n",
       " ('^', 'V'): 0.46097686960586237,\n",
       " (',', 'E'): 0.36158372330311167,\n",
       " ('^', 'N'): 0.9175535970138038}"
      ]
     },
     "execution_count": 62,
     "metadata": {},
     "output_type": "execute_result"
    }
   ],
   "source": [
    "fishScorerand"
   ]
  },
  {
   "cell_type": "code",
   "execution_count": 63,
   "metadata": {},
   "outputs": [],
   "source": [
    "# Convert to dataframes\n",
    "fishScoreDFBig = pd.DataFrame.from_dict(fishScore, orient='index')\n",
    "fishScoreDFBig.columns = ['P-Score Bigrams']\n",
    "#fishScoreDFBig.head()\n",
    "\n",
    "fishScorerandDFBig = pd.DataFrame.from_dict(fishScorerand, orient='index')\n",
    "fishScorerandDFBig.columns = ['P-Score Bigrams Randomized Baseline']"
   ]
  },
  {
   "cell_type": "code",
   "execution_count": 64,
   "metadata": {},
   "outputs": [],
   "source": [
    "with open ('P_Score_Bigram.tex','w') as tf:\n",
    "    tf.write(fishScoreDFBig.to_latex())\n",
    "    \n",
    "with open ('P_Score_Bigram_rand.tex','w') as tf2:\n",
    "    tf2.write(fishScorerandDFBig.to_latex())"
   ]
  }
 ],
 "metadata": {
  "kernelspec": {
   "display_name": "Python 3",
   "language": "python",
   "name": "python3"
  },
  "language_info": {
   "codemirror_mode": {
    "name": "ipython",
    "version": 3
   },
   "file_extension": ".py",
   "mimetype": "text/x-python",
   "name": "python",
   "nbconvert_exporter": "python",
   "pygments_lexer": "ipython3",
   "version": "3.6.5"
  }
 },
 "nbformat": 4,
 "nbformat_minor": 2
}
