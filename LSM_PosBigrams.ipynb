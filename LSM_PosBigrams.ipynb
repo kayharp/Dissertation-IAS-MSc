{
 "cells": [
  {
   "cell_type": "markdown",
   "metadata": {},
   "source": [
    "# Linguistic Style Matching Code -  POS Tags & Bigrams\n"
   ]
  },
  {
   "cell_type": "code",
   "execution_count": 1,
   "metadata": {},
   "outputs": [],
   "source": [
    "import pandas as pd\n",
    "import sys\n",
    "import csv\n",
    "import numpy as np\n",
    "import matplotlib.pyplot as plt\n",
    "%matplotlib inline\n",
    "import re\n",
    "import seaborn as sns \n",
    "import random\n",
    "import itertools\n",
    "\n",
    "from collections import Counter\n",
    "\n",
    "# Below code in SCP_Code.py contains functions specific to linguistic alignment experiments\n",
    "import SCP_Code as scp\n",
    "\n",
    "import BigramCode as bi"
   ]
  },
  {
   "cell_type": "code",
   "execution_count": 2,
   "metadata": {},
   "outputs": [],
   "source": [
    "## To run when parsing pos tag results\n",
    "dataA = pd.read_csv('A_Tweets_Tagged.txt', sep='\\t', header=None)\n",
    "dataA.columns = ['Tokens', 'Tags', 'Conf','Raw Tweet']\n",
    "\n",
    "dataB = pd.read_csv('B_Tweets_Tagged.txt', sep='\\t', header=None)\n",
    "dataB.columns = ['Tokens', 'Tags', 'Conf','Raw Tweet']"
   ]
  },
  {
   "cell_type": "code",
   "execution_count": 3,
   "metadata": {},
   "outputs": [
    {
     "data": {
      "text/plain": [
       "326167"
      ]
     },
     "execution_count": 3,
     "metadata": {},
     "output_type": "execute_result"
    }
   ],
   "source": [
    "# Drop the final item in dataA because it has no corresponding reply message in dataB\n",
    "\n",
    "dataA.drop(326167,axis = 0, inplace = True)\n",
    "len(dataA)"
   ]
  },
  {
   "cell_type": "code",
   "execution_count": 4,
   "metadata": {},
   "outputs": [],
   "source": [
    "# Fill empty tags for error-free parsing through functions and calculations that \n",
    "# can't deal with nan values\n",
    "\n",
    "dataA.fillna({'Tags':'B'}, inplace=True)\n",
    "dataB.fillna({'Tags':'B'}, inplace=True)"
   ]
  },
  {
   "cell_type": "code",
   "execution_count": 30,
   "metadata": {},
   "outputs": [],
   "source": [
    "# List of part of speech tags. Represent markers - like LIWC\n",
    "markers = ['P','D','O','&','N','S','^','Z','L','V','A','R','!','T','X','Y','#','U','E','$',',','G']"
   ]
  },
  {
   "cell_type": "code",
   "execution_count": 11,
   "metadata": {},
   "outputs": [],
   "source": [
    "def CalculateLSM(markers,TweetTagsA,TweetTagsB):\n",
    "    allLSM = {}\n",
    "    allTweets = len(TweetTagsA) # total number of tweets\n",
    "    for mark in markers: \n",
    "        pA = (scp.countMarkers(mark,TweetTagsA)/allTweets)\n",
    "        pB = (scp.countMarkers(mark,TweetTagsB)/allTweets)\n",
    "        numerator = abs(pA-pB)\n",
    "        denominator = pA + pB\n",
    "        LSMScore = (1 - (numerator/denominator))\n",
    "        allLSM[mark] = [pA,pB,LSMScore]\n",
    "    return allLSM"
   ]
  },
  {
   "cell_type": "code",
   "execution_count": 32,
   "metadata": {},
   "outputs": [
    {
     "data": {
      "text/plain": [
       "{'P': [0.6967320421747142, 0.674516428700635, 0.9837989876044145],\n",
       " 'D': [0.6390192754018647, 0.6161904791103944, 0.9818127637955292],\n",
       " 'O': [0.6905572912035859, 0.6703467855423755, 0.9851492063205987],\n",
       " '&': [0.28065070960581545, 0.28526184439259644, 0.9918518598779946],\n",
       " 'N': [0.8171826089089331, 0.7919930587705072, 0.9843463018709752],\n",
       " 'S': [0.006183948713389153, 0.005687270631302369, 0.9581611570247933],\n",
       " '^': [0.32024699003884516, 0.28577691795920496, 0.94312093693876],\n",
       " 'Z': [0.013744492851821307, 0.012321908715473975, 0.9454246059750646],\n",
       " 'L': [0.27209987521729667, 0.2799670107644244, 0.9857496695656037],\n",
       " 'V': [0.8712837288873492, 0.8486112942143135, 0.9868175473685898],\n",
       " 'A': [0.6000300459580522, 0.5995762906731827, 0.9996217465088225],\n",
       " 'R': [0.581870636821015, 0.5882170789810128, 0.9945760970957227],\n",
       " '!': [0.24619596709661, 0.28532316267433555, 0.9263861009206064],\n",
       " 'T': [0.07401423197319165, 0.07344397195301794, 0.9961327345309381],\n",
       " 'X': [0.020149187379471252, 0.01971382757912358, 0.9890786032918013],\n",
       " 'Y': [0.00034644829182596646, 0.000377107432695521, 0.9576271186440678],\n",
       " '#': [0.048582474621896146, 0.04112003973424657, 0.9168090778590471],\n",
       " 'U': [0.03153599229842381, 0.025726085103643225, 0.8985383091502919],\n",
       " 'E': [0.18174125524654547, 0.20763596562497125, 0.9334971102817279],\n",
       " '$': [0.11898505980065427, 0.11597739808135096, 0.9871993945483252],\n",
       " ',': [0.885537163477605, 0.8667492419527421, 0.9892780532528022],\n",
       " 'G': [0.03610420428798744, 0.035999963209030955, 0.998554298834935]}"
      ]
     },
     "execution_count": 32,
     "metadata": {},
     "output_type": "execute_result"
    }
   ],
   "source": [
    "## LSM = 1-(|p(A)-p(B)|/p(A)+p(B)) - probabilities that a used marker\n",
    "\n",
    "LSMScores = CalculateLSM(markers,dataA.Tags,dataB.Tags)\n",
    "LSMScores"
   ]
  },
  {
   "cell_type": "code",
   "execution_count": 33,
   "metadata": {
    "scrolled": true
   },
   "outputs": [
    {
     "data": {
      "text/html": [
       "<div>\n",
       "<style scoped>\n",
       "    .dataframe tbody tr th:only-of-type {\n",
       "        vertical-align: middle;\n",
       "    }\n",
       "\n",
       "    .dataframe tbody tr th {\n",
       "        vertical-align: top;\n",
       "    }\n",
       "\n",
       "    .dataframe thead th {\n",
       "        text-align: right;\n",
       "    }\n",
       "</style>\n",
       "<table border=\"1\" class=\"dataframe\">\n",
       "  <thead>\n",
       "    <tr style=\"text-align: right;\">\n",
       "      <th></th>\n",
       "      <th>pA</th>\n",
       "      <th>pB</th>\n",
       "      <th>LSM Score</th>\n",
       "    </tr>\n",
       "  </thead>\n",
       "  <tbody>\n",
       "    <tr>\n",
       "      <th>P</th>\n",
       "      <td>0.696732</td>\n",
       "      <td>0.674516</td>\n",
       "      <td>0.983799</td>\n",
       "    </tr>\n",
       "    <tr>\n",
       "      <th>D</th>\n",
       "      <td>0.639019</td>\n",
       "      <td>0.616190</td>\n",
       "      <td>0.981813</td>\n",
       "    </tr>\n",
       "    <tr>\n",
       "      <th>O</th>\n",
       "      <td>0.690557</td>\n",
       "      <td>0.670347</td>\n",
       "      <td>0.985149</td>\n",
       "    </tr>\n",
       "    <tr>\n",
       "      <th>&amp;</th>\n",
       "      <td>0.280651</td>\n",
       "      <td>0.285262</td>\n",
       "      <td>0.991852</td>\n",
       "    </tr>\n",
       "    <tr>\n",
       "      <th>N</th>\n",
       "      <td>0.817183</td>\n",
       "      <td>0.791993</td>\n",
       "      <td>0.984346</td>\n",
       "    </tr>\n",
       "    <tr>\n",
       "      <th>S</th>\n",
       "      <td>0.006184</td>\n",
       "      <td>0.005687</td>\n",
       "      <td>0.958161</td>\n",
       "    </tr>\n",
       "    <tr>\n",
       "      <th>^</th>\n",
       "      <td>0.320247</td>\n",
       "      <td>0.285777</td>\n",
       "      <td>0.943121</td>\n",
       "    </tr>\n",
       "    <tr>\n",
       "      <th>Z</th>\n",
       "      <td>0.013744</td>\n",
       "      <td>0.012322</td>\n",
       "      <td>0.945425</td>\n",
       "    </tr>\n",
       "    <tr>\n",
       "      <th>L</th>\n",
       "      <td>0.272100</td>\n",
       "      <td>0.279967</td>\n",
       "      <td>0.985750</td>\n",
       "    </tr>\n",
       "    <tr>\n",
       "      <th>V</th>\n",
       "      <td>0.871284</td>\n",
       "      <td>0.848611</td>\n",
       "      <td>0.986818</td>\n",
       "    </tr>\n",
       "    <tr>\n",
       "      <th>A</th>\n",
       "      <td>0.600030</td>\n",
       "      <td>0.599576</td>\n",
       "      <td>0.999622</td>\n",
       "    </tr>\n",
       "    <tr>\n",
       "      <th>R</th>\n",
       "      <td>0.581871</td>\n",
       "      <td>0.588217</td>\n",
       "      <td>0.994576</td>\n",
       "    </tr>\n",
       "    <tr>\n",
       "      <th>!</th>\n",
       "      <td>0.246196</td>\n",
       "      <td>0.285323</td>\n",
       "      <td>0.926386</td>\n",
       "    </tr>\n",
       "    <tr>\n",
       "      <th>T</th>\n",
       "      <td>0.074014</td>\n",
       "      <td>0.073444</td>\n",
       "      <td>0.996133</td>\n",
       "    </tr>\n",
       "    <tr>\n",
       "      <th>X</th>\n",
       "      <td>0.020149</td>\n",
       "      <td>0.019714</td>\n",
       "      <td>0.989079</td>\n",
       "    </tr>\n",
       "    <tr>\n",
       "      <th>Y</th>\n",
       "      <td>0.000346</td>\n",
       "      <td>0.000377</td>\n",
       "      <td>0.957627</td>\n",
       "    </tr>\n",
       "    <tr>\n",
       "      <th>#</th>\n",
       "      <td>0.048582</td>\n",
       "      <td>0.041120</td>\n",
       "      <td>0.916809</td>\n",
       "    </tr>\n",
       "    <tr>\n",
       "      <th>U</th>\n",
       "      <td>0.031536</td>\n",
       "      <td>0.025726</td>\n",
       "      <td>0.898538</td>\n",
       "    </tr>\n",
       "    <tr>\n",
       "      <th>E</th>\n",
       "      <td>0.181741</td>\n",
       "      <td>0.207636</td>\n",
       "      <td>0.933497</td>\n",
       "    </tr>\n",
       "    <tr>\n",
       "      <th>$</th>\n",
       "      <td>0.118985</td>\n",
       "      <td>0.115977</td>\n",
       "      <td>0.987199</td>\n",
       "    </tr>\n",
       "    <tr>\n",
       "      <th>,</th>\n",
       "      <td>0.885537</td>\n",
       "      <td>0.866749</td>\n",
       "      <td>0.989278</td>\n",
       "    </tr>\n",
       "    <tr>\n",
       "      <th>G</th>\n",
       "      <td>0.036104</td>\n",
       "      <td>0.036000</td>\n",
       "      <td>0.998554</td>\n",
       "    </tr>\n",
       "  </tbody>\n",
       "</table>\n",
       "</div>"
      ],
      "text/plain": [
       "         pA        pB  LSM Score\n",
       "P  0.696732  0.674516   0.983799\n",
       "D  0.639019  0.616190   0.981813\n",
       "O  0.690557  0.670347   0.985149\n",
       "&  0.280651  0.285262   0.991852\n",
       "N  0.817183  0.791993   0.984346\n",
       "S  0.006184  0.005687   0.958161\n",
       "^  0.320247  0.285777   0.943121\n",
       "Z  0.013744  0.012322   0.945425\n",
       "L  0.272100  0.279967   0.985750\n",
       "V  0.871284  0.848611   0.986818\n",
       "A  0.600030  0.599576   0.999622\n",
       "R  0.581871  0.588217   0.994576\n",
       "!  0.246196  0.285323   0.926386\n",
       "T  0.074014  0.073444   0.996133\n",
       "X  0.020149  0.019714   0.989079\n",
       "Y  0.000346  0.000377   0.957627\n",
       "#  0.048582  0.041120   0.916809\n",
       "U  0.031536  0.025726   0.898538\n",
       "E  0.181741  0.207636   0.933497\n",
       "$  0.118985  0.115977   0.987199\n",
       ",  0.885537  0.866749   0.989278\n",
       "G  0.036104  0.036000   0.998554"
      ]
     },
     "execution_count": 33,
     "metadata": {},
     "output_type": "execute_result"
    }
   ],
   "source": [
    "LSMdf = pd.DataFrame.from_dict(LSMScores,orient = 'index')\n",
    "LSMdf.columns = ['pA', 'pB','LSM Score']\n",
    "LSMdf"
   ]
  },
  {
   "cell_type": "code",
   "execution_count": 41,
   "metadata": {},
   "outputs": [],
   "source": [
    "# Write dataframe to latex\n",
    "with open ('LSMTable.tex','w') as tf:\n",
    "    tf.write(LSMdf.to_latex())"
   ]
  },
  {
   "cell_type": "code",
   "execution_count": 42,
   "metadata": {},
   "outputs": [
    {
     "data": {
      "image/png": "[encoded data removed]",
      "text/plain": [
       "<Figure size 432x288 with 1 Axes>"
      ]
     },
     "metadata": {},
     "output_type": "display_data"
    }
   ],
   "source": [
    "# Visualize dataframe to horizontal bar chart\n",
    "plot1 = LSMdf['LSM Score'].plot(kind = 'barh',legend = False, color = 'steelblue')#,figsize = (20,10))\n",
    "                    \n",
    "#plot1.tick_params(labelbottom=False, bottom=False,which='both')\n",
    "plt.xlabel('LSM Score')\n",
    "plt.xlim(0.85,1.005)\n",
    "plt.ylabel('Part of Speech Marker')\n",
    "plt.title('Linguistic Style Matching')\n",
    "plt.savefig('LSM_POS_Tags_GlobalAlignment_steel')"
   ]
  },
  {
   "cell_type": "markdown",
   "metadata": {},
   "source": [
    "# Bigrams"
   ]
  },
  {
   "cell_type": "code",
   "execution_count": 5,
   "metadata": {},
   "outputs": [],
   "source": [
    "bigramsA = bi.AllBigramsinTweetset(dataA.Tags)\n",
    "bigramsB = bi.AllBigramsinTweetset(dataB.Tags)\n",
    "\n",
    "tupleBigramsA = bi.convertToTuples(bigramsA)\n",
    "tupleBigramsB = bi.convertToTuples(bigramsB)"
   ]
  },
  {
   "cell_type": "code",
   "execution_count": 6,
   "metadata": {},
   "outputs": [
    {
     "name": "stdout",
     "output_type": "stream",
     "text": [
      "3863782 3815722\n"
     ]
    },
    {
     "data": {
      "text/plain": [
       "('O', 'V')"
      ]
     },
     "execution_count": 6,
     "metadata": {},
     "output_type": "execute_result"
    }
   ],
   "source": [
    "# Get top bigrams to use as markers:\n",
    "singleListBigramsA = [y for x in tupleBigramsA for y in x]\n",
    "singleListBigramsB = [y for x in tupleBigramsB for y in x]\n",
    "\n",
    "print(len(singleListBigramsA),len(singleListBigramsB))\n",
    "      \n",
    "bigramsFreqA = Counter(singleListBigramsA)\n",
    "bigramsFreqB = Counter(singleListBigramsB)\n",
    "\n",
    "# Set the topBigrams to use as markers\n",
    "totalBigramFreq = bigramsFreqB+bigramsFreqA\n",
    "topBigrams = totalBigramFreq.most_common(50)\n",
    "\n",
    "topBigramsOnly = [item[0] for item in topBigrams] # take bigram and not the count\n",
    "topBigramsOnly[0]"
   ]
  },
  {
   "cell_type": "code",
   "execution_count": 12,
   "metadata": {},
   "outputs": [],
   "source": [
    "LSMScoresBi = CalculateLSM(topBigramsOnly,tupleBigramsA,tupleBigramsB)"
   ]
  },
  {
   "cell_type": "code",
   "execution_count": 13,
   "metadata": {},
   "outputs": [
    {
     "data": {
      "text/html": [
       "<div>\n",
       "<style scoped>\n",
       "    .dataframe tbody tr th:only-of-type {\n",
       "        vertical-align: middle;\n",
       "    }\n",
       "\n",
       "    .dataframe tbody tr th {\n",
       "        vertical-align: top;\n",
       "    }\n",
       "\n",
       "    .dataframe thead th {\n",
       "        text-align: right;\n",
       "    }\n",
       "</style>\n",
       "<table border=\"1\" class=\"dataframe\">\n",
       "  <thead>\n",
       "    <tr style=\"text-align: right;\">\n",
       "      <th></th>\n",
       "      <th>pA</th>\n",
       "      <th>pB</th>\n",
       "      <th>LSM Score</th>\n",
       "    </tr>\n",
       "  </thead>\n",
       "  <tbody>\n",
       "    <tr>\n",
       "      <th>(O, V)</th>\n",
       "      <td>0.528211</td>\n",
       "      <td>0.513556</td>\n",
       "      <td>0.985932</td>\n",
       "    </tr>\n",
       "    <tr>\n",
       "      <th>(N, ,)</th>\n",
       "      <td>0.517848</td>\n",
       "      <td>0.493290</td>\n",
       "      <td>0.975713</td>\n",
       "    </tr>\n",
       "    <tr>\n",
       "      <th>(D, N)</th>\n",
       "      <td>0.474383</td>\n",
       "      <td>0.459001</td>\n",
       "      <td>0.983521</td>\n",
       "    </tr>\n",
       "    <tr>\n",
       "      <th>(V, O)</th>\n",
       "      <td>0.358571</td>\n",
       "      <td>0.326685</td>\n",
       "      <td>0.953469</td>\n",
       "    </tr>\n",
       "    <tr>\n",
       "      <th>(N, P)</th>\n",
       "      <td>0.346301</td>\n",
       "      <td>0.334255</td>\n",
       "      <td>0.982300</td>\n",
       "    </tr>\n",
       "  </tbody>\n",
       "</table>\n",
       "</div>"
      ],
      "text/plain": [
       "              pA        pB  LSM Score\n",
       "(O, V)  0.528211  0.513556   0.985932\n",
       "(N, ,)  0.517848  0.493290   0.975713\n",
       "(D, N)  0.474383  0.459001   0.983521\n",
       "(V, O)  0.358571  0.326685   0.953469\n",
       "(N, P)  0.346301  0.334255   0.982300"
      ]
     },
     "execution_count": 13,
     "metadata": {},
     "output_type": "execute_result"
    }
   ],
   "source": [
    "LSMdf = pd.DataFrame.from_dict(LSMScoresBi,orient = 'index')\n",
    "LSMdf.columns = ['pA', 'pB','LSM Score']\n",
    "\n",
    "# Write dataframe to latex\n",
    "with open ('LSMTable_Bigrams.tex','w') as tf:\n",
    "    tf.write(LSMdf.to_latex())\n",
    "\n",
    "LSMdf.head()"
   ]
  },
  {
   "cell_type": "code",
   "execution_count": 14,
   "metadata": {},
   "outputs": [],
   "source": [
    "LSMdfToPlot = LSMdf.copy()\n",
    "LSMdfToPlot.drop(['pA'],axis = 1, inplace = True)\n",
    "LSMdfToPlot.drop(['pB'],axis = 1, inplace = True)"
   ]
  },
  {
   "cell_type": "code",
   "execution_count": 17,
   "metadata": {
    "scrolled": true
   },
   "outputs": [
    {
     "data": {
      "text/html": [
       "<div>\n",
       "<style scoped>\n",
       "    .dataframe tbody tr th:only-of-type {\n",
       "        vertical-align: middle;\n",
       "    }\n",
       "\n",
       "    .dataframe tbody tr th {\n",
       "        vertical-align: top;\n",
       "    }\n",
       "\n",
       "    .dataframe thead th {\n",
       "        text-align: right;\n",
       "    }\n",
       "</style>\n",
       "<table border=\"1\" class=\"dataframe\">\n",
       "  <thead>\n",
       "    <tr style=\"text-align: right;\">\n",
       "      <th></th>\n",
       "      <th>LSM Score</th>\n",
       "    </tr>\n",
       "  </thead>\n",
       "  <tbody>\n",
       "    <tr>\n",
       "      <th>(P, V)</th>\n",
       "      <td>0.999525</td>\n",
       "    </tr>\n",
       "    <tr>\n",
       "      <th>(V, ,)</th>\n",
       "      <td>0.999013</td>\n",
       "    </tr>\n",
       "    <tr>\n",
       "      <th>(P, A)</th>\n",
       "      <td>0.998697</td>\n",
       "    </tr>\n",
       "    <tr>\n",
       "      <th>(&amp;, V)</th>\n",
       "      <td>0.998346</td>\n",
       "    </tr>\n",
       "    <tr>\n",
       "      <th>(P, O)</th>\n",
       "      <td>0.998148</td>\n",
       "    </tr>\n",
       "    <tr>\n",
       "      <th>(,, R)</th>\n",
       "      <td>0.997028</td>\n",
       "    </tr>\n",
       "    <tr>\n",
       "      <th>(P, N)</th>\n",
       "      <td>0.996559</td>\n",
       "    </tr>\n",
       "    <tr>\n",
       "      <th>(N, &amp;)</th>\n",
       "      <td>0.995836</td>\n",
       "    </tr>\n",
       "    <tr>\n",
       "      <th>(O, R)</th>\n",
       "      <td>0.994756</td>\n",
       "    </tr>\n",
       "    <tr>\n",
       "      <th>(,, A)</th>\n",
       "      <td>0.994590</td>\n",
       "    </tr>\n",
       "    <tr>\n",
       "      <th>(N, R)</th>\n",
       "      <td>0.994498</td>\n",
       "    </tr>\n",
       "    <tr>\n",
       "      <th>(V, A)</th>\n",
       "      <td>0.992933</td>\n",
       "    </tr>\n",
       "    <tr>\n",
       "      <th>(,, N)</th>\n",
       "      <td>0.991591</td>\n",
       "    </tr>\n",
       "    <tr>\n",
       "      <th>(D, A)</th>\n",
       "      <td>0.990839</td>\n",
       "    </tr>\n",
       "    <tr>\n",
       "      <th>(A, P)</th>\n",
       "      <td>0.990248</td>\n",
       "    </tr>\n",
       "    <tr>\n",
       "      <th>(,, O)</th>\n",
       "      <td>0.989186</td>\n",
       "    </tr>\n",
       "    <tr>\n",
       "      <th>(,, P)</th>\n",
       "      <td>0.988669</td>\n",
       "    </tr>\n",
       "    <tr>\n",
       "      <th>(R, V)</th>\n",
       "      <td>0.988020</td>\n",
       "    </tr>\n",
       "    <tr>\n",
       "      <th>(A, N)</th>\n",
       "      <td>0.986395</td>\n",
       "    </tr>\n",
       "    <tr>\n",
       "      <th>(V, P)</th>\n",
       "      <td>0.986038</td>\n",
       "    </tr>\n",
       "  </tbody>\n",
       "</table>\n",
       "</div>"
      ],
      "text/plain": [
       "        LSM Score\n",
       "(P, V)   0.999525\n",
       "(V, ,)   0.999013\n",
       "(P, A)   0.998697\n",
       "(&, V)   0.998346\n",
       "(P, O)   0.998148\n",
       "(,, R)   0.997028\n",
       "(P, N)   0.996559\n",
       "(N, &)   0.995836\n",
       "(O, R)   0.994756\n",
       "(,, A)   0.994590\n",
       "(N, R)   0.994498\n",
       "(V, A)   0.992933\n",
       "(,, N)   0.991591\n",
       "(D, A)   0.990839\n",
       "(A, P)   0.990248\n",
       "(,, O)   0.989186\n",
       "(,, P)   0.988669\n",
       "(R, V)   0.988020\n",
       "(A, N)   0.986395\n",
       "(V, P)   0.986038"
      ]
     },
     "execution_count": 17,
     "metadata": {},
     "output_type": "execute_result"
    }
   ],
   "source": [
    "LSMLargest = LSMdfToPlot.nlargest(20,'LSM Score')\n",
    "LSMLargest"
   ]
  },
  {
   "cell_type": "code",
   "execution_count": 18,
   "metadata": {},
   "outputs": [
    {
     "data": {
      "image/png": "[encoded data removed]",
      "text/plain": [
       "<Figure size 432x288 with 1 Axes>"
      ]
     },
     "metadata": {},
     "output_type": "display_data"
    }
   ],
   "source": [
    "# Visualize dataframe to horizontal bar chart\n",
    "plot3 = LSMLargest.sort_values('LSM Score').plot(kind = 'barh',legend = False, color = 'steelblue')#,figsize = (15,10))\n",
    "                    \n",
    "#plot1.tick_params(labelbottom=False, bottom=False,which='both')\n",
    "plt.xlabel('LSM Score')\n",
    "plt.xlim(0.85,1.005)\n",
    "plt.ylabel('Bigram Marker')\n",
    "plt.title('Linguistic Style Matching for Bigrams')\n",
    "plt.savefig('LSM_Largest')"
   ]
  },
  {
   "cell_type": "markdown",
   "metadata": {},
   "source": []
  }
 ],
 "metadata": {
  "kernelspec": {
   "display_name": "Python 3",
   "language": "python",
   "name": "python3"
  },
  "language_info": {
   "codemirror_mode": {
    "name": "ipython",
    "version": 3
   },
   "file_extension": ".py",
   "mimetype": "text/x-python",
   "name": "python",
   "nbconvert_exporter": "python",
   "pygments_lexer": "ipython3",
   "version": "3.6.5"
  }
 },
 "nbformat": 4,
 "nbformat_minor": 2
}
