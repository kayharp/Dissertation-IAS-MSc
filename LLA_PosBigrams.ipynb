{
 "cells": [
  {
   "cell_type": "markdown",
   "metadata": {},
   "source": [
    "# Local Linguistic Alignment (LLA)\n",
    "\n",
    "\n",
    "Code in this notebook was developed to calculate local linguistic alignment for part of speech tags and bigrams as markers in the tagged tweet sets. "
   ]
  },
  {
   "cell_type": "code",
   "execution_count": 34,
   "metadata": {},
   "outputs": [],
   "source": [
    "import pandas as pd\n",
    "import sys\n",
    "import csv\n",
    "import numpy as np\n",
    "import matplotlib.pyplot as plt\n",
    "%matplotlib inline\n",
    "import re\n",
    "import seaborn as sns \n",
    "import scipy.stats as st\n",
    "import itertools\n",
    "\n",
    "import SCP_Code as scp\n",
    "\n",
    "from collections import Counter"
   ]
  },
  {
   "cell_type": "code",
   "execution_count": 3,
   "metadata": {},
   "outputs": [],
   "source": [
    "## To run when parsing pos tag results\n",
    "dataA = pd.read_csv('A_Tweets_Tagged.txt', sep='\\t', header=None)\n",
    "dataA.columns = ['Tokens', 'Tags', 'Conf','Raw Tweet']\n",
    "\n",
    "dataB = pd.read_csv('B_Tweets_Tagged.txt', sep='\\t', header=None)\n",
    "dataB.columns = ['Tokens', 'Tags', 'Conf','Raw Tweet']"
   ]
  },
  {
   "cell_type": "code",
   "execution_count": 6,
   "metadata": {},
   "outputs": [
    {
     "name": "stdout",
     "output_type": "stream",
     "text": [
      "326167 326167\n"
     ]
    }
   ],
   "source": [
    "dataA.drop(326167,axis = 0, inplace = True)\n",
    "print(len(dataA),len(dataB))"
   ]
  },
  {
   "cell_type": "code",
   "execution_count": 17,
   "metadata": {},
   "outputs": [],
   "source": [
    "# Fill empty tags\n",
    "dataA.fillna({'Tags':'B'}, inplace=True)\n",
    "dataB.fillna({'Tags':'B'}, inplace=True)"
   ]
  },
  {
   "cell_type": "code",
   "execution_count": 11,
   "metadata": {},
   "outputs": [],
   "source": [
    "markers = ['P','D','O','&','N','S','^','Z','L','V','A','R','!','T','X','Y','#','U','E','$',',','G']"
   ]
  },
  {
   "cell_type": "code",
   "execution_count": null,
   "metadata": {},
   "outputs": [],
   "source": [
    "def getTweetLen(tlist):\n",
    "    tagList = []\n",
    "    for sentence in tlist:\n",
    "        tokens = sentence.split()\n",
    "        tagList.append(len(tokens))\n",
    "    return tagList"
   ]
  },
  {
   "cell_type": "code",
   "execution_count": null,
   "metadata": {},
   "outputs": [],
   "source": [
    "#Create list of the length of tweets\n",
    "\n",
    "aCounts = getTweetLen(dataA.Tags)\n",
    "bCounts = getTweetLen(dataB.Tags)\n",
    "print(aCounts[0:5],'\\n',bCounts[0:5])"
   ]
  },
  {
   "cell_type": "code",
   "execution_count": 7,
   "metadata": {},
   "outputs": [],
   "source": [
    "#Check whether a tweet contains a marker; if not, return binary 1 or 0 to prevent \n",
    "# division by 0 in CalculateLLA function\n",
    "\n",
    "def checkMarkerPresence(marker,message):\n",
    "    presence = 0\n",
    "    if marker in message.split():\n",
    "        presence = 1\n",
    "    return presence"
   ]
  },
  {
   "cell_type": "code",
   "execution_count": 27,
   "metadata": {},
   "outputs": [],
   "source": [
    "def CalculateLLA(markers,TweetTagsA,TweetTagsB,twLengthA,twLengthB):\n",
    "    allLLA = {}\n",
    "    allTweets = len(TweetTagsA)\n",
    "    for mark in markers: \n",
    "        tempList = []\n",
    "        for index in range(allTweets):\n",
    "            ABool = checkMarkerPresence(mark,TweetTagsA[index]) \n",
    "            BCount = scp.countMarkers(mark,TweetTagsB[index]) # returns the correct counts of markers in tag list\n",
    "            if ABool == 0:\n",
    "                tempLLA = np.nan # instead of 'n/a' - string\n",
    "            else:\n",
    "                tempLLA = (BCount/(twLengthA[index] * twLengthB[index]))\n",
    "            tempList.append(tempLLA)\n",
    "        allLLA[mark] = tempList\n",
    "    return allLLA"
   ]
  },
  {
   "cell_type": "code",
   "execution_count": 13,
   "metadata": {},
   "outputs": [],
   "source": [
    "LLAScores= CalculateLLA(markers,dataA.Tags,dataB.Tags,aCounts,bCounts)"
   ]
  },
  {
   "cell_type": "code",
   "execution_count": 14,
   "metadata": {},
   "outputs": [
    {
     "data": {
      "text/html": [
       "<div>\n",
       "<style scoped>\n",
       "    .dataframe tbody tr th:only-of-type {\n",
       "        vertical-align: middle;\n",
       "    }\n",
       "\n",
       "    .dataframe tbody tr th {\n",
       "        vertical-align: top;\n",
       "    }\n",
       "\n",
       "    .dataframe thead th {\n",
       "        text-align: right;\n",
       "    }\n",
       "</style>\n",
       "<table border=\"1\" class=\"dataframe\">\n",
       "  <thead>\n",
       "    <tr style=\"text-align: right;\">\n",
       "      <th></th>\n",
       "      <th>P</th>\n",
       "      <th>D</th>\n",
       "      <th>O</th>\n",
       "      <th>&amp;</th>\n",
       "      <th>N</th>\n",
       "      <th>S</th>\n",
       "      <th>^</th>\n",
       "      <th>Z</th>\n",
       "      <th>L</th>\n",
       "      <th>V</th>\n",
       "      <th>...</th>\n",
       "      <th>!</th>\n",
       "      <th>T</th>\n",
       "      <th>X</th>\n",
       "      <th>Y</th>\n",
       "      <th>#</th>\n",
       "      <th>U</th>\n",
       "      <th>E</th>\n",
       "      <th>$</th>\n",
       "      <th>,</th>\n",
       "      <th>G</th>\n",
       "    </tr>\n",
       "  </thead>\n",
       "  <tbody>\n",
       "    <tr>\n",
       "      <th>0</th>\n",
       "      <td>0.008889</td>\n",
       "      <td>NaN</td>\n",
       "      <td>0.002963</td>\n",
       "      <td>0.0</td>\n",
       "      <td>0.004444</td>\n",
       "      <td>NaN</td>\n",
       "      <td>0.001481</td>\n",
       "      <td>NaN</td>\n",
       "      <td>0.0</td>\n",
       "      <td>0.013333</td>\n",
       "      <td>...</td>\n",
       "      <td>NaN</td>\n",
       "      <td>NaN</td>\n",
       "      <td>NaN</td>\n",
       "      <td>NaN</td>\n",
       "      <td>NaN</td>\n",
       "      <td>NaN</td>\n",
       "      <td>NaN</td>\n",
       "      <td>NaN</td>\n",
       "      <td>0.004444</td>\n",
       "      <td>NaN</td>\n",
       "    </tr>\n",
       "    <tr>\n",
       "      <th>1</th>\n",
       "      <td>0.002667</td>\n",
       "      <td>NaN</td>\n",
       "      <td>0.010667</td>\n",
       "      <td>0.0</td>\n",
       "      <td>0.002667</td>\n",
       "      <td>NaN</td>\n",
       "      <td>0.000000</td>\n",
       "      <td>NaN</td>\n",
       "      <td>0.0</td>\n",
       "      <td>0.010667</td>\n",
       "      <td>...</td>\n",
       "      <td>NaN</td>\n",
       "      <td>NaN</td>\n",
       "      <td>NaN</td>\n",
       "      <td>NaN</td>\n",
       "      <td>NaN</td>\n",
       "      <td>NaN</td>\n",
       "      <td>NaN</td>\n",
       "      <td>NaN</td>\n",
       "      <td>0.002667</td>\n",
       "      <td>NaN</td>\n",
       "    </tr>\n",
       "    <tr>\n",
       "      <th>2</th>\n",
       "      <td>0.000000</td>\n",
       "      <td>0.0</td>\n",
       "      <td>0.000000</td>\n",
       "      <td>NaN</td>\n",
       "      <td>0.000000</td>\n",
       "      <td>NaN</td>\n",
       "      <td>NaN</td>\n",
       "      <td>NaN</td>\n",
       "      <td>NaN</td>\n",
       "      <td>0.033333</td>\n",
       "      <td>...</td>\n",
       "      <td>0.0</td>\n",
       "      <td>NaN</td>\n",
       "      <td>NaN</td>\n",
       "      <td>NaN</td>\n",
       "      <td>NaN</td>\n",
       "      <td>NaN</td>\n",
       "      <td>0.0</td>\n",
       "      <td>NaN</td>\n",
       "      <td>0.033333</td>\n",
       "      <td>NaN</td>\n",
       "    </tr>\n",
       "    <tr>\n",
       "      <th>3</th>\n",
       "      <td>0.005013</td>\n",
       "      <td>NaN</td>\n",
       "      <td>0.012531</td>\n",
       "      <td>NaN</td>\n",
       "      <td>NaN</td>\n",
       "      <td>NaN</td>\n",
       "      <td>NaN</td>\n",
       "      <td>NaN</td>\n",
       "      <td>NaN</td>\n",
       "      <td>0.015038</td>\n",
       "      <td>...</td>\n",
       "      <td>NaN</td>\n",
       "      <td>NaN</td>\n",
       "      <td>NaN</td>\n",
       "      <td>NaN</td>\n",
       "      <td>NaN</td>\n",
       "      <td>NaN</td>\n",
       "      <td>NaN</td>\n",
       "      <td>NaN</td>\n",
       "      <td>0.007519</td>\n",
       "      <td>NaN</td>\n",
       "    </tr>\n",
       "    <tr>\n",
       "      <th>4</th>\n",
       "      <td>0.008117</td>\n",
       "      <td>NaN</td>\n",
       "      <td>0.003247</td>\n",
       "      <td>0.0</td>\n",
       "      <td>0.000000</td>\n",
       "      <td>NaN</td>\n",
       "      <td>0.006494</td>\n",
       "      <td>NaN</td>\n",
       "      <td>0.0</td>\n",
       "      <td>0.009740</td>\n",
       "      <td>...</td>\n",
       "      <td>0.0</td>\n",
       "      <td>NaN</td>\n",
       "      <td>NaN</td>\n",
       "      <td>NaN</td>\n",
       "      <td>NaN</td>\n",
       "      <td>NaN</td>\n",
       "      <td>NaN</td>\n",
       "      <td>NaN</td>\n",
       "      <td>0.003247</td>\n",
       "      <td>0.0</td>\n",
       "    </tr>\n",
       "  </tbody>\n",
       "</table>\n",
       "<p>5 rows × 22 columns</p>\n",
       "</div>"
      ],
      "text/plain": [
       "          P    D         O    &         N   S         ^   Z    L         V  \\\n",
       "0  0.008889  NaN  0.002963  0.0  0.004444 NaN  0.001481 NaN  0.0  0.013333   \n",
       "1  0.002667  NaN  0.010667  0.0  0.002667 NaN  0.000000 NaN  0.0  0.010667   \n",
       "2  0.000000  0.0  0.000000  NaN  0.000000 NaN       NaN NaN  NaN  0.033333   \n",
       "3  0.005013  NaN  0.012531  NaN       NaN NaN       NaN NaN  NaN  0.015038   \n",
       "4  0.008117  NaN  0.003247  0.0  0.000000 NaN  0.006494 NaN  0.0  0.009740   \n",
       "\n",
       "  ...     !   T   X   Y   #   U    E   $         ,    G  \n",
       "0 ...   NaN NaN NaN NaN NaN NaN  NaN NaN  0.004444  NaN  \n",
       "1 ...   NaN NaN NaN NaN NaN NaN  NaN NaN  0.002667  NaN  \n",
       "2 ...   0.0 NaN NaN NaN NaN NaN  0.0 NaN  0.033333  NaN  \n",
       "3 ...   NaN NaN NaN NaN NaN NaN  NaN NaN  0.007519  NaN  \n",
       "4 ...   0.0 NaN NaN NaN NaN NaN  NaN NaN  0.003247  0.0  \n",
       "\n",
       "[5 rows x 22 columns]"
      ]
     },
     "execution_count": 14,
     "metadata": {},
     "output_type": "execute_result"
    }
   ],
   "source": [
    "# dataframe represents alignment on a user-replier basis on the specified markers. \n",
    "\n",
    "LLAdf = pd.DataFrame.from_dict(LLAScores) \n",
    "LLAdf.head()"
   ]
  },
  {
   "cell_type": "code",
   "execution_count": 28,
   "metadata": {},
   "outputs": [
    {
     "data": {
      "image/png": "[encoded data removed]",
      "text/plain": [
       "<Figure size 432x288 with 1 Axes>"
      ]
     },
     "metadata": {},
     "output_type": "display_data"
    }
   ],
   "source": [
    "# Create boxplot of LLA marker alignment scores. Toggle 'showfliers' value to show outliers or \n",
    "# not. \n",
    "\n",
    "LLAdf.boxplot(column=markers)#,showfliers=False)\n",
    "plt.ylabel('LLA Score')\n",
    "plt.xlabel('POS Marker')\n",
    "plt.title('Local Linguistic Alignment (LLA) - POS Tags')\n",
    "plt.savefig('LLA_POS_boxplot_Outliers.png')"
   ]
  },
  {
   "cell_type": "markdown",
   "metadata": {},
   "source": [
    "# Bigrams"
   ]
  },
  {
   "cell_type": "code",
   "execution_count": 30,
   "metadata": {},
   "outputs": [],
   "source": [
    "# Import bigram code; created to generate and clean bigrams from tag set. \n",
    "\n",
    "import BigramCode as bi"
   ]
  },
  {
   "cell_type": "code",
   "execution_count": 31,
   "metadata": {},
   "outputs": [],
   "source": [
    "#sample = cleanuplist(sam)\n",
    "bigramsA = bi.AllBigramsinTweetset(dataA.Tags)\n",
    "\n",
    "bigramsB = bi.AllBigramsinTweetset(dataB.Tags)"
   ]
  },
  {
   "cell_type": "code",
   "execution_count": 32,
   "metadata": {},
   "outputs": [
    {
     "name": "stdout",
     "output_type": "stream",
     "text": [
      "[[['V', 'O'], ['O', 'V'], ['O', 'O'], ['O', 'N'], ['N', 'L'], ['L', 'V'], ['V', 'P'], ['P', ','], [',', 'V'], ['V', 'V'], ['P', '^'], ['^', 'P'], ['^', 'N'], ['N', '&'], ['&', 'V'], ['O', 'P'], ['P', 'V'], ['V', 'N'], ['N', ',']]] 326167\n"
     ]
    }
   ],
   "source": [
    "print(bigramsA[0:1],len(bigramsA))"
   ]
  },
  {
   "cell_type": "code",
   "execution_count": 33,
   "metadata": {},
   "outputs": [
    {
     "name": "stdout",
     "output_type": "stream",
     "text": [
      "A Bigrams:  [[('V', 'O'), ('O', 'V'), ('O', 'O'), ('O', 'N'), ('N', 'L'), ('L', 'V'), ('V', 'P'), ('P', ','), (',', 'V'), ('V', 'V'), ('P', '^'), ('^', 'P'), ('^', 'N'), ('N', '&'), ('&', 'V'), ('O', 'P'), ('P', 'V'), ('V', 'N'), ('N', ',')], [('V', 'O'), ('O', 'V'), ('O', 'O'), ('O', 'N'), ('N', 'L'), ('L', 'V'), ('V', 'P'), ('P', ','), (',', 'V'), ('V', 'V'), ('P', '^'), ('^', 'P'), ('^', 'N'), ('N', '&'), ('&', 'V'), ('O', 'P'), ('P', 'V'), ('V', 'N'), ('N', ',')]] \n",
      " B Bigrams:  [[('V', 'V'), ('V', 'P'), ('P', 'D'), ('D', 'N'), ('N', 'P'), ('P', 'O'), ('O', 'V'), ('V', 'N'), ('P', 'A'), ('A', ','), (',', 'V'), ('P', 'V'), ('V', 'O'), ('O', 'P'), ('P', ','), ('P', '^'), ('^', 'R'), ('R', ',')], [('!', ','), (',', 'O'), ('O', 'V'), ('V', 'V'), ('V', 'O'), ('O', 'D'), ('D', 'A'), ('A', 'N'), ('N', 'P'), ('P', 'O'), ('O', 'E')]]\n"
     ]
    }
   ],
   "source": [
    "# Convert list of bigrams to tuples \n",
    "\n",
    "tupleBigramsA = bi.convertToTuples(bigramsA)\n",
    "tupleBigramsB = bi.convertToTuples(bigramsB)\n",
    "print('A Bigrams: ',tupleBigramsA[0:2],'\\n B Bigrams: ',tupleBigramsB[0:2])"
   ]
  },
  {
   "cell_type": "code",
   "execution_count": 36,
   "metadata": {},
   "outputs": [
    {
     "data": {
      "text/plain": [
       "3815722"
      ]
     },
     "execution_count": 36,
     "metadata": {},
     "output_type": "execute_result"
    }
   ],
   "source": [
    "# First make list of lists by flattening: \n",
    "\n",
    "singleListBigramsA = [y for x in tupleBigramsA for y in x]\n",
    "len(singleListBigramsA)\n",
    "\n",
    "# Make single list of bigrams for b_tweets\n",
    "singleListBigramsB = [y for x in tupleBigramsB for y in x]\n",
    "len(singleListBigramsB)"
   ]
  },
  {
   "cell_type": "code",
   "execution_count": 37,
   "metadata": {},
   "outputs": [],
   "source": [
    "#Create list of All bigram counts to find top most frequently used. \n",
    "\n",
    "bigramsFreqA = Counter(singleListBigramsA)\n",
    "bigramsFreqB = Counter(singleListBigramsB)"
   ]
  },
  {
   "cell_type": "code",
   "execution_count": 40,
   "metadata": {},
   "outputs": [
    {
     "data": {
      "text/plain": [
       "487"
      ]
     },
     "execution_count": 40,
     "metadata": {},
     "output_type": "execute_result"
    }
   ],
   "source": [
    "len(totalBigramFreq)"
   ]
  },
  {
   "cell_type": "code",
   "execution_count": 80,
   "metadata": {},
   "outputs": [
    {
     "data": {
      "image/png": "[encoded data removed]",
      "text/plain": [
       "<Figure size 432x288 with 1 Axes>"
      ]
     },
     "metadata": {},
     "output_type": "display_data"
    }
   ],
   "source": [
    "# Create visualization of frequency counts of bigrams \n",
    "\n",
    "keys = totalBigramFreq.keys()\n",
    "#print(keys)\n",
    "y_pos = np.arange(len(keys))\n",
    "#print(y_pos[0:5])\n",
    "perf = [totalBigramFreq[k] for k in keys]\n",
    "\n",
    "\n",
    "plt.bar(y_pos,perf)\n",
    "#plt.xticks(y_pos,keys)\n",
    "plt.ylabel('Bigram Counts')\n",
    "plt.xlabel('Bigram Index')\n",
    "plt.title('Bigram Count Bar Graph')\n",
    "plt.savefig('BigramCount.png')\n",
    "plt.show()"
   ]
  },
  {
   "cell_type": "code",
   "execution_count": 39,
   "metadata": {},
   "outputs": [
    {
     "data": {
      "text/plain": [
       "[(('O', 'V'), 339790),\n",
       " (('N', ','), 329800),\n",
       " (('D', 'N'), 304439),\n",
       " (('V', 'O'), 223508),\n",
       " (('N', 'P'), 221975),\n",
       " (('A', 'N'), 217495),\n",
       " (('V', 'V'), 217285),\n",
       " (('V', 'P'), 212797),\n",
       " (('V', 'D'), 206326),\n",
       " (('P', 'D'), 185236)]"
      ]
     },
     "execution_count": 39,
     "metadata": {},
     "output_type": "execute_result"
    }
   ],
   "source": [
    "# Set the topBigrams to use as markers\n",
    "totalBigramFreq = bigramsFreqB+bigramsFreqA\n",
    "topBigrams = totalBigramFreq.most_common(30)\n",
    "topBigrams[0:10]"
   ]
  },
  {
   "cell_type": "code",
   "execution_count": 41,
   "metadata": {},
   "outputs": [
    {
     "name": "stdout",
     "output_type": "stream",
     "text": [
      "[('O', 'V'), ('N', ','), ('D', 'N'), ('V', 'O'), ('N', 'P'), ('A', 'N'), ('V', 'V'), ('V', 'P'), ('V', 'D'), ('P', 'D'), ('P', 'V'), ('R', 'V'), ('N', 'V'), (',', 'V'), ('D', 'A'), ('V', ','), ('V', 'R'), ('A', ','), (',', 'O'), ('N', 'N'), ('P', 'N'), ('P', 'O'), ('R', ','), ('V', 'A'), ('V', 'N'), ('!', ','), ('R', 'A'), ('O', ','), (',', 'R'), ('^', ',')]\n"
     ]
    }
   ],
   "source": [
    "# Take only the bigram, not count, as marker. \n",
    "\n",
    "markers = []\n",
    "for bigram,count in topBigrams:\n",
    "    markers.append(bigram)\n",
    "print(markers)"
   ]
  },
  {
   "cell_type": "code",
   "execution_count": 51,
   "metadata": {},
   "outputs": [],
   "source": [
    "# Below functions modify functions for POS for features unique to bigrams. \n",
    "\n",
    "def checkBigPresence(marker,message):\n",
    "    presence = 0\n",
    "    if marker in message: # For bigrams probably don't need to split\n",
    "        presence = 1\n",
    "    return presence\n",
    "\n",
    "# Find number of markers in messages\n",
    "def countBigs(marker, message_set):\n",
    "    tally = 0\n",
    "    for countItem in message_set:\n",
    "        #print('CountItem: ',countItem)\n",
    "        if marker == countItem:\n",
    "            tally+=1\n",
    "    return tally\n",
    "\n",
    "def getBigLLA(markers,TweetTagsA,TweetTagsB):\n",
    "    allLLA = {}\n",
    "    allTweets = len(TweetTagsA)\n",
    "    for mark in markers: \n",
    "        tempList = []\n",
    "        for index in range(allTweets):\n",
    "            ABool = checkBigPresence(mark,TweetTagsA[index]) \n",
    "            BBool = checkBigPresence(mark,TweetTagsB[index])\n",
    "            BCount = countBigs(mark,TweetTagsB[index]) \n",
    "            if ABool == 0 or BBool == 0:\n",
    "                tempLLA = np.nan\n",
    "            else:\n",
    "                tempLLA = (BCount/(len(TweetTagsA[index]) * len(TweetTagsB[index])))\n",
    "            tempList.append(tempLLA)\n",
    "        allLLA[mark] = tempList\n",
    "    return allLLA"
   ]
  },
  {
   "cell_type": "code",
   "execution_count": 36,
   "metadata": {
    "scrolled": true
   },
   "outputs": [],
   "source": [
    "LLAScoreBig = getBigLLA(markers,tupleBigramsA,tupleBigramsB)\n",
    "#LLAScoreBig"
   ]
  },
  {
   "cell_type": "code",
   "execution_count": 53,
   "metadata": {},
   "outputs": [
    {
     "data": {
      "text/html": [
       "<div>\n",
       "<style scoped>\n",
       "    .dataframe tbody tr th:only-of-type {\n",
       "        vertical-align: middle;\n",
       "    }\n",
       "\n",
       "    .dataframe tbody tr th {\n",
       "        vertical-align: top;\n",
       "    }\n",
       "\n",
       "    .dataframe thead tr th {\n",
       "        text-align: left;\n",
       "    }\n",
       "</style>\n",
       "<table border=\"1\" class=\"dataframe\">\n",
       "  <thead>\n",
       "    <tr>\n",
       "      <th></th>\n",
       "      <th>O</th>\n",
       "      <th>N</th>\n",
       "      <th>D</th>\n",
       "      <th>V</th>\n",
       "      <th>N</th>\n",
       "      <th>A</th>\n",
       "      <th colspan=\"3\" halign=\"left\">V</th>\n",
       "      <th colspan=\"4\" halign=\"left\">P</th>\n",
       "      <th>R</th>\n",
       "      <th colspan=\"2\" halign=\"left\">V</th>\n",
       "      <th>!</th>\n",
       "      <th>R</th>\n",
       "      <th>O</th>\n",
       "      <th>,</th>\n",
       "      <th>^</th>\n",
       "    </tr>\n",
       "    <tr>\n",
       "      <th></th>\n",
       "      <th>V</th>\n",
       "      <th>,</th>\n",
       "      <th>N</th>\n",
       "      <th>O</th>\n",
       "      <th>P</th>\n",
       "      <th>N</th>\n",
       "      <th>V</th>\n",
       "      <th>P</th>\n",
       "      <th>D</th>\n",
       "      <th>D</th>\n",
       "      <th>...</th>\n",
       "      <th>N</th>\n",
       "      <th>O</th>\n",
       "      <th>,</th>\n",
       "      <th>A</th>\n",
       "      <th>N</th>\n",
       "      <th>,</th>\n",
       "      <th>A</th>\n",
       "      <th>,</th>\n",
       "      <th>R</th>\n",
       "      <th>,</th>\n",
       "    </tr>\n",
       "  </thead>\n",
       "  <tbody>\n",
       "    <tr>\n",
       "      <th>0</th>\n",
       "      <td>0.002924</td>\n",
       "      <td>NaN</td>\n",
       "      <td>NaN</td>\n",
       "      <td>0.002924</td>\n",
       "      <td>NaN</td>\n",
       "      <td>NaN</td>\n",
       "      <td>0.002924</td>\n",
       "      <td>0.002924</td>\n",
       "      <td>NaN</td>\n",
       "      <td>NaN</td>\n",
       "      <td>...</td>\n",
       "      <td>NaN</td>\n",
       "      <td>NaN</td>\n",
       "      <td>NaN</td>\n",
       "      <td>NaN</td>\n",
       "      <td>0.002924</td>\n",
       "      <td>NaN</td>\n",
       "      <td>NaN</td>\n",
       "      <td>NaN</td>\n",
       "      <td>NaN</td>\n",
       "      <td>NaN</td>\n",
       "    </tr>\n",
       "    <tr>\n",
       "      <th>1</th>\n",
       "      <td>0.004785</td>\n",
       "      <td>NaN</td>\n",
       "      <td>NaN</td>\n",
       "      <td>0.004785</td>\n",
       "      <td>NaN</td>\n",
       "      <td>NaN</td>\n",
       "      <td>0.004785</td>\n",
       "      <td>NaN</td>\n",
       "      <td>NaN</td>\n",
       "      <td>NaN</td>\n",
       "      <td>...</td>\n",
       "      <td>NaN</td>\n",
       "      <td>NaN</td>\n",
       "      <td>NaN</td>\n",
       "      <td>NaN</td>\n",
       "      <td>NaN</td>\n",
       "      <td>NaN</td>\n",
       "      <td>NaN</td>\n",
       "      <td>NaN</td>\n",
       "      <td>NaN</td>\n",
       "      <td>NaN</td>\n",
       "    </tr>\n",
       "    <tr>\n",
       "      <th>2</th>\n",
       "      <td>NaN</td>\n",
       "      <td>NaN</td>\n",
       "      <td>NaN</td>\n",
       "      <td>NaN</td>\n",
       "      <td>NaN</td>\n",
       "      <td>NaN</td>\n",
       "      <td>NaN</td>\n",
       "      <td>NaN</td>\n",
       "      <td>NaN</td>\n",
       "      <td>NaN</td>\n",
       "      <td>...</td>\n",
       "      <td>NaN</td>\n",
       "      <td>NaN</td>\n",
       "      <td>NaN</td>\n",
       "      <td>NaN</td>\n",
       "      <td>NaN</td>\n",
       "      <td>NaN</td>\n",
       "      <td>NaN</td>\n",
       "      <td>NaN</td>\n",
       "      <td>NaN</td>\n",
       "      <td>NaN</td>\n",
       "    </tr>\n",
       "    <tr>\n",
       "      <th>3</th>\n",
       "      <td>0.005952</td>\n",
       "      <td>NaN</td>\n",
       "      <td>NaN</td>\n",
       "      <td>0.005952</td>\n",
       "      <td>NaN</td>\n",
       "      <td>NaN</td>\n",
       "      <td>0.005952</td>\n",
       "      <td>NaN</td>\n",
       "      <td>NaN</td>\n",
       "      <td>NaN</td>\n",
       "      <td>...</td>\n",
       "      <td>NaN</td>\n",
       "      <td>NaN</td>\n",
       "      <td>0.005952</td>\n",
       "      <td>0.005952</td>\n",
       "      <td>NaN</td>\n",
       "      <td>NaN</td>\n",
       "      <td>NaN</td>\n",
       "      <td>NaN</td>\n",
       "      <td>NaN</td>\n",
       "      <td>NaN</td>\n",
       "    </tr>\n",
       "    <tr>\n",
       "      <th>4</th>\n",
       "      <td>0.002193</td>\n",
       "      <td>NaN</td>\n",
       "      <td>NaN</td>\n",
       "      <td>NaN</td>\n",
       "      <td>NaN</td>\n",
       "      <td>NaN</td>\n",
       "      <td>0.002193</td>\n",
       "      <td>0.002193</td>\n",
       "      <td>NaN</td>\n",
       "      <td>NaN</td>\n",
       "      <td>...</td>\n",
       "      <td>NaN</td>\n",
       "      <td>0.002193</td>\n",
       "      <td>NaN</td>\n",
       "      <td>NaN</td>\n",
       "      <td>NaN</td>\n",
       "      <td>NaN</td>\n",
       "      <td>NaN</td>\n",
       "      <td>NaN</td>\n",
       "      <td>NaN</td>\n",
       "      <td>NaN</td>\n",
       "    </tr>\n",
       "  </tbody>\n",
       "</table>\n",
       "<p>5 rows × 30 columns</p>\n",
       "</div>"
      ],
      "text/plain": [
       "          O   N   D         V   N   A         V                 P ...      \\\n",
       "          V   ,   N         O   P   N         V         P   D   D ...   N   \n",
       "0  0.002924 NaN NaN  0.002924 NaN NaN  0.002924  0.002924 NaN NaN ... NaN   \n",
       "1  0.004785 NaN NaN  0.004785 NaN NaN  0.004785       NaN NaN NaN ... NaN   \n",
       "2       NaN NaN NaN       NaN NaN NaN       NaN       NaN NaN NaN ... NaN   \n",
       "3  0.005952 NaN NaN  0.005952 NaN NaN  0.005952       NaN NaN NaN ... NaN   \n",
       "4  0.002193 NaN NaN       NaN NaN NaN  0.002193  0.002193 NaN NaN ... NaN   \n",
       "\n",
       "                    R         V             !   R   O   ,   ^  \n",
       "          O         ,         A         N   ,   A   ,   R   ,  \n",
       "0       NaN       NaN       NaN  0.002924 NaN NaN NaN NaN NaN  \n",
       "1       NaN       NaN       NaN       NaN NaN NaN NaN NaN NaN  \n",
       "2       NaN       NaN       NaN       NaN NaN NaN NaN NaN NaN  \n",
       "3       NaN  0.005952  0.005952       NaN NaN NaN NaN NaN NaN  \n",
       "4  0.002193       NaN       NaN       NaN NaN NaN NaN NaN NaN  \n",
       "\n",
       "[5 rows x 30 columns]"
      ]
     },
     "execution_count": 53,
     "metadata": {},
     "output_type": "execute_result"
    }
   ],
   "source": [
    "LLABigdf = pd.DataFrame.from_dict(LLAScoreBig) \n",
    "LLABigdf.head()"
   ]
  },
  {
   "cell_type": "code",
   "execution_count": 58,
   "metadata": {},
   "outputs": [
    {
     "data": {
      "image/png": "[encoded data removed]",
      "text/plain": [
       "<Figure size 1080x360 with 1 Axes>"
      ]
     },
     "metadata": {},
     "output_type": "display_data"
    }
   ],
   "source": [
    "# Create boxplot to show range of alignment scores for bigram markers\n",
    "\n",
    "LLABigdf.boxplot(column=markers,figsize = (15,5))\n",
    "plt.ylabel('LLA Score')\n",
    "plt.xlabel('Bigram Marker')\n",
    "plt.title('Local Linguistic Alignment (LLA) - Bigrams')\n",
    "plt.savefig('LLA_Bigram_boxplot_Outliers.png')"
   ]
  },
  {
   "cell_type": "code",
   "execution_count": null,
   "metadata": {},
   "outputs": [],
   "source": []
  }
 ],
 "metadata": {
  "kernelspec": {
   "display_name": "Python 3",
   "language": "python",
   "name": "python3"
  },
  "language_info": {
   "codemirror_mode": {
    "name": "ipython",
    "version": 3
   },
   "file_extension": ".py",
   "mimetype": "text/x-python",
   "name": "python",
   "nbconvert_exporter": "python",
   "pygments_lexer": "ipython3",
   "version": "3.6.5"
  }
 },
 "nbformat": 4,
 "nbformat_minor": 2
}
