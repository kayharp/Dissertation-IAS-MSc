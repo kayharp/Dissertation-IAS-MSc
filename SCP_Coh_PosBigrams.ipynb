{
 "cells": [
  {
   "cell_type": "markdown",
   "metadata": {},
   "source": [
    "## Get SCP calculations for POS tags and Bigrams as alignment features\n",
    "\n",
    "This notebook was primarily experimental in determining the correct functions to represent SCP cohesion and accommodation scores to put into a .py file for easy access across further experiments. Results for POS tags and SCP cohesion measure generated here as well."
   ]
  },
  {
   "cell_type": "code",
   "execution_count": 1,
   "metadata": {},
   "outputs": [],
   "source": [
    "import pandas as pd\n",
    "import sys\n",
    "import csv\n",
    "import numpy as np\n",
    "import matplotlib.pyplot as plt\n",
    "%matplotlib inline\n",
    "import re\n",
    "import seaborn as sns \n",
    "import random\n",
    "\n",
    "# Import the tweet tagger from working directory\n",
    "import CMUTweetTaggerWindows as tagger\n",
    "from collections import Counter"
   ]
  },
  {
   "cell_type": "code",
   "execution_count": 5,
   "metadata": {},
   "outputs": [],
   "source": [
    "## To run when parsing pos tags, generating bigrams, or getting sentiment from tokens\n",
    "dataA = pd.read_csv('A_Tweets_Tagged.txt', sep='\\t', header=None)\n",
    "dataA.columns = ['Tokens', 'Tags', 'Conf','Raw Tweet']\n",
    "\n",
    "dataB = pd.read_csv('B_Tweets_Tagged.txt', sep='\\t', header=None)\n",
    "dataB.columns = ['Tokens', 'Tags', 'Conf','Raw Tweet']"
   ]
  },
  {
   "cell_type": "markdown",
   "metadata": {},
   "source": [
    "### POS Tags"
   ]
  },
  {
   "cell_type": "code",
   "execution_count": 43,
   "metadata": {},
   "outputs": [
    {
     "name": "stdout",
     "output_type": "stream",
     "text": [
      "326167 326167\n"
     ]
    }
   ],
   "source": [
    "# Generate counter dictionaries for each tweet's part of speech tags\n",
    "\n",
    "countdictA = []\n",
    "for tags in dataA.Tags: \n",
    "    count = Counter(tags)\n",
    "    countdictA.append(count)\n",
    "    \n",
    "countdictB = []\n",
    "for tags in dataB.Tags: \n",
    "    count = Counter(tags)\n",
    "    countdictB.append(count)\n",
    "    \n",
    "print(len(countdictA),len(countdictB))"
   ]
  },
  {
   "cell_type": "code",
   "execution_count": 12,
   "metadata": {
    "scrolled": true
   },
   "outputs": [],
   "source": [
    "## When importing data again, need to fill blank tag data with 'B' -- not in tagset so 'null'\n",
    "nan_rows = dataA[dataA['Tags'].isnull()]\n",
    "dataA.fillna({'Tags':'B'}, inplace=True)\n",
    "dataB.fillna({'Tags':'B'}, inplace=True)"
   ]
  },
  {
   "cell_type": "code",
   "execution_count": 35,
   "metadata": {},
   "outputs": [
    {
     "data": {
      "text/plain": [
       "326167"
      ]
     },
     "execution_count": 35,
     "metadata": {},
     "output_type": "execute_result"
    }
   ],
   "source": [
    "# Delete last item from countdictA to even out conversational turns\n",
    "\n",
    "del(countdictA[326167])\n",
    "len(countdictA)"
   ]
  },
  {
   "cell_type": "code",
   "execution_count": 1,
   "metadata": {},
   "outputs": [],
   "source": [
    "# Import .py code file containing functions relevent to this measure (SCP): SCP_Code.py\n",
    "import SCP_Code as scp"
   ]
  },
  {
   "cell_type": "code",
   "execution_count": null,
   "metadata": {},
   "outputs": [],
   "source": [
    "# Create list of list of shared markers between atweets and btweets\n",
    "\n",
    "markerdict = scp.getSharedMarkers(countdictA,countdictB)"
   ]
  },
  {
   "cell_type": "code",
   "execution_count": 19,
   "metadata": {},
   "outputs": [
    {
     "name": "stdout",
     "output_type": "stream",
     "text": [
      "[['V', 'O', 'N', 'P', ',', '^', ''], ['V', 'O', 'N', 'P', ',', '^', ''], [',', 'V', ''], ['R', 'V', 'O', 'P', 'A', ',', ''], [',', 'O', 'V', 'R', '^', 'P', 'A', '']]\n"
     ]
    }
   ],
   "source": [
    "# markerdict = sharedtags2.txt - sep = '|'\n",
    "# Load previously generated list of shared tags, saved as csv instead of running above code. \n",
    "\n",
    "with open ('sharedtags2.csv','r') as file: \n",
    "    reader = csv.reader(file, delimiter = '|')\n",
    "    markerdict = list(reader)\n",
    "    \n",
    "print(markerdict[0:5])"
   ]
  },
  {
   "cell_type": "code",
   "execution_count": 20,
   "metadata": {},
   "outputs": [
    {
     "data": {
      "text/plain": [
       "326167"
      ]
     },
     "execution_count": 20,
     "metadata": {},
     "output_type": "execute_result"
    }
   ],
   "source": [
    "len(markerdict)"
   ]
  },
  {
   "cell_type": "code",
   "execution_count": 21,
   "metadata": {},
   "outputs": [],
   "source": [
    "# Scramble replies in countdictB for random control and baseline\n",
    "shuffledCountDictB = random.sample(countdictB,len(countdictB))\n",
    "\n",
    "#Get shared markers\n",
    "shuffledMarkers = scp.getSharedMarkers(countdictA,shuffledCountDictB)"
   ]
  },
  {
   "cell_type": "code",
   "execution_count": 46,
   "metadata": {},
   "outputs": [
    {
     "data": {
      "text/plain": [
       "326167"
      ]
     },
     "execution_count": 46,
     "metadata": {},
     "output_type": "execute_result"
    }
   ],
   "source": [
    "len(shuffledCountDictB)"
   ]
  },
  {
   "cell_type": "code",
   "execution_count": 70,
   "metadata": {},
   "outputs": [
    {
     "data": {
      "text/plain": [
       "23"
      ]
     },
     "execution_count": 70,
     "metadata": {},
     "output_type": "execute_result"
    }
   ],
   "source": [
    "# Set marks as part of speech tags\n",
    "\n",
    "marks = ['P','D','O','&','N','S','^','Z','L','M','V','A','R','!','T','X','Y','#','U','E','$',',','G']\n",
    "len(marks)"
   ]
  },
  {
   "cell_type": "code",
   "execution_count": 78,
   "metadata": {},
   "outputs": [
    {
     "data": {
      "text/plain": [
       "{'P': [0.49723914436469663, 0.47176446421618373, 0.025474680148512896],\n",
       " 'D': [0.41858311846385443, 0.39632151627847084, 0.02226160218538359],\n",
       " 'O': [0.4847854013434836, 0.4631277842332302, 0.02165761711025338],\n",
       " '&': [0.09306582210953285, 0.0799161165905809, 0.013149705518951949],\n",
       " 'N': [0.6676365174895069, 0.6485910591813396, 0.019045458308167285],\n",
       " 'S': [0.00010117516486953002, 4.2922797217376376e-05, 5.8252367652153646e-05],\n",
       " '^': [0.1241449932090003, 0.09080317751335971, 0.033341815695640584],\n",
       " 'Z': [0.0007572807794779975, 0.00013490021982604005, 0.0006223805596519574],\n",
       " 'L': [0.08928861595440372, 0.07608678989597353, 0.013201826058430191],\n",
       " 'M': [0.0, 0.0, 0.0],\n",
       " 'V': [0.7554013741426938, 0.7396027188526123, 0.01579865529008151],\n",
       " 'A': [0.38877016988229957, 0.35874873914283173, 0.030021430739467836],\n",
       " 'R': [0.365748221003351, 0.342625096959533, 0.023123124043818],\n",
       " '!': [0.08445366943927497, 0.07020943259127993, 0.014244236847995043],\n",
       " 'T': [0.00804802447825807, 0.00541747019165029, 0.0026305542866077794],\n",
       " 'X': [0.0009351037965214139, 0.0004384257144346301, 0.0004966780820867837],\n",
       " 'Y': [0.0, 0.0, 0.0],\n",
       " '#': [0.01379661339129955, 0.0017077141464341887, 0.01208889924486536],\n",
       " 'U': [0.0018947349057384713, 0.0007327534667823538, 0.0011619814389561174],\n",
       " 'E': [0.07276333902571382, 0.03885126330989953, 0.03391207571581429],\n",
       " '$': [0.024766453994426167, 0.014023491033734252, 0.010742962960691915],\n",
       " ',': [0.7858121759712049, 0.7651448491110382, 0.0206673268601667],\n",
       " 'G': [0.0027041362246947114, 0.001272354346086514, 0.0014317818786081975]}"
      ]
     },
     "execution_count": 78,
     "metadata": {},
     "output_type": "execute_result"
    }
   ],
   "source": [
    "allCohesionScores = scp.CalculateAllCohesion(marks,markerdict,shuffledSharedMarkers)\n",
    "allCohesionScores"
   ]
  },
  {
   "cell_type": "code",
   "execution_count": null,
   "metadata": {
    "scrolled": true
   },
   "outputs": [],
   "source": [
    "CohesionDF = pd.DataFrame.from_dict(allCohesionScores,orient = 'index')#,columns = ['TweetReply Cohesion', 'RandomReply Cohesion',\n",
    "                                                   #   'Subtractive Cohesion Score'])\n",
    "CohesionDF.head()"
   ]
  },
  {
   "cell_type": "code",
   "execution_count": 159,
   "metadata": {},
   "outputs": [
    {
     "data": {
      "text/html": [
       "<div>\n",
       "<style scoped>\n",
       "    .dataframe tbody tr th:only-of-type {\n",
       "        vertical-align: middle;\n",
       "    }\n",
       "\n",
       "    .dataframe tbody tr th {\n",
       "        vertical-align: top;\n",
       "    }\n",
       "\n",
       "    .dataframe thead th {\n",
       "        text-align: right;\n",
       "    }\n",
       "</style>\n",
       "<table border=\"1\" class=\"dataframe\">\n",
       "  <thead>\n",
       "    <tr style=\"text-align: right;\">\n",
       "      <th></th>\n",
       "      <th>TweetReply Cohesion</th>\n",
       "      <th>RandomReply Cohesion</th>\n",
       "      <th>Subtractive Cohesion Score</th>\n",
       "    </tr>\n",
       "  </thead>\n",
       "  <tbody>\n",
       "    <tr>\n",
       "      <th>P</th>\n",
       "      <td>0.497239</td>\n",
       "      <td>0.471764</td>\n",
       "      <td>0.025475</td>\n",
       "    </tr>\n",
       "    <tr>\n",
       "      <th>D</th>\n",
       "      <td>0.418583</td>\n",
       "      <td>0.396322</td>\n",
       "      <td>0.022262</td>\n",
       "    </tr>\n",
       "    <tr>\n",
       "      <th>O</th>\n",
       "      <td>0.484785</td>\n",
       "      <td>0.463128</td>\n",
       "      <td>0.021658</td>\n",
       "    </tr>\n",
       "    <tr>\n",
       "      <th>&amp;</th>\n",
       "      <td>0.093066</td>\n",
       "      <td>0.079916</td>\n",
       "      <td>0.013150</td>\n",
       "    </tr>\n",
       "    <tr>\n",
       "      <th>N</th>\n",
       "      <td>0.667637</td>\n",
       "      <td>0.648591</td>\n",
       "      <td>0.019045</td>\n",
       "    </tr>\n",
       "  </tbody>\n",
       "</table>\n",
       "</div>"
      ],
      "text/plain": [
       "   TweetReply Cohesion  RandomReply Cohesion  Subtractive Cohesion Score\n",
       "P             0.497239              0.471764                    0.025475\n",
       "D             0.418583              0.396322                    0.022262\n",
       "O             0.484785              0.463128                    0.021658\n",
       "&             0.093066              0.079916                    0.013150\n",
       "N             0.667637              0.648591                    0.019045"
      ]
     },
     "execution_count": 159,
     "metadata": {},
     "output_type": "execute_result"
    }
   ],
   "source": [
    "CohesionDF.columns = ['TweetReply Cohesion', 'RandomReply Cohesion','Subtractive Cohesion Score']\n",
    "CohesionDF.head()"
   ]
  },
  {
   "cell_type": "code",
   "execution_count": null,
   "metadata": {
    "scrolled": false
   },
   "outputs": [],
   "source": [
    "CohesionToPlot = CohesionDF.copy()\n",
    "CohesionToPlot.drop(['TweetReply Cohesion'],axis = 1, inplace = True)\n",
    "CohesionToPlot.drop(['RandomReply Cohesion'],axis = 1, inplace = True)\n",
    "CohesionToPlot"
   ]
  },
  {
   "cell_type": "code",
   "execution_count": 88,
   "metadata": {},
   "outputs": [],
   "source": [
    "# Write dataframe to latex\n",
    "with open ('CohesionTable.tex','w') as tf:\n",
    "    tf.write(CohesionDF.to_latex())"
   ]
  },
  {
   "cell_type": "code",
   "execution_count": 111,
   "metadata": {},
   "outputs": [
    {
     "data": {
      "image/png": "[encoded data removed]",
      "text/plain": [
       "<Figure size 1440x720 with 1 Axes>"
      ]
     },
     "metadata": {},
     "output_type": "display_data"
    }
   ],
   "source": [
    "# Visualize dataframe to horizontal bar chart\n",
    "plot1 = CohesionToPlot.plot(kind = 'barh', stacked = True,figsize = (20,10))\n",
    "                    \n",
    "#plot1.tick_params(labelbottom=False, bottom=False,which='both')\n",
    "plt.xlabel('SCP Score')\n",
    "plt.ylabel('Part of Speech Marker')\n",
    "plt.title('Subtractive Global Alignment')\n",
    "plt.savefig('SubtractiveGlobalAlignment')"
   ]
  },
  {
   "cell_type": "code",
   "execution_count": 117,
   "metadata": {},
   "outputs": [
    {
     "data": {
      "image/png": "[encoded data removed]",
      "text/plain": [
       "<Figure size 432x288 with 1 Axes>"
      ]
     },
     "metadata": {},
     "output_type": "display_data"
    }
   ],
   "source": [
    "# Plot just the subtractive score. \n",
    "# Visualize dataframe to horizontal bar chart\n",
    "plot1 = CohesionToPlot.plot(kind = 'barh',legend = False)#,figsize = (20,10))\n",
    "                    \n",
    "#plot1.tick_params(labelbottom=False, bottom=False,which='both')\n",
    "plt.xlabel('SCP Score')\n",
    "plt.ylabel('Part of Speech Marker')\n",
    "plt.title('Subtractive Global Alignment')\n",
    "plt.savefig('SubtractiveGlobalAlignment_JustDiffScore_ShowsClearestResults')"
   ]
  },
  {
   "cell_type": "markdown",
   "metadata": {},
   "source": [
    "## Bigrams"
   ]
  },
  {
   "cell_type": "code",
   "execution_count": 2,
   "metadata": {},
   "outputs": [],
   "source": [
    "\n",
    "bigramsA = bi.AllBigramsinTweetset(dataA.Tags)\n",
    "\n",
    "bigramsB = bi.AllBigramsinTweetset(dataB.Tags)"
   ]
  },
  {
   "cell_type": "code",
   "execution_count": null,
   "metadata": {},
   "outputs": [],
   "source": [
    "tupleBigramsA = bi.convertToTuples(bigramsA)\n",
    "tupleBigramsB = bi.convertToTuples(bigramsB)"
   ]
  },
  {
   "cell_type": "code",
   "execution_count": null,
   "metadata": {},
   "outputs": [],
   "source": [
    "# Scramble replies in tupleBigramsB for random \n",
    "\n",
    "shuffledB = random.sample(tupleBigramsB,len(tupleBigramsB))\n",
    "print(shuffledB[0:2])"
   ]
  },
  {
   "cell_type": "code",
   "execution_count": null,
   "metadata": {},
   "outputs": [],
   "source": [
    "# First make list of lists by flattening: \n",
    "\n",
    "singleListBigramsA = [y for x in tupleBigramsA for y in x]\n",
    "singleListBigramsB = [y for x in tupleBigramsB for y in x]\n",
    "\n",
    "print(len(singleListBigramsA),len(singleListBigramsB))"
   ]
  },
  {
   "cell_type": "code",
   "execution_count": null,
   "metadata": {},
   "outputs": [],
   "source": [
    "bigramsFreqA = Counter(singleListBigramsA)\n",
    "bigramsFreqB = Counter(singleListBigramsB)\n",
    "\n",
    "# Set the topBigrams to use as markers\n",
    "totalBigramFreq = bigramsFreqB+bigramsFreqA\n",
    "topBigrams = totalBigramFreq.most_common(50)\n",
    "topBigrams[0:10]"
   ]
  },
  {
   "cell_type": "code",
   "execution_count": null,
   "metadata": {},
   "outputs": [],
   "source": [
    "topBigramsOnly = [item[0] for item in topBigrams]\n",
    "topBigramsOnly[0]"
   ]
  },
  {
   "cell_type": "code",
   "execution_count": null,
   "metadata": {},
   "outputs": [],
   "source": [
    "sharedBigAB = scp.getSharedMarkers(tupleBigramsA,tupleBigramsB)\n",
    "sharedBigARand = scp.getSharedMarkers(tupleBigramsA,shuffledB)"
   ]
  },
  {
   "cell_type": "code",
   "execution_count": null,
   "metadata": {},
   "outputs": [],
   "source": [
    "AllBiCohesion = scp.CalculateAllCohesion(markers,sharedAB,sharedARand)"
   ]
  },
  {
   "cell_type": "code",
   "execution_count": null,
   "metadata": {},
   "outputs": [],
   "source": [
    "CohesionBiDF = pd.DataFrame.from_dict(AllBiCohesion,orient = 'index')\n",
    "CohesionBiDF.columns = ['TweetReply Minuend', 'RandomReply Subtrahend','Subtractive Cohesion']\n",
    "CohesionBiDF.head()"
   ]
  },
  {
   "cell_type": "code",
   "execution_count": null,
   "metadata": {},
   "outputs": [],
   "source": [
    "CohesionToPlot2 = CohesionBiDF.copy()\n",
    "CohesionToPlot2.drop(['TweetReply Minuend'],axis = 1, inplace = True)\n",
    "CohesionToPlot.drop(['RandomReply Subtrahend'],axis = 1, inplace = True)"
   ]
  },
  {
   "cell_type": "code",
   "execution_count": null,
   "metadata": {},
   "outputs": [],
   "source": [
    "# Visualize dataframe to horizontal bar chart\n",
    "plot1 = CohesionToPlot.sort_values('Subtractive Cohesion').plot(kind = 'barh', stacked = True,figsize = (20,10))\n",
    "                    \n",
    "#plot1.tick_params(labelbottom=False, bottom=False,which='both')\n",
    "plt.xlabel('SCP Score')\n",
    "plt.ylabel('Bigram Marker')\n",
    "plt.title('Subtractive Global Alignment')\n",
    "plt.savefig('BigramSCP')"
   ]
  },
  {
   "cell_type": "code",
   "execution_count": null,
   "metadata": {},
   "outputs": [],
   "source": []
  }
 ],
 "metadata": {
  "kernelspec": {
   "display_name": "Python 3",
   "language": "python",
   "name": "python3"
  },
  "language_info": {
   "codemirror_mode": {
    "name": "ipython",
    "version": 3
   },
   "file_extension": ".py",
   "mimetype": "text/x-python",
   "name": "python",
   "nbconvert_exporter": "python",
   "pygments_lexer": "ipython3",
   "version": "3.6.5"
  }
 },
 "nbformat": 4,
 "nbformat_minor": 2
}
